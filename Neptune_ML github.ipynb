{
 "cells": [
  {
   "cell_type": "code",
   "execution_count": 1,
   "id": "c7135cb0",
   "metadata": {},
   "outputs": [],
   "source": [
    "import pandas as pd\n",
    "import seaborn as sns\n",
    "from matplotlib import pyplot\n",
    "import matplotlib.pyplot as plt\n",
    "import sklearn\n",
    "import numpy as np\n",
    "from sklearn.model_selection import train_test_split\n",
    "from sklearn.ensemble import RandomForestClassifier\n",
    "from sklearn.inspection import permutation_importance"
   ]
  },
  {
   "cell_type": "code",
   "execution_count": 42,
   "id": "58594c7b",
   "metadata": {},
   "outputs": [],
   "source": [
    "focal_adhesion = pd.read_csv(\"Book3.csv\")"
   ]
  },
  {
   "cell_type": "code",
   "execution_count": 43,
   "id": "d74caa80",
   "metadata": {},
   "outputs": [
    {
     "data": {
      "text/html": [
       "<div>\n",
       "<style scoped>\n",
       "    .dataframe tbody tr th:only-of-type {\n",
       "        vertical-align: middle;\n",
       "    }\n",
       "\n",
       "    .dataframe tbody tr th {\n",
       "        vertical-align: top;\n",
       "    }\n",
       "\n",
       "    .dataframe thead th {\n",
       "        text-align: right;\n",
       "    }\n",
       "</style>\n",
       "<table border=\"1\" class=\"dataframe\">\n",
       "  <thead>\n",
       "    <tr style=\"text-align: right;\">\n",
       "      <th></th>\n",
       "      <th>Unnamed: 0</th>\n",
       "      <th>X7791_at</th>\n",
       "      <th>X1398_at</th>\n",
       "      <th>X1284_at</th>\n",
       "      <th>X3675_at</th>\n",
       "      <th>X1282_at</th>\n",
       "      <th>X7424_at</th>\n",
       "      <th>X5159_at</th>\n",
       "      <th>X2321_at</th>\n",
       "      <th>X2324_at</th>\n",
       "      <th>...</th>\n",
       "      <th>X5154_at</th>\n",
       "      <th>X5155_at</th>\n",
       "      <th>X2885_at</th>\n",
       "      <th>X595_at</th>\n",
       "      <th>X5295_at</th>\n",
       "      <th>X329_at</th>\n",
       "      <th>Disease</th>\n",
       "      <th>ID</th>\n",
       "      <th>Disease2</th>\n",
       "      <th>Nephrotic</th>\n",
       "    </tr>\n",
       "  </thead>\n",
       "  <tbody>\n",
       "    <tr>\n",
       "      <th>0</th>\n",
       "      <td>1</td>\n",
       "      <td>6.616270</td>\n",
       "      <td>6.650780</td>\n",
       "      <td>6.212293</td>\n",
       "      <td>10.158111</td>\n",
       "      <td>6.542626</td>\n",
       "      <td>5.965278</td>\n",
       "      <td>7.573721</td>\n",
       "      <td>7.400331</td>\n",
       "      <td>5.616704</td>\n",
       "      <td>...</td>\n",
       "      <td>6.348953</td>\n",
       "      <td>4.910223</td>\n",
       "      <td>7.497142</td>\n",
       "      <td>8.763867</td>\n",
       "      <td>7.074309</td>\n",
       "      <td>6.254792</td>\n",
       "      <td>Glomerular</td>\n",
       "      <td>94</td>\n",
       "      <td>MN</td>\n",
       "      <td>1</td>\n",
       "    </tr>\n",
       "    <tr>\n",
       "      <th>1</th>\n",
       "      <td>2</td>\n",
       "      <td>7.001047</td>\n",
       "      <td>6.386364</td>\n",
       "      <td>5.273056</td>\n",
       "      <td>9.860777</td>\n",
       "      <td>5.513112</td>\n",
       "      <td>6.616980</td>\n",
       "      <td>7.162280</td>\n",
       "      <td>7.310031</td>\n",
       "      <td>5.399082</td>\n",
       "      <td>...</td>\n",
       "      <td>6.681751</td>\n",
       "      <td>3.884280</td>\n",
       "      <td>7.154931</td>\n",
       "      <td>8.360980</td>\n",
       "      <td>7.308968</td>\n",
       "      <td>6.084218</td>\n",
       "      <td>Glomerular</td>\n",
       "      <td>81</td>\n",
       "      <td>FSGS</td>\n",
       "      <td>1</td>\n",
       "    </tr>\n",
       "    <tr>\n",
       "      <th>2</th>\n",
       "      <td>3</td>\n",
       "      <td>6.628755</td>\n",
       "      <td>6.500360</td>\n",
       "      <td>5.677885</td>\n",
       "      <td>9.879791</td>\n",
       "      <td>6.278609</td>\n",
       "      <td>5.795266</td>\n",
       "      <td>6.059988</td>\n",
       "      <td>6.407779</td>\n",
       "      <td>5.094513</td>\n",
       "      <td>...</td>\n",
       "      <td>6.078079</td>\n",
       "      <td>3.860516</td>\n",
       "      <td>6.942900</td>\n",
       "      <td>8.557394</td>\n",
       "      <td>7.141224</td>\n",
       "      <td>6.306339</td>\n",
       "      <td>Glomerular</td>\n",
       "      <td>133</td>\n",
       "      <td>MN</td>\n",
       "      <td>1</td>\n",
       "    </tr>\n",
       "    <tr>\n",
       "      <th>3</th>\n",
       "      <td>4</td>\n",
       "      <td>6.984691</td>\n",
       "      <td>6.581776</td>\n",
       "      <td>5.951040</td>\n",
       "      <td>10.673389</td>\n",
       "      <td>6.115012</td>\n",
       "      <td>5.129073</td>\n",
       "      <td>7.756084</td>\n",
       "      <td>8.035208</td>\n",
       "      <td>6.034542</td>\n",
       "      <td>...</td>\n",
       "      <td>6.683461</td>\n",
       "      <td>4.298766</td>\n",
       "      <td>7.325002</td>\n",
       "      <td>8.815787</td>\n",
       "      <td>6.927415</td>\n",
       "      <td>5.868231</td>\n",
       "      <td>Glomerular</td>\n",
       "      <td>102</td>\n",
       "      <td>MN</td>\n",
       "      <td>1</td>\n",
       "    </tr>\n",
       "    <tr>\n",
       "      <th>4</th>\n",
       "      <td>5</td>\n",
       "      <td>6.714409</td>\n",
       "      <td>6.629443</td>\n",
       "      <td>6.151001</td>\n",
       "      <td>9.715433</td>\n",
       "      <td>6.422950</td>\n",
       "      <td>6.330880</td>\n",
       "      <td>7.072725</td>\n",
       "      <td>7.855886</td>\n",
       "      <td>5.818230</td>\n",
       "      <td>...</td>\n",
       "      <td>6.026231</td>\n",
       "      <td>4.631380</td>\n",
       "      <td>7.271276</td>\n",
       "      <td>8.059317</td>\n",
       "      <td>7.563310</td>\n",
       "      <td>6.236375</td>\n",
       "      <td>Glomerular</td>\n",
       "      <td>82</td>\n",
       "      <td>FSGS</td>\n",
       "      <td>1</td>\n",
       "    </tr>\n",
       "    <tr>\n",
       "      <th>...</th>\n",
       "      <td>...</td>\n",
       "      <td>...</td>\n",
       "      <td>...</td>\n",
       "      <td>...</td>\n",
       "      <td>...</td>\n",
       "      <td>...</td>\n",
       "      <td>...</td>\n",
       "      <td>...</td>\n",
       "      <td>...</td>\n",
       "      <td>...</td>\n",
       "      <td>...</td>\n",
       "      <td>...</td>\n",
       "      <td>...</td>\n",
       "      <td>...</td>\n",
       "      <td>...</td>\n",
       "      <td>...</td>\n",
       "      <td>...</td>\n",
       "      <td>...</td>\n",
       "      <td>...</td>\n",
       "      <td>...</td>\n",
       "      <td>...</td>\n",
       "    </tr>\n",
       "    <tr>\n",
       "      <th>102</th>\n",
       "      <td>103</td>\n",
       "      <td>6.309457</td>\n",
       "      <td>7.084534</td>\n",
       "      <td>7.136771</td>\n",
       "      <td>10.760538</td>\n",
       "      <td>7.820753</td>\n",
       "      <td>5.256161</td>\n",
       "      <td>8.533344</td>\n",
       "      <td>9.839728</td>\n",
       "      <td>6.076459</td>\n",
       "      <td>...</td>\n",
       "      <td>6.335928</td>\n",
       "      <td>4.546304</td>\n",
       "      <td>6.953539</td>\n",
       "      <td>8.814828</td>\n",
       "      <td>7.700050</td>\n",
       "      <td>6.514003</td>\n",
       "      <td>Glomerular</td>\n",
       "      <td>6</td>\n",
       "      <td>MCD</td>\n",
       "      <td>1</td>\n",
       "    </tr>\n",
       "    <tr>\n",
       "      <th>103</th>\n",
       "      <td>104</td>\n",
       "      <td>6.114081</td>\n",
       "      <td>6.623781</td>\n",
       "      <td>5.492398</td>\n",
       "      <td>11.019819</td>\n",
       "      <td>5.803733</td>\n",
       "      <td>5.727388</td>\n",
       "      <td>7.747092</td>\n",
       "      <td>7.482525</td>\n",
       "      <td>5.762355</td>\n",
       "      <td>...</td>\n",
       "      <td>7.402658</td>\n",
       "      <td>4.970225</td>\n",
       "      <td>7.273947</td>\n",
       "      <td>8.238052</td>\n",
       "      <td>7.469386</td>\n",
       "      <td>6.369455</td>\n",
       "      <td>Glomerular</td>\n",
       "      <td>567</td>\n",
       "      <td>MN</td>\n",
       "      <td>1</td>\n",
       "    </tr>\n",
       "    <tr>\n",
       "      <th>104</th>\n",
       "      <td>105</td>\n",
       "      <td>7.300323</td>\n",
       "      <td>6.930577</td>\n",
       "      <td>5.488512</td>\n",
       "      <td>10.677016</td>\n",
       "      <td>5.486495</td>\n",
       "      <td>5.454204</td>\n",
       "      <td>8.471081</td>\n",
       "      <td>8.962164</td>\n",
       "      <td>7.130242</td>\n",
       "      <td>...</td>\n",
       "      <td>6.373126</td>\n",
       "      <td>4.488608</td>\n",
       "      <td>7.072283</td>\n",
       "      <td>8.853904</td>\n",
       "      <td>6.795654</td>\n",
       "      <td>6.349480</td>\n",
       "      <td>Glomerular</td>\n",
       "      <td>571</td>\n",
       "      <td>MN</td>\n",
       "      <td>1</td>\n",
       "    </tr>\n",
       "    <tr>\n",
       "      <th>105</th>\n",
       "      <td>106</td>\n",
       "      <td>7.256771</td>\n",
       "      <td>6.936422</td>\n",
       "      <td>6.429368</td>\n",
       "      <td>10.618888</td>\n",
       "      <td>6.479440</td>\n",
       "      <td>4.949829</td>\n",
       "      <td>7.867039</td>\n",
       "      <td>8.490338</td>\n",
       "      <td>5.354927</td>\n",
       "      <td>...</td>\n",
       "      <td>6.312014</td>\n",
       "      <td>4.003970</td>\n",
       "      <td>6.713200</td>\n",
       "      <td>7.473833</td>\n",
       "      <td>7.772563</td>\n",
       "      <td>5.519994</td>\n",
       "      <td>Glomerular</td>\n",
       "      <td>569</td>\n",
       "      <td>MN</td>\n",
       "      <td>1</td>\n",
       "    </tr>\n",
       "    <tr>\n",
       "      <th>106</th>\n",
       "      <td>107</td>\n",
       "      <td>6.798022</td>\n",
       "      <td>6.646187</td>\n",
       "      <td>6.895984</td>\n",
       "      <td>10.679474</td>\n",
       "      <td>6.833047</td>\n",
       "      <td>5.870951</td>\n",
       "      <td>8.256309</td>\n",
       "      <td>8.898227</td>\n",
       "      <td>7.392100</td>\n",
       "      <td>...</td>\n",
       "      <td>6.312014</td>\n",
       "      <td>5.350612</td>\n",
       "      <td>7.392766</td>\n",
       "      <td>9.271444</td>\n",
       "      <td>6.980144</td>\n",
       "      <td>6.312586</td>\n",
       "      <td>Glomerular</td>\n",
       "      <td>566</td>\n",
       "      <td>MN</td>\n",
       "      <td>1</td>\n",
       "    </tr>\n",
       "  </tbody>\n",
       "</table>\n",
       "<p>107 rows × 30 columns</p>\n",
       "</div>"
      ],
      "text/plain": [
       "     Unnamed: 0  X7791_at  X1398_at  X1284_at   X3675_at  X1282_at  X7424_at  \\\n",
       "0             1  6.616270  6.650780  6.212293  10.158111  6.542626  5.965278   \n",
       "1             2  7.001047  6.386364  5.273056   9.860777  5.513112  6.616980   \n",
       "2             3  6.628755  6.500360  5.677885   9.879791  6.278609  5.795266   \n",
       "3             4  6.984691  6.581776  5.951040  10.673389  6.115012  5.129073   \n",
       "4             5  6.714409  6.629443  6.151001   9.715433  6.422950  6.330880   \n",
       "..          ...       ...       ...       ...        ...       ...       ...   \n",
       "102         103  6.309457  7.084534  7.136771  10.760538  7.820753  5.256161   \n",
       "103         104  6.114081  6.623781  5.492398  11.019819  5.803733  5.727388   \n",
       "104         105  7.300323  6.930577  5.488512  10.677016  5.486495  5.454204   \n",
       "105         106  7.256771  6.936422  6.429368  10.618888  6.479440  4.949829   \n",
       "106         107  6.798022  6.646187  6.895984  10.679474  6.833047  5.870951   \n",
       "\n",
       "     X5159_at  X2321_at  X2324_at  ...  X5154_at  X5155_at  X2885_at  \\\n",
       "0    7.573721  7.400331  5.616704  ...  6.348953  4.910223  7.497142   \n",
       "1    7.162280  7.310031  5.399082  ...  6.681751  3.884280  7.154931   \n",
       "2    6.059988  6.407779  5.094513  ...  6.078079  3.860516  6.942900   \n",
       "3    7.756084  8.035208  6.034542  ...  6.683461  4.298766  7.325002   \n",
       "4    7.072725  7.855886  5.818230  ...  6.026231  4.631380  7.271276   \n",
       "..        ...       ...       ...  ...       ...       ...       ...   \n",
       "102  8.533344  9.839728  6.076459  ...  6.335928  4.546304  6.953539   \n",
       "103  7.747092  7.482525  5.762355  ...  7.402658  4.970225  7.273947   \n",
       "104  8.471081  8.962164  7.130242  ...  6.373126  4.488608  7.072283   \n",
       "105  7.867039  8.490338  5.354927  ...  6.312014  4.003970  6.713200   \n",
       "106  8.256309  8.898227  7.392100  ...  6.312014  5.350612  7.392766   \n",
       "\n",
       "      X595_at  X5295_at   X329_at     Disease   ID  Disease2  Nephrotic  \n",
       "0    8.763867  7.074309  6.254792  Glomerular   94        MN          1  \n",
       "1    8.360980  7.308968  6.084218  Glomerular   81      FSGS          1  \n",
       "2    8.557394  7.141224  6.306339  Glomerular  133        MN          1  \n",
       "3    8.815787  6.927415  5.868231  Glomerular  102        MN          1  \n",
       "4    8.059317  7.563310  6.236375  Glomerular   82      FSGS          1  \n",
       "..        ...       ...       ...         ...  ...       ...        ...  \n",
       "102  8.814828  7.700050  6.514003  Glomerular    6       MCD          1  \n",
       "103  8.238052  7.469386  6.369455  Glomerular  567        MN          1  \n",
       "104  8.853904  6.795654  6.349480  Glomerular  571        MN          1  \n",
       "105  7.473833  7.772563  5.519994  Glomerular  569        MN          1  \n",
       "106  9.271444  6.980144  6.312586  Glomerular  566        MN          1  \n",
       "\n",
       "[107 rows x 30 columns]"
      ]
     },
     "execution_count": 43,
     "metadata": {},
     "output_type": "execute_result"
    }
   ],
   "source": [
    "focal_adhesion"
   ]
  },
  {
   "cell_type": "code",
   "execution_count": 44,
   "id": "db775ccb",
   "metadata": {},
   "outputs": [
    {
     "data": {
      "text/plain": [
       "Unnamed: 0      int64\n",
       "X7791_at      float64\n",
       "X1398_at      float64\n",
       "X1284_at      float64\n",
       "X3675_at      float64\n",
       "X1282_at      float64\n",
       "X7424_at      float64\n",
       "X5159_at      float64\n",
       "X2321_at      float64\n",
       "X2324_at      float64\n",
       "X23396_at     float64\n",
       "X81_at        float64\n",
       "X7094_at      float64\n",
       "X2316_at      float64\n",
       "X5829_at      float64\n",
       "X3611_at      float64\n",
       "X8503_at      float64\n",
       "X7410_at      float64\n",
       "X2889_at      float64\n",
       "X3678_at      float64\n",
       "X5154_at      float64\n",
       "X5155_at      float64\n",
       "X2885_at      float64\n",
       "X595_at       float64\n",
       "X5295_at      float64\n",
       "X329_at       float64\n",
       "Disease        object\n",
       "ID              int64\n",
       "Disease2       object\n",
       "Nephrotic       int64\n",
       "dtype: object"
      ]
     },
     "execution_count": 44,
     "metadata": {},
     "output_type": "execute_result"
    }
   ],
   "source": [
    "focal_adhesion.dtypes"
   ]
  },
  {
   "cell_type": "code",
   "execution_count": 45,
   "id": "0ee02145",
   "metadata": {},
   "outputs": [
    {
     "data": {
      "text/plain": [
       "Unnamed: 0      int64\n",
       "X7791_at      float64\n",
       "X1398_at      float64\n",
       "X1284_at      float64\n",
       "X3675_at      float64\n",
       "X1282_at      float64\n",
       "X7424_at      float64\n",
       "X5159_at      float64\n",
       "X2321_at      float64\n",
       "X2324_at      float64\n",
       "X23396_at     float64\n",
       "X81_at        float64\n",
       "X7094_at      float64\n",
       "X2316_at      float64\n",
       "X5829_at      float64\n",
       "X3611_at      float64\n",
       "X8503_at      float64\n",
       "X7410_at      float64\n",
       "X2889_at      float64\n",
       "X3678_at      float64\n",
       "X5154_at      float64\n",
       "X5155_at      float64\n",
       "X2885_at      float64\n",
       "X595_at       float64\n",
       "X5295_at      float64\n",
       "X329_at       float64\n",
       "Disease        object\n",
       "ID              int64\n",
       "Disease2       object\n",
       "Nephrotic      object\n",
       "dtype: object"
      ]
     },
     "execution_count": 45,
     "metadata": {},
     "output_type": "execute_result"
    }
   ],
   "source": [
    "focal_adhesion['Nephrotic'] = focal_adhesion['Nephrotic'].astype(str).astype(object)\n",
    "focal_adhesion.dtypes"
   ]
  },
  {
   "cell_type": "code",
   "execution_count": null,
   "id": "515fd183",
   "metadata": {},
   "outputs": [],
   "source": []
  },
  {
   "cell_type": "code",
   "execution_count": 46,
   "id": "893b4d10",
   "metadata": {},
   "outputs": [],
   "source": [
    "focal_adhesion0 = focal_adhesion[focal_adhesion['Nephrotic'] == '0']\n",
    "focal_adhesion1 = focal_adhesion[focal_adhesion['Nephrotic'] == '1']"
   ]
  },
  {
   "cell_type": "code",
   "execution_count": 7,
   "id": "148c3b12",
   "metadata": {},
   "outputs": [
    {
     "data": {
      "text/plain": [
       "(6, 30)"
      ]
     },
     "execution_count": 7,
     "metadata": {},
     "output_type": "execute_result"
    }
   ],
   "source": [
    "focal_adhesion0.shape"
   ]
  },
  {
   "cell_type": "code",
   "execution_count": 8,
   "id": "eaf0e1b7",
   "metadata": {},
   "outputs": [
    {
     "data": {
      "text/plain": [
       "(101, 30)"
      ]
     },
     "execution_count": 8,
     "metadata": {},
     "output_type": "execute_result"
    }
   ],
   "source": [
    "focal_adhesion1.shape"
   ]
  },
  {
   "cell_type": "code",
   "execution_count": 9,
   "id": "db9897e9",
   "metadata": {},
   "outputs": [
    {
     "data": {
      "text/plain": [
       "Index(['Unnamed: 0', 'X7791_at', 'X1398_at', 'X1284_at', 'X3675_at',\n",
       "       'X1282_at', 'X7424_at', 'X5159_at', 'X2321_at', 'X2324_at', 'X23396_at',\n",
       "       'X81_at', 'X7094_at', 'X2316_at', 'X5829_at', 'X3611_at', 'X8503_at',\n",
       "       'X7410_at', 'X2889_at', 'X3678_at', 'X5154_at', 'X5155_at', 'X2885_at',\n",
       "       'X595_at', 'X5295_at', 'X329_at', 'Disease', 'ID', 'Disease2',\n",
       "       'Nephrotic'],\n",
       "      dtype='object')"
      ]
     },
     "execution_count": 9,
     "metadata": {},
     "output_type": "execute_result"
    }
   ],
   "source": [
    "focal_adhesion.columns"
   ]
  },
  {
   "cell_type": "code",
   "execution_count": 10,
   "id": "f53095b5",
   "metadata": {},
   "outputs": [],
   "source": [
    "genename = focal_adhesion.rename(columns = {'X7791_at':'ZYX', 'X1398_at':'CRK', 'X1284_at':'COL4A2', 'X3675_at':'ITGA3',\n",
    "       'X1282_at':'COL4A1', 'X7424_at':'VEGFC', 'X5159_at':'PDGFRB', 'X2321_at':'FLT1', 'X2324_at':'FLT4', 'X23396_at':'PIP5K1C',\n",
    "       'X81_at':'ACTN4', 'X7094_at':'TLN1', 'X2316_at':'FLNA', 'X5829_at':'PXN', 'X3611_at':'ILK', 'X8503_at':'PIK3R3',\n",
    "       'X7410_at':'VAV2', 'X2889_at':'RAPGEF1', 'X3678_at':'ITGA5', 'X5154_at':'PDGFA', 'X5155_at':'PDGFB', 'X2885_at':'GRB2',\n",
    "       'X595_at':'CCND1', 'X5295_at':'PIK3R1', 'X329_at':'BIRC2'})"
   ]
  },
  {
   "cell_type": "code",
   "execution_count": 11,
   "id": "bd67472b",
   "metadata": {},
   "outputs": [
    {
     "data": {
      "text/html": [
       "<div>\n",
       "<style scoped>\n",
       "    .dataframe tbody tr th:only-of-type {\n",
       "        vertical-align: middle;\n",
       "    }\n",
       "\n",
       "    .dataframe tbody tr th {\n",
       "        vertical-align: top;\n",
       "    }\n",
       "\n",
       "    .dataframe thead th {\n",
       "        text-align: right;\n",
       "    }\n",
       "</style>\n",
       "<table border=\"1\" class=\"dataframe\">\n",
       "  <thead>\n",
       "    <tr style=\"text-align: right;\">\n",
       "      <th></th>\n",
       "      <th>Unnamed: 0</th>\n",
       "      <th>ZYX</th>\n",
       "      <th>CRK</th>\n",
       "      <th>COL4A2</th>\n",
       "      <th>ITGA3</th>\n",
       "      <th>COL4A1</th>\n",
       "      <th>VEGFC</th>\n",
       "      <th>PDGFRB</th>\n",
       "      <th>FLT1</th>\n",
       "      <th>FLT4</th>\n",
       "      <th>...</th>\n",
       "      <th>PDGFA</th>\n",
       "      <th>PDGFB</th>\n",
       "      <th>GRB2</th>\n",
       "      <th>CCND1</th>\n",
       "      <th>PIK3R1</th>\n",
       "      <th>BIRC2</th>\n",
       "      <th>Disease</th>\n",
       "      <th>ID</th>\n",
       "      <th>Disease2</th>\n",
       "      <th>Nephrotic</th>\n",
       "    </tr>\n",
       "  </thead>\n",
       "  <tbody>\n",
       "    <tr>\n",
       "      <th>0</th>\n",
       "      <td>1</td>\n",
       "      <td>6.616270</td>\n",
       "      <td>6.650780</td>\n",
       "      <td>6.212293</td>\n",
       "      <td>10.158111</td>\n",
       "      <td>6.542626</td>\n",
       "      <td>5.965278</td>\n",
       "      <td>7.573721</td>\n",
       "      <td>7.400331</td>\n",
       "      <td>5.616704</td>\n",
       "      <td>...</td>\n",
       "      <td>6.348953</td>\n",
       "      <td>4.910223</td>\n",
       "      <td>7.497142</td>\n",
       "      <td>8.763867</td>\n",
       "      <td>7.074309</td>\n",
       "      <td>6.254792</td>\n",
       "      <td>Glomerular</td>\n",
       "      <td>94</td>\n",
       "      <td>MN</td>\n",
       "      <td>1</td>\n",
       "    </tr>\n",
       "    <tr>\n",
       "      <th>1</th>\n",
       "      <td>2</td>\n",
       "      <td>7.001047</td>\n",
       "      <td>6.386364</td>\n",
       "      <td>5.273056</td>\n",
       "      <td>9.860777</td>\n",
       "      <td>5.513112</td>\n",
       "      <td>6.616980</td>\n",
       "      <td>7.162280</td>\n",
       "      <td>7.310031</td>\n",
       "      <td>5.399082</td>\n",
       "      <td>...</td>\n",
       "      <td>6.681751</td>\n",
       "      <td>3.884280</td>\n",
       "      <td>7.154931</td>\n",
       "      <td>8.360980</td>\n",
       "      <td>7.308968</td>\n",
       "      <td>6.084218</td>\n",
       "      <td>Glomerular</td>\n",
       "      <td>81</td>\n",
       "      <td>FSGS</td>\n",
       "      <td>1</td>\n",
       "    </tr>\n",
       "    <tr>\n",
       "      <th>2</th>\n",
       "      <td>3</td>\n",
       "      <td>6.628755</td>\n",
       "      <td>6.500360</td>\n",
       "      <td>5.677885</td>\n",
       "      <td>9.879791</td>\n",
       "      <td>6.278609</td>\n",
       "      <td>5.795266</td>\n",
       "      <td>6.059988</td>\n",
       "      <td>6.407779</td>\n",
       "      <td>5.094513</td>\n",
       "      <td>...</td>\n",
       "      <td>6.078079</td>\n",
       "      <td>3.860516</td>\n",
       "      <td>6.942900</td>\n",
       "      <td>8.557394</td>\n",
       "      <td>7.141224</td>\n",
       "      <td>6.306339</td>\n",
       "      <td>Glomerular</td>\n",
       "      <td>133</td>\n",
       "      <td>MN</td>\n",
       "      <td>1</td>\n",
       "    </tr>\n",
       "    <tr>\n",
       "      <th>3</th>\n",
       "      <td>4</td>\n",
       "      <td>6.984691</td>\n",
       "      <td>6.581776</td>\n",
       "      <td>5.951040</td>\n",
       "      <td>10.673389</td>\n",
       "      <td>6.115012</td>\n",
       "      <td>5.129073</td>\n",
       "      <td>7.756084</td>\n",
       "      <td>8.035208</td>\n",
       "      <td>6.034542</td>\n",
       "      <td>...</td>\n",
       "      <td>6.683461</td>\n",
       "      <td>4.298766</td>\n",
       "      <td>7.325002</td>\n",
       "      <td>8.815787</td>\n",
       "      <td>6.927415</td>\n",
       "      <td>5.868231</td>\n",
       "      <td>Glomerular</td>\n",
       "      <td>102</td>\n",
       "      <td>MN</td>\n",
       "      <td>1</td>\n",
       "    </tr>\n",
       "    <tr>\n",
       "      <th>4</th>\n",
       "      <td>5</td>\n",
       "      <td>6.714409</td>\n",
       "      <td>6.629443</td>\n",
       "      <td>6.151001</td>\n",
       "      <td>9.715433</td>\n",
       "      <td>6.422950</td>\n",
       "      <td>6.330880</td>\n",
       "      <td>7.072725</td>\n",
       "      <td>7.855886</td>\n",
       "      <td>5.818230</td>\n",
       "      <td>...</td>\n",
       "      <td>6.026231</td>\n",
       "      <td>4.631380</td>\n",
       "      <td>7.271276</td>\n",
       "      <td>8.059317</td>\n",
       "      <td>7.563310</td>\n",
       "      <td>6.236375</td>\n",
       "      <td>Glomerular</td>\n",
       "      <td>82</td>\n",
       "      <td>FSGS</td>\n",
       "      <td>1</td>\n",
       "    </tr>\n",
       "    <tr>\n",
       "      <th>...</th>\n",
       "      <td>...</td>\n",
       "      <td>...</td>\n",
       "      <td>...</td>\n",
       "      <td>...</td>\n",
       "      <td>...</td>\n",
       "      <td>...</td>\n",
       "      <td>...</td>\n",
       "      <td>...</td>\n",
       "      <td>...</td>\n",
       "      <td>...</td>\n",
       "      <td>...</td>\n",
       "      <td>...</td>\n",
       "      <td>...</td>\n",
       "      <td>...</td>\n",
       "      <td>...</td>\n",
       "      <td>...</td>\n",
       "      <td>...</td>\n",
       "      <td>...</td>\n",
       "      <td>...</td>\n",
       "      <td>...</td>\n",
       "      <td>...</td>\n",
       "    </tr>\n",
       "    <tr>\n",
       "      <th>102</th>\n",
       "      <td>103</td>\n",
       "      <td>6.309457</td>\n",
       "      <td>7.084534</td>\n",
       "      <td>7.136771</td>\n",
       "      <td>10.760538</td>\n",
       "      <td>7.820753</td>\n",
       "      <td>5.256161</td>\n",
       "      <td>8.533344</td>\n",
       "      <td>9.839728</td>\n",
       "      <td>6.076459</td>\n",
       "      <td>...</td>\n",
       "      <td>6.335928</td>\n",
       "      <td>4.546304</td>\n",
       "      <td>6.953539</td>\n",
       "      <td>8.814828</td>\n",
       "      <td>7.700050</td>\n",
       "      <td>6.514003</td>\n",
       "      <td>Glomerular</td>\n",
       "      <td>6</td>\n",
       "      <td>MCD</td>\n",
       "      <td>1</td>\n",
       "    </tr>\n",
       "    <tr>\n",
       "      <th>103</th>\n",
       "      <td>104</td>\n",
       "      <td>6.114081</td>\n",
       "      <td>6.623781</td>\n",
       "      <td>5.492398</td>\n",
       "      <td>11.019819</td>\n",
       "      <td>5.803733</td>\n",
       "      <td>5.727388</td>\n",
       "      <td>7.747092</td>\n",
       "      <td>7.482525</td>\n",
       "      <td>5.762355</td>\n",
       "      <td>...</td>\n",
       "      <td>7.402658</td>\n",
       "      <td>4.970225</td>\n",
       "      <td>7.273947</td>\n",
       "      <td>8.238052</td>\n",
       "      <td>7.469386</td>\n",
       "      <td>6.369455</td>\n",
       "      <td>Glomerular</td>\n",
       "      <td>567</td>\n",
       "      <td>MN</td>\n",
       "      <td>1</td>\n",
       "    </tr>\n",
       "    <tr>\n",
       "      <th>104</th>\n",
       "      <td>105</td>\n",
       "      <td>7.300323</td>\n",
       "      <td>6.930577</td>\n",
       "      <td>5.488512</td>\n",
       "      <td>10.677016</td>\n",
       "      <td>5.486495</td>\n",
       "      <td>5.454204</td>\n",
       "      <td>8.471081</td>\n",
       "      <td>8.962164</td>\n",
       "      <td>7.130242</td>\n",
       "      <td>...</td>\n",
       "      <td>6.373126</td>\n",
       "      <td>4.488608</td>\n",
       "      <td>7.072283</td>\n",
       "      <td>8.853904</td>\n",
       "      <td>6.795654</td>\n",
       "      <td>6.349480</td>\n",
       "      <td>Glomerular</td>\n",
       "      <td>571</td>\n",
       "      <td>MN</td>\n",
       "      <td>1</td>\n",
       "    </tr>\n",
       "    <tr>\n",
       "      <th>105</th>\n",
       "      <td>106</td>\n",
       "      <td>7.256771</td>\n",
       "      <td>6.936422</td>\n",
       "      <td>6.429368</td>\n",
       "      <td>10.618888</td>\n",
       "      <td>6.479440</td>\n",
       "      <td>4.949829</td>\n",
       "      <td>7.867039</td>\n",
       "      <td>8.490338</td>\n",
       "      <td>5.354927</td>\n",
       "      <td>...</td>\n",
       "      <td>6.312014</td>\n",
       "      <td>4.003970</td>\n",
       "      <td>6.713200</td>\n",
       "      <td>7.473833</td>\n",
       "      <td>7.772563</td>\n",
       "      <td>5.519994</td>\n",
       "      <td>Glomerular</td>\n",
       "      <td>569</td>\n",
       "      <td>MN</td>\n",
       "      <td>1</td>\n",
       "    </tr>\n",
       "    <tr>\n",
       "      <th>106</th>\n",
       "      <td>107</td>\n",
       "      <td>6.798022</td>\n",
       "      <td>6.646187</td>\n",
       "      <td>6.895984</td>\n",
       "      <td>10.679474</td>\n",
       "      <td>6.833047</td>\n",
       "      <td>5.870951</td>\n",
       "      <td>8.256309</td>\n",
       "      <td>8.898227</td>\n",
       "      <td>7.392100</td>\n",
       "      <td>...</td>\n",
       "      <td>6.312014</td>\n",
       "      <td>5.350612</td>\n",
       "      <td>7.392766</td>\n",
       "      <td>9.271444</td>\n",
       "      <td>6.980144</td>\n",
       "      <td>6.312586</td>\n",
       "      <td>Glomerular</td>\n",
       "      <td>566</td>\n",
       "      <td>MN</td>\n",
       "      <td>1</td>\n",
       "    </tr>\n",
       "  </tbody>\n",
       "</table>\n",
       "<p>107 rows × 30 columns</p>\n",
       "</div>"
      ],
      "text/plain": [
       "     Unnamed: 0       ZYX       CRK    COL4A2      ITGA3    COL4A1     VEGFC  \\\n",
       "0             1  6.616270  6.650780  6.212293  10.158111  6.542626  5.965278   \n",
       "1             2  7.001047  6.386364  5.273056   9.860777  5.513112  6.616980   \n",
       "2             3  6.628755  6.500360  5.677885   9.879791  6.278609  5.795266   \n",
       "3             4  6.984691  6.581776  5.951040  10.673389  6.115012  5.129073   \n",
       "4             5  6.714409  6.629443  6.151001   9.715433  6.422950  6.330880   \n",
       "..          ...       ...       ...       ...        ...       ...       ...   \n",
       "102         103  6.309457  7.084534  7.136771  10.760538  7.820753  5.256161   \n",
       "103         104  6.114081  6.623781  5.492398  11.019819  5.803733  5.727388   \n",
       "104         105  7.300323  6.930577  5.488512  10.677016  5.486495  5.454204   \n",
       "105         106  7.256771  6.936422  6.429368  10.618888  6.479440  4.949829   \n",
       "106         107  6.798022  6.646187  6.895984  10.679474  6.833047  5.870951   \n",
       "\n",
       "       PDGFRB      FLT1      FLT4  ...     PDGFA     PDGFB      GRB2  \\\n",
       "0    7.573721  7.400331  5.616704  ...  6.348953  4.910223  7.497142   \n",
       "1    7.162280  7.310031  5.399082  ...  6.681751  3.884280  7.154931   \n",
       "2    6.059988  6.407779  5.094513  ...  6.078079  3.860516  6.942900   \n",
       "3    7.756084  8.035208  6.034542  ...  6.683461  4.298766  7.325002   \n",
       "4    7.072725  7.855886  5.818230  ...  6.026231  4.631380  7.271276   \n",
       "..        ...       ...       ...  ...       ...       ...       ...   \n",
       "102  8.533344  9.839728  6.076459  ...  6.335928  4.546304  6.953539   \n",
       "103  7.747092  7.482525  5.762355  ...  7.402658  4.970225  7.273947   \n",
       "104  8.471081  8.962164  7.130242  ...  6.373126  4.488608  7.072283   \n",
       "105  7.867039  8.490338  5.354927  ...  6.312014  4.003970  6.713200   \n",
       "106  8.256309  8.898227  7.392100  ...  6.312014  5.350612  7.392766   \n",
       "\n",
       "        CCND1    PIK3R1     BIRC2     Disease   ID  Disease2  Nephrotic  \n",
       "0    8.763867  7.074309  6.254792  Glomerular   94        MN          1  \n",
       "1    8.360980  7.308968  6.084218  Glomerular   81      FSGS          1  \n",
       "2    8.557394  7.141224  6.306339  Glomerular  133        MN          1  \n",
       "3    8.815787  6.927415  5.868231  Glomerular  102        MN          1  \n",
       "4    8.059317  7.563310  6.236375  Glomerular   82      FSGS          1  \n",
       "..        ...       ...       ...         ...  ...       ...        ...  \n",
       "102  8.814828  7.700050  6.514003  Glomerular    6       MCD          1  \n",
       "103  8.238052  7.469386  6.369455  Glomerular  567        MN          1  \n",
       "104  8.853904  6.795654  6.349480  Glomerular  571        MN          1  \n",
       "105  7.473833  7.772563  5.519994  Glomerular  569        MN          1  \n",
       "106  9.271444  6.980144  6.312586  Glomerular  566        MN          1  \n",
       "\n",
       "[107 rows x 30 columns]"
      ]
     },
     "execution_count": 11,
     "metadata": {},
     "output_type": "execute_result"
    }
   ],
   "source": [
    "genename"
   ]
  },
  {
   "cell_type": "code",
   "execution_count": 12,
   "id": "c3df5e29",
   "metadata": {},
   "outputs": [],
   "source": [
    "#conda install plotly"
   ]
  },
  {
   "cell_type": "code",
   "execution_count": 13,
   "id": "006e7659",
   "metadata": {},
   "outputs": [],
   "source": [
    "#import plotly.express as px\n",
    "#import plotly.graph_objects as go"
   ]
  },
  {
   "cell_type": "code",
   "execution_count": 14,
   "id": "a50307e4",
   "metadata": {},
   "outputs": [
    {
     "data": {
      "text/html": [
       "<div>\n",
       "<style scoped>\n",
       "    .dataframe tbody tr th:only-of-type {\n",
       "        vertical-align: middle;\n",
       "    }\n",
       "\n",
       "    .dataframe tbody tr th {\n",
       "        vertical-align: top;\n",
       "    }\n",
       "\n",
       "    .dataframe thead th {\n",
       "        text-align: right;\n",
       "    }\n",
       "</style>\n",
       "<table border=\"1\" class=\"dataframe\">\n",
       "  <thead>\n",
       "    <tr style=\"text-align: right;\">\n",
       "      <th></th>\n",
       "      <th>ZYX</th>\n",
       "      <th>CRK</th>\n",
       "      <th>COL4A2</th>\n",
       "      <th>ITGA3</th>\n",
       "      <th>COL4A1</th>\n",
       "      <th>VEGFC</th>\n",
       "      <th>PDGFRB</th>\n",
       "      <th>FLT1</th>\n",
       "      <th>FLT4</th>\n",
       "      <th>PIP5K1C</th>\n",
       "      <th>...</th>\n",
       "      <th>PIK3R3</th>\n",
       "      <th>VAV2</th>\n",
       "      <th>RAPGEF1</th>\n",
       "      <th>ITGA5</th>\n",
       "      <th>PDGFA</th>\n",
       "      <th>PDGFB</th>\n",
       "      <th>GRB2</th>\n",
       "      <th>CCND1</th>\n",
       "      <th>PIK3R1</th>\n",
       "      <th>BIRC2</th>\n",
       "    </tr>\n",
       "  </thead>\n",
       "  <tbody>\n",
       "    <tr>\n",
       "      <th>0</th>\n",
       "      <td>6.616270</td>\n",
       "      <td>6.650780</td>\n",
       "      <td>6.212293</td>\n",
       "      <td>10.158111</td>\n",
       "      <td>6.542626</td>\n",
       "      <td>5.965278</td>\n",
       "      <td>7.573721</td>\n",
       "      <td>7.400331</td>\n",
       "      <td>5.616704</td>\n",
       "      <td>4.092312</td>\n",
       "      <td>...</td>\n",
       "      <td>7.734887</td>\n",
       "      <td>5.733396</td>\n",
       "      <td>6.154797</td>\n",
       "      <td>4.728379</td>\n",
       "      <td>6.348953</td>\n",
       "      <td>4.910223</td>\n",
       "      <td>7.497142</td>\n",
       "      <td>8.763867</td>\n",
       "      <td>7.074309</td>\n",
       "      <td>6.254792</td>\n",
       "    </tr>\n",
       "    <tr>\n",
       "      <th>1</th>\n",
       "      <td>7.001047</td>\n",
       "      <td>6.386364</td>\n",
       "      <td>5.273056</td>\n",
       "      <td>9.860777</td>\n",
       "      <td>5.513112</td>\n",
       "      <td>6.616980</td>\n",
       "      <td>7.162280</td>\n",
       "      <td>7.310031</td>\n",
       "      <td>5.399082</td>\n",
       "      <td>4.213155</td>\n",
       "      <td>...</td>\n",
       "      <td>7.396918</td>\n",
       "      <td>4.923376</td>\n",
       "      <td>5.828350</td>\n",
       "      <td>5.346675</td>\n",
       "      <td>6.681751</td>\n",
       "      <td>3.884280</td>\n",
       "      <td>7.154931</td>\n",
       "      <td>8.360980</td>\n",
       "      <td>7.308968</td>\n",
       "      <td>6.084218</td>\n",
       "    </tr>\n",
       "    <tr>\n",
       "      <th>2</th>\n",
       "      <td>6.628755</td>\n",
       "      <td>6.500360</td>\n",
       "      <td>5.677885</td>\n",
       "      <td>9.879791</td>\n",
       "      <td>6.278609</td>\n",
       "      <td>5.795266</td>\n",
       "      <td>6.059988</td>\n",
       "      <td>6.407779</td>\n",
       "      <td>5.094513</td>\n",
       "      <td>4.164167</td>\n",
       "      <td>...</td>\n",
       "      <td>7.323773</td>\n",
       "      <td>6.205874</td>\n",
       "      <td>5.923864</td>\n",
       "      <td>4.647113</td>\n",
       "      <td>6.078079</td>\n",
       "      <td>3.860516</td>\n",
       "      <td>6.942900</td>\n",
       "      <td>8.557394</td>\n",
       "      <td>7.141224</td>\n",
       "      <td>6.306339</td>\n",
       "    </tr>\n",
       "    <tr>\n",
       "      <th>3</th>\n",
       "      <td>6.984691</td>\n",
       "      <td>6.581776</td>\n",
       "      <td>5.951040</td>\n",
       "      <td>10.673389</td>\n",
       "      <td>6.115012</td>\n",
       "      <td>5.129073</td>\n",
       "      <td>7.756084</td>\n",
       "      <td>8.035208</td>\n",
       "      <td>6.034542</td>\n",
       "      <td>4.543694</td>\n",
       "      <td>...</td>\n",
       "      <td>7.295814</td>\n",
       "      <td>5.969998</td>\n",
       "      <td>6.651092</td>\n",
       "      <td>4.852498</td>\n",
       "      <td>6.683461</td>\n",
       "      <td>4.298766</td>\n",
       "      <td>7.325002</td>\n",
       "      <td>8.815787</td>\n",
       "      <td>6.927415</td>\n",
       "      <td>5.868231</td>\n",
       "    </tr>\n",
       "    <tr>\n",
       "      <th>4</th>\n",
       "      <td>6.714409</td>\n",
       "      <td>6.629443</td>\n",
       "      <td>6.151001</td>\n",
       "      <td>9.715433</td>\n",
       "      <td>6.422950</td>\n",
       "      <td>6.330880</td>\n",
       "      <td>7.072725</td>\n",
       "      <td>7.855886</td>\n",
       "      <td>5.818230</td>\n",
       "      <td>4.660742</td>\n",
       "      <td>...</td>\n",
       "      <td>7.451849</td>\n",
       "      <td>5.844751</td>\n",
       "      <td>6.268313</td>\n",
       "      <td>5.519980</td>\n",
       "      <td>6.026231</td>\n",
       "      <td>4.631380</td>\n",
       "      <td>7.271276</td>\n",
       "      <td>8.059317</td>\n",
       "      <td>7.563310</td>\n",
       "      <td>6.236375</td>\n",
       "    </tr>\n",
       "    <tr>\n",
       "      <th>...</th>\n",
       "      <td>...</td>\n",
       "      <td>...</td>\n",
       "      <td>...</td>\n",
       "      <td>...</td>\n",
       "      <td>...</td>\n",
       "      <td>...</td>\n",
       "      <td>...</td>\n",
       "      <td>...</td>\n",
       "      <td>...</td>\n",
       "      <td>...</td>\n",
       "      <td>...</td>\n",
       "      <td>...</td>\n",
       "      <td>...</td>\n",
       "      <td>...</td>\n",
       "      <td>...</td>\n",
       "      <td>...</td>\n",
       "      <td>...</td>\n",
       "      <td>...</td>\n",
       "      <td>...</td>\n",
       "      <td>...</td>\n",
       "      <td>...</td>\n",
       "    </tr>\n",
       "    <tr>\n",
       "      <th>102</th>\n",
       "      <td>6.309457</td>\n",
       "      <td>7.084534</td>\n",
       "      <td>7.136771</td>\n",
       "      <td>10.760538</td>\n",
       "      <td>7.820753</td>\n",
       "      <td>5.256161</td>\n",
       "      <td>8.533344</td>\n",
       "      <td>9.839728</td>\n",
       "      <td>6.076459</td>\n",
       "      <td>3.998187</td>\n",
       "      <td>...</td>\n",
       "      <td>7.835594</td>\n",
       "      <td>5.659436</td>\n",
       "      <td>6.335371</td>\n",
       "      <td>4.948888</td>\n",
       "      <td>6.335928</td>\n",
       "      <td>4.546304</td>\n",
       "      <td>6.953539</td>\n",
       "      <td>8.814828</td>\n",
       "      <td>7.700050</td>\n",
       "      <td>6.514003</td>\n",
       "    </tr>\n",
       "    <tr>\n",
       "      <th>103</th>\n",
       "      <td>6.114081</td>\n",
       "      <td>6.623781</td>\n",
       "      <td>5.492398</td>\n",
       "      <td>11.019819</td>\n",
       "      <td>5.803733</td>\n",
       "      <td>5.727388</td>\n",
       "      <td>7.747092</td>\n",
       "      <td>7.482525</td>\n",
       "      <td>5.762355</td>\n",
       "      <td>3.998187</td>\n",
       "      <td>...</td>\n",
       "      <td>6.621006</td>\n",
       "      <td>5.895063</td>\n",
       "      <td>6.421056</td>\n",
       "      <td>4.373257</td>\n",
       "      <td>7.402658</td>\n",
       "      <td>4.970225</td>\n",
       "      <td>7.273947</td>\n",
       "      <td>8.238052</td>\n",
       "      <td>7.469386</td>\n",
       "      <td>6.369455</td>\n",
       "    </tr>\n",
       "    <tr>\n",
       "      <th>104</th>\n",
       "      <td>7.300323</td>\n",
       "      <td>6.930577</td>\n",
       "      <td>5.488512</td>\n",
       "      <td>10.677016</td>\n",
       "      <td>5.486495</td>\n",
       "      <td>5.454204</td>\n",
       "      <td>8.471081</td>\n",
       "      <td>8.962164</td>\n",
       "      <td>7.130242</td>\n",
       "      <td>4.327737</td>\n",
       "      <td>...</td>\n",
       "      <td>8.172748</td>\n",
       "      <td>6.479782</td>\n",
       "      <td>7.043235</td>\n",
       "      <td>4.734178</td>\n",
       "      <td>6.373126</td>\n",
       "      <td>4.488608</td>\n",
       "      <td>7.072283</td>\n",
       "      <td>8.853904</td>\n",
       "      <td>6.795654</td>\n",
       "      <td>6.349480</td>\n",
       "    </tr>\n",
       "    <tr>\n",
       "      <th>105</th>\n",
       "      <td>7.256771</td>\n",
       "      <td>6.936422</td>\n",
       "      <td>6.429368</td>\n",
       "      <td>10.618888</td>\n",
       "      <td>6.479440</td>\n",
       "      <td>4.949829</td>\n",
       "      <td>7.867039</td>\n",
       "      <td>8.490338</td>\n",
       "      <td>5.354927</td>\n",
       "      <td>3.887201</td>\n",
       "      <td>...</td>\n",
       "      <td>7.376728</td>\n",
       "      <td>5.349976</td>\n",
       "      <td>5.972116</td>\n",
       "      <td>5.302761</td>\n",
       "      <td>6.312014</td>\n",
       "      <td>4.003970</td>\n",
       "      <td>6.713200</td>\n",
       "      <td>7.473833</td>\n",
       "      <td>7.772563</td>\n",
       "      <td>5.519994</td>\n",
       "    </tr>\n",
       "    <tr>\n",
       "      <th>106</th>\n",
       "      <td>6.798022</td>\n",
       "      <td>6.646187</td>\n",
       "      <td>6.895984</td>\n",
       "      <td>10.679474</td>\n",
       "      <td>6.833047</td>\n",
       "      <td>5.870951</td>\n",
       "      <td>8.256309</td>\n",
       "      <td>8.898227</td>\n",
       "      <td>7.392100</td>\n",
       "      <td>3.887201</td>\n",
       "      <td>...</td>\n",
       "      <td>8.795379</td>\n",
       "      <td>5.349976</td>\n",
       "      <td>5.972116</td>\n",
       "      <td>4.291686</td>\n",
       "      <td>6.312014</td>\n",
       "      <td>5.350612</td>\n",
       "      <td>7.392766</td>\n",
       "      <td>9.271444</td>\n",
       "      <td>6.980144</td>\n",
       "      <td>6.312586</td>\n",
       "    </tr>\n",
       "  </tbody>\n",
       "</table>\n",
       "<p>107 rows × 25 columns</p>\n",
       "</div>"
      ],
      "text/plain": [
       "          ZYX       CRK    COL4A2      ITGA3    COL4A1     VEGFC    PDGFRB  \\\n",
       "0    6.616270  6.650780  6.212293  10.158111  6.542626  5.965278  7.573721   \n",
       "1    7.001047  6.386364  5.273056   9.860777  5.513112  6.616980  7.162280   \n",
       "2    6.628755  6.500360  5.677885   9.879791  6.278609  5.795266  6.059988   \n",
       "3    6.984691  6.581776  5.951040  10.673389  6.115012  5.129073  7.756084   \n",
       "4    6.714409  6.629443  6.151001   9.715433  6.422950  6.330880  7.072725   \n",
       "..        ...       ...       ...        ...       ...       ...       ...   \n",
       "102  6.309457  7.084534  7.136771  10.760538  7.820753  5.256161  8.533344   \n",
       "103  6.114081  6.623781  5.492398  11.019819  5.803733  5.727388  7.747092   \n",
       "104  7.300323  6.930577  5.488512  10.677016  5.486495  5.454204  8.471081   \n",
       "105  7.256771  6.936422  6.429368  10.618888  6.479440  4.949829  7.867039   \n",
       "106  6.798022  6.646187  6.895984  10.679474  6.833047  5.870951  8.256309   \n",
       "\n",
       "         FLT1      FLT4   PIP5K1C  ...    PIK3R3      VAV2   RAPGEF1  \\\n",
       "0    7.400331  5.616704  4.092312  ...  7.734887  5.733396  6.154797   \n",
       "1    7.310031  5.399082  4.213155  ...  7.396918  4.923376  5.828350   \n",
       "2    6.407779  5.094513  4.164167  ...  7.323773  6.205874  5.923864   \n",
       "3    8.035208  6.034542  4.543694  ...  7.295814  5.969998  6.651092   \n",
       "4    7.855886  5.818230  4.660742  ...  7.451849  5.844751  6.268313   \n",
       "..        ...       ...       ...  ...       ...       ...       ...   \n",
       "102  9.839728  6.076459  3.998187  ...  7.835594  5.659436  6.335371   \n",
       "103  7.482525  5.762355  3.998187  ...  6.621006  5.895063  6.421056   \n",
       "104  8.962164  7.130242  4.327737  ...  8.172748  6.479782  7.043235   \n",
       "105  8.490338  5.354927  3.887201  ...  7.376728  5.349976  5.972116   \n",
       "106  8.898227  7.392100  3.887201  ...  8.795379  5.349976  5.972116   \n",
       "\n",
       "        ITGA5     PDGFA     PDGFB      GRB2     CCND1    PIK3R1     BIRC2  \n",
       "0    4.728379  6.348953  4.910223  7.497142  8.763867  7.074309  6.254792  \n",
       "1    5.346675  6.681751  3.884280  7.154931  8.360980  7.308968  6.084218  \n",
       "2    4.647113  6.078079  3.860516  6.942900  8.557394  7.141224  6.306339  \n",
       "3    4.852498  6.683461  4.298766  7.325002  8.815787  6.927415  5.868231  \n",
       "4    5.519980  6.026231  4.631380  7.271276  8.059317  7.563310  6.236375  \n",
       "..        ...       ...       ...       ...       ...       ...       ...  \n",
       "102  4.948888  6.335928  4.546304  6.953539  8.814828  7.700050  6.514003  \n",
       "103  4.373257  7.402658  4.970225  7.273947  8.238052  7.469386  6.369455  \n",
       "104  4.734178  6.373126  4.488608  7.072283  8.853904  6.795654  6.349480  \n",
       "105  5.302761  6.312014  4.003970  6.713200  7.473833  7.772563  5.519994  \n",
       "106  4.291686  6.312014  5.350612  7.392766  9.271444  6.980144  6.312586  \n",
       "\n",
       "[107 rows x 25 columns]"
      ]
     },
     "execution_count": 14,
     "metadata": {},
     "output_type": "execute_result"
    }
   ],
   "source": [
    "genename_drop = genename.drop(columns = ['Unnamed: 0', 'Disease', 'ID', 'Disease2', 'Nephrotic'])\n",
    "genename_drop"
   ]
  },
  {
   "cell_type": "code",
   "execution_count": 15,
   "id": "ce7c902c",
   "metadata": {},
   "outputs": [],
   "source": [
    "genename_drop_corr = genename_drop.corr()\n",
    "#genename_drop_corr = genename_drop_corr.drop(columns = ['Unnamed: 0'])\n"
   ]
  },
  {
   "cell_type": "code",
   "execution_count": 16,
   "id": "7dd36004",
   "metadata": {},
   "outputs": [],
   "source": [
    "#df = px.data.genename_drop(indexed=True)\n",
    "#fig = px.imshow(genename_drop_corr)\n",
    "#fig.show()"
   ]
  },
  {
   "cell_type": "code",
   "execution_count": 17,
   "id": "7a455acf",
   "metadata": {},
   "outputs": [
    {
     "data": {
      "text/plain": [
       "Index(['Unnamed: 0', 'ZYX', 'CRK', 'COL4A2', 'ITGA3', 'COL4A1', 'VEGFC',\n",
       "       'PDGFRB', 'FLT1', 'FLT4', 'PIP5K1C', 'ACTN4', 'TLN1', 'FLNA', 'PXN',\n",
       "       'ILK', 'PIK3R3', 'VAV2', 'RAPGEF1', 'ITGA5', 'PDGFA', 'PDGFB', 'GRB2',\n",
       "       'CCND1', 'PIK3R1', 'BIRC2', 'Disease', 'ID', 'Disease2', 'Nephrotic'],\n",
       "      dtype='object')"
      ]
     },
     "execution_count": 17,
     "metadata": {},
     "output_type": "execute_result"
    }
   ],
   "source": [
    "genename.columns"
   ]
  },
  {
   "cell_type": "code",
   "execution_count": null,
   "id": "ca543d07",
   "metadata": {},
   "outputs": [],
   "source": []
  },
  {
   "cell_type": "code",
   "execution_count": 18,
   "id": "fcfc1111",
   "metadata": {},
   "outputs": [],
   "source": [
    "genename_drop_gather = genename.melt(id_vars = ['Disease', 'ID', 'Disease2', 'Nephrotic', 'Unnamed: 0'],\n",
    "                  value_vars = ['ZYX', 'CRK', 'COL4A2', 'ITGA3', 'COL4A1', 'VEGFC',\n",
    "       'PDGFRB', 'FLT1', 'FLT4', 'PIP5K1C', 'ACTN4', 'TLN1', 'FLNA', 'PXN',\n",
    "       'ILK', 'PIK3R3', 'VAV2', 'RAPGEF1', 'ITGA5', 'PDGFA', 'PDGFB', 'GRB2',\n",
    "       'CCND1', 'PIK3R1', 'BIRC2'],\n",
    "                  var_name = \"Protein names\", \n",
    "                  value_name = \"Expression level\")"
   ]
  },
  {
   "cell_type": "code",
   "execution_count": 19,
   "id": "7e028d10",
   "metadata": {},
   "outputs": [
    {
     "data": {
      "text/html": [
       "<div>\n",
       "<style scoped>\n",
       "    .dataframe tbody tr th:only-of-type {\n",
       "        vertical-align: middle;\n",
       "    }\n",
       "\n",
       "    .dataframe tbody tr th {\n",
       "        vertical-align: top;\n",
       "    }\n",
       "\n",
       "    .dataframe thead th {\n",
       "        text-align: right;\n",
       "    }\n",
       "</style>\n",
       "<table border=\"1\" class=\"dataframe\">\n",
       "  <thead>\n",
       "    <tr style=\"text-align: right;\">\n",
       "      <th></th>\n",
       "      <th>Disease</th>\n",
       "      <th>ID</th>\n",
       "      <th>Disease2</th>\n",
       "      <th>Nephrotic</th>\n",
       "      <th>Unnamed: 0</th>\n",
       "      <th>Protein names</th>\n",
       "      <th>Expression level</th>\n",
       "    </tr>\n",
       "  </thead>\n",
       "  <tbody>\n",
       "    <tr>\n",
       "      <th>0</th>\n",
       "      <td>Glomerular</td>\n",
       "      <td>94</td>\n",
       "      <td>MN</td>\n",
       "      <td>1</td>\n",
       "      <td>1</td>\n",
       "      <td>ZYX</td>\n",
       "      <td>6.616270</td>\n",
       "    </tr>\n",
       "    <tr>\n",
       "      <th>1</th>\n",
       "      <td>Glomerular</td>\n",
       "      <td>81</td>\n",
       "      <td>FSGS</td>\n",
       "      <td>1</td>\n",
       "      <td>2</td>\n",
       "      <td>ZYX</td>\n",
       "      <td>7.001047</td>\n",
       "    </tr>\n",
       "    <tr>\n",
       "      <th>2</th>\n",
       "      <td>Glomerular</td>\n",
       "      <td>133</td>\n",
       "      <td>MN</td>\n",
       "      <td>1</td>\n",
       "      <td>3</td>\n",
       "      <td>ZYX</td>\n",
       "      <td>6.628755</td>\n",
       "    </tr>\n",
       "    <tr>\n",
       "      <th>3</th>\n",
       "      <td>Glomerular</td>\n",
       "      <td>102</td>\n",
       "      <td>MN</td>\n",
       "      <td>1</td>\n",
       "      <td>4</td>\n",
       "      <td>ZYX</td>\n",
       "      <td>6.984691</td>\n",
       "    </tr>\n",
       "    <tr>\n",
       "      <th>4</th>\n",
       "      <td>Glomerular</td>\n",
       "      <td>82</td>\n",
       "      <td>FSGS</td>\n",
       "      <td>1</td>\n",
       "      <td>5</td>\n",
       "      <td>ZYX</td>\n",
       "      <td>6.714409</td>\n",
       "    </tr>\n",
       "    <tr>\n",
       "      <th>...</th>\n",
       "      <td>...</td>\n",
       "      <td>...</td>\n",
       "      <td>...</td>\n",
       "      <td>...</td>\n",
       "      <td>...</td>\n",
       "      <td>...</td>\n",
       "      <td>...</td>\n",
       "    </tr>\n",
       "    <tr>\n",
       "      <th>2670</th>\n",
       "      <td>Glomerular</td>\n",
       "      <td>6</td>\n",
       "      <td>MCD</td>\n",
       "      <td>1</td>\n",
       "      <td>103</td>\n",
       "      <td>BIRC2</td>\n",
       "      <td>6.514003</td>\n",
       "    </tr>\n",
       "    <tr>\n",
       "      <th>2671</th>\n",
       "      <td>Glomerular</td>\n",
       "      <td>567</td>\n",
       "      <td>MN</td>\n",
       "      <td>1</td>\n",
       "      <td>104</td>\n",
       "      <td>BIRC2</td>\n",
       "      <td>6.369455</td>\n",
       "    </tr>\n",
       "    <tr>\n",
       "      <th>2672</th>\n",
       "      <td>Glomerular</td>\n",
       "      <td>571</td>\n",
       "      <td>MN</td>\n",
       "      <td>1</td>\n",
       "      <td>105</td>\n",
       "      <td>BIRC2</td>\n",
       "      <td>6.349480</td>\n",
       "    </tr>\n",
       "    <tr>\n",
       "      <th>2673</th>\n",
       "      <td>Glomerular</td>\n",
       "      <td>569</td>\n",
       "      <td>MN</td>\n",
       "      <td>1</td>\n",
       "      <td>106</td>\n",
       "      <td>BIRC2</td>\n",
       "      <td>5.519994</td>\n",
       "    </tr>\n",
       "    <tr>\n",
       "      <th>2674</th>\n",
       "      <td>Glomerular</td>\n",
       "      <td>566</td>\n",
       "      <td>MN</td>\n",
       "      <td>1</td>\n",
       "      <td>107</td>\n",
       "      <td>BIRC2</td>\n",
       "      <td>6.312586</td>\n",
       "    </tr>\n",
       "  </tbody>\n",
       "</table>\n",
       "<p>2675 rows × 7 columns</p>\n",
       "</div>"
      ],
      "text/plain": [
       "         Disease   ID Disease2 Nephrotic  Unnamed: 0 Protein names  \\\n",
       "0     Glomerular   94       MN         1           1           ZYX   \n",
       "1     Glomerular   81     FSGS         1           2           ZYX   \n",
       "2     Glomerular  133       MN         1           3           ZYX   \n",
       "3     Glomerular  102       MN         1           4           ZYX   \n",
       "4     Glomerular   82     FSGS         1           5           ZYX   \n",
       "...          ...  ...      ...       ...         ...           ...   \n",
       "2670  Glomerular    6      MCD         1         103         BIRC2   \n",
       "2671  Glomerular  567       MN         1         104         BIRC2   \n",
       "2672  Glomerular  571       MN         1         105         BIRC2   \n",
       "2673  Glomerular  569       MN         1         106         BIRC2   \n",
       "2674  Glomerular  566       MN         1         107         BIRC2   \n",
       "\n",
       "      Expression level  \n",
       "0             6.616270  \n",
       "1             7.001047  \n",
       "2             6.628755  \n",
       "3             6.984691  \n",
       "4             6.714409  \n",
       "...                ...  \n",
       "2670          6.514003  \n",
       "2671          6.369455  \n",
       "2672          6.349480  \n",
       "2673          5.519994  \n",
       "2674          6.312586  \n",
       "\n",
       "[2675 rows x 7 columns]"
      ]
     },
     "execution_count": 19,
     "metadata": {},
     "output_type": "execute_result"
    }
   ],
   "source": [
    "genename_drop_gather"
   ]
  },
  {
   "cell_type": "code",
   "execution_count": null,
   "id": "b19d8c45",
   "metadata": {},
   "outputs": [],
   "source": [
    "\n"
   ]
  },
  {
   "cell_type": "code",
   "execution_count": 20,
   "id": "59a98733",
   "metadata": {},
   "outputs": [
    {
     "data": {
      "text/plain": [
       "(array([ 0,  1,  2,  3,  4,  5,  6,  7,  8,  9, 10, 11, 12, 13, 14, 15, 16,\n",
       "        17, 18, 19, 20, 21, 22, 23, 24]),\n",
       " [Text(0, 0, 'ZYX'),\n",
       "  Text(1, 0, 'CRK'),\n",
       "  Text(2, 0, 'COL4A2'),\n",
       "  Text(3, 0, 'ITGA3'),\n",
       "  Text(4, 0, 'COL4A1'),\n",
       "  Text(5, 0, 'VEGFC'),\n",
       "  Text(6, 0, 'PDGFRB'),\n",
       "  Text(7, 0, 'FLT1'),\n",
       "  Text(8, 0, 'FLT4'),\n",
       "  Text(9, 0, 'PIP5K1C'),\n",
       "  Text(10, 0, 'ACTN4'),\n",
       "  Text(11, 0, 'TLN1'),\n",
       "  Text(12, 0, 'FLNA'),\n",
       "  Text(13, 0, 'PXN'),\n",
       "  Text(14, 0, 'ILK'),\n",
       "  Text(15, 0, 'PIK3R3'),\n",
       "  Text(16, 0, 'VAV2'),\n",
       "  Text(17, 0, 'RAPGEF1'),\n",
       "  Text(18, 0, 'ITGA5'),\n",
       "  Text(19, 0, 'PDGFA'),\n",
       "  Text(20, 0, 'PDGFB'),\n",
       "  Text(21, 0, 'GRB2'),\n",
       "  Text(22, 0, 'CCND1'),\n",
       "  Text(23, 0, 'PIK3R1'),\n",
       "  Text(24, 0, 'BIRC2')])"
      ]
     },
     "execution_count": 20,
     "metadata": {},
     "output_type": "execute_result"
    },
    {
     "data": {
      "image/png": "[encoded data removed]",
      "text/plain": [
       "<Figure size 432x288 with 1 Axes>"
      ]
     },
     "metadata": {
      "needs_background": "light"
     },
     "output_type": "display_data"
    }
   ],
   "source": [
    "sns.violinplot(x='Protein names', y='Expression level', hue='Nephrotic', data=genename_drop_gather, split=True)\n",
    "plt.xticks(rotation='vertical')\n"
   ]
  },
  {
   "cell_type": "code",
   "execution_count": 26,
   "id": "93c7efa3",
   "metadata": {},
   "outputs": [
    {
     "data": {
      "image/png": "[encoded data removed]",
      "text/plain": [
       "<Figure size 432x288 with 2 Axes>"
      ]
     },
     "metadata": {
      "needs_background": "light"
     },
     "output_type": "display_data"
    }
   ],
   "source": [
    "corr = genename_drop.corr()\n",
    "mask = np.triu(np.ones_like(corr, dtype = bool))\n",
    "sns.heatmap(corr, mask = mask, linewidths = 1, annot = True, fmt = \".1f\")\n",
    "plt.show()"
   ]
  },
  {
   "cell_type": "code",
   "execution_count": 19,
   "id": "96180e46",
   "metadata": {},
   "outputs": [
    {
     "name": "stdout",
     "output_type": "stream",
     "text": [
      "Requirement already satisfied: imblearn in c:\\users\\liden\\anaconda3\\envs\\uncg\\lib\\site-packages (0.0)\n",
      "Requirement already satisfied: imbalanced-learn in c:\\users\\liden\\anaconda3\\envs\\uncg\\lib\\site-packages (from imblearn) (0.9.1)\n",
      "Requirement already satisfied: scipy>=1.3.2 in c:\\users\\liden\\anaconda3\\envs\\uncg\\lib\\site-packages (from imbalanced-learn->imblearn) (1.7.1)\n",
      "Requirement already satisfied: joblib>=1.0.0 in c:\\users\\liden\\anaconda3\\envs\\uncg\\lib\\site-packages (from imbalanced-learn->imblearn) (1.0.1)\n",
      "Requirement already satisfied: scikit-learn>=1.1.0 in c:\\users\\liden\\anaconda3\\envs\\uncg\\lib\\site-packages (from imbalanced-learn->imblearn) (1.1.2)\n",
      "Requirement already satisfied: numpy>=1.17.3 in c:\\users\\liden\\anaconda3\\envs\\uncg\\lib\\site-packages (from imbalanced-learn->imblearn) (1.21.2)\n",
      "Requirement already satisfied: threadpoolctl>=2.0.0 in c:\\users\\liden\\anaconda3\\envs\\uncg\\lib\\site-packages (from imbalanced-learn->imblearn) (2.2.0)\n",
      "Note: you may need to restart the kernel to use updated packages.\n"
     ]
    }
   ],
   "source": [
    "pip install imblearn"
   ]
  },
  {
   "cell_type": "code",
   "execution_count": null,
   "id": "898fbcaf",
   "metadata": {},
   "outputs": [],
   "source": []
  },
  {
   "cell_type": "code",
   "execution_count": 27,
   "id": "f5ce97e3",
   "metadata": {},
   "outputs": [
    {
     "data": {
      "text/plain": [
       "Index(['Unnamed: 0', 'ZYX', 'CRK', 'COL4A2', 'ITGA3', 'COL4A1', 'VEGFC',\n",
       "       'PDGFRB', 'FLT1', 'FLT4', 'PIP5K1C', 'ACTN4', 'TLN1', 'FLNA', 'PXN',\n",
       "       'ILK', 'PIK3R3', 'VAV2', 'RAPGEF1', 'ITGA5', 'PDGFA', 'PDGFB', 'GRB2',\n",
       "       'CCND1', 'PIK3R1', 'BIRC2', 'Disease', 'ID', 'Disease2', 'Nephrotic'],\n",
       "      dtype='object')"
      ]
     },
     "execution_count": 27,
     "metadata": {},
     "output_type": "execute_result"
    }
   ],
   "source": [
    "genename.columns"
   ]
  },
  {
   "cell_type": "code",
   "execution_count": 28,
   "id": "15813238",
   "metadata": {},
   "outputs": [],
   "source": [
    "feature_names=['ZYX', 'CRK', 'COL4A2', 'ITGA3', 'COL4A1', 'VEGFC',\n",
    "       'PDGFRB', 'FLT1', 'FLT4', 'PIP5K1C', 'ACTN4', 'TLN1', 'FLNA', 'PXN',\n",
    "       'ILK', 'PIK3R3', 'VAV2', 'RAPGEF1', 'ITGA5', 'PDGFA', 'PDGFB', 'GRB2',\n",
    "       'CCND1', 'PIK3R1', 'BIRC2']\n",
    "X = pd.DataFrame(genename, columns=feature_names)\n",
    "y = genename.Nephrotic\n",
    "X_train, X_test, y_train, y_test = train_test_split(X, y, test_size=0.25, random_state=12)\n"
   ]
  },
  {
   "cell_type": "code",
   "execution_count": null,
   "id": "d9064a31",
   "metadata": {},
   "outputs": [],
   "source": []
  },
  {
   "cell_type": "code",
   "execution_count": 14,
   "id": "3eb3c3a7",
   "metadata": {},
   "outputs": [
    {
     "name": "stdout",
     "output_type": "stream",
     "text": [
      "X_train Shape: (80, 25)\n",
      "X_test Shape: (27, 25)\n",
      "y_train Shape: (80,)\n",
      "y_test Shape: (27,)\n"
     ]
    }
   ],
   "source": [
    "print('X_train Shape:', X_train.shape)\n",
    "print('X_test Shape:', X_test.shape)\n",
    "print('y_train Shape:', y_train.shape)\n",
    "print('y_test Shape:', y_test.shape)"
   ]
  },
  {
   "cell_type": "markdown",
   "id": "03929c00",
   "metadata": {},
   "source": [
    "#### Balanced method"
   ]
  },
  {
   "cell_type": "code",
   "execution_count": 42,
   "id": "2376b9ee",
   "metadata": {},
   "outputs": [],
   "source": [
    "import random\n",
    "random.seed(123)"
   ]
  },
  {
   "cell_type": "code",
   "execution_count": 43,
   "id": "afd8d6b7",
   "metadata": {},
   "outputs": [],
   "source": [
    "model = RandomForestClassifier(class_weight='balanced',random_state=12)"
   ]
  },
  {
   "cell_type": "code",
   "execution_count": 44,
   "id": "7fc1d20b",
   "metadata": {},
   "outputs": [
    {
     "data": {
      "text/html": [
       "<style>#sk-container-id-2 {color: black;background-color: white;}#sk-container-id-2 pre{padding: 0;}#sk-container-id-2 div.sk-toggleable {background-color: white;}#sk-container-id-2 label.sk-toggleable__label {cursor: pointer;display: block;width: 100%;margin-bottom: 0;padding: 0.3em;box-sizing: border-box;text-align: center;}#sk-container-id-2 label.sk-toggleable__label-arrow:before {content: \"▸\";float: left;margin-right: 0.25em;color: #696969;}#sk-container-id-2 label.sk-toggleable__label-arrow:hover:before {color: black;}#sk-container-id-2 div.sk-estimator:hover label.sk-toggleable__label-arrow:before {color: black;}#sk-container-id-2 div.sk-toggleable__content {max-height: 0;max-width: 0;overflow: hidden;text-align: left;background-color: #f0f8ff;}#sk-container-id-2 div.sk-toggleable__content pre {margin: 0.2em;color: black;border-radius: 0.25em;background-color: #f0f8ff;}#sk-container-id-2 input.sk-toggleable__control:checked~div.sk-toggleable__content {max-height: 200px;max-width: 100%;overflow: auto;}#sk-container-id-2 input.sk-toggleable__control:checked~label.sk-toggleable__label-arrow:before {content: \"▾\";}#sk-container-id-2 div.sk-estimator input.sk-toggleable__control:checked~label.sk-toggleable__label {background-color: #d4ebff;}#sk-container-id-2 div.sk-label input.sk-toggleable__control:checked~label.sk-toggleable__label {background-color: #d4ebff;}#sk-container-id-2 input.sk-hidden--visually {border: 0;clip: rect(1px 1px 1px 1px);clip: rect(1px, 1px, 1px, 1px);height: 1px;margin: -1px;overflow: hidden;padding: 0;position: absolute;width: 1px;}#sk-container-id-2 div.sk-estimator {font-family: monospace;background-color: #f0f8ff;border: 1px dotted black;border-radius: 0.25em;box-sizing: border-box;margin-bottom: 0.5em;}#sk-container-id-2 div.sk-estimator:hover {background-color: #d4ebff;}#sk-container-id-2 div.sk-parallel-item::after {content: \"\";width: 100%;border-bottom: 1px solid gray;flex-grow: 1;}#sk-container-id-2 div.sk-label:hover label.sk-toggleable__label {background-color: #d4ebff;}#sk-container-id-2 div.sk-serial::before {content: \"\";position: absolute;border-left: 1px solid gray;box-sizing: border-box;top: 0;bottom: 0;left: 50%;z-index: 0;}#sk-container-id-2 div.sk-serial {display: flex;flex-direction: column;align-items: center;background-color: white;padding-right: 0.2em;padding-left: 0.2em;position: relative;}#sk-container-id-2 div.sk-item {position: relative;z-index: 1;}#sk-container-id-2 div.sk-parallel {display: flex;align-items: stretch;justify-content: center;background-color: white;position: relative;}#sk-container-id-2 div.sk-item::before, #sk-container-id-2 div.sk-parallel-item::before {content: \"\";position: absolute;border-left: 1px solid gray;box-sizing: border-box;top: 0;bottom: 0;left: 50%;z-index: -1;}#sk-container-id-2 div.sk-parallel-item {display: flex;flex-direction: column;z-index: 1;position: relative;background-color: white;}#sk-container-id-2 div.sk-parallel-item:first-child::after {align-self: flex-end;width: 50%;}#sk-container-id-2 div.sk-parallel-item:last-child::after {align-self: flex-start;width: 50%;}#sk-container-id-2 div.sk-parallel-item:only-child::after {width: 0;}#sk-container-id-2 div.sk-dashed-wrapped {border: 1px dashed gray;margin: 0 0.4em 0.5em 0.4em;box-sizing: border-box;padding-bottom: 0.4em;background-color: white;}#sk-container-id-2 div.sk-label label {font-family: monospace;font-weight: bold;display: inline-block;line-height: 1.2em;}#sk-container-id-2 div.sk-label-container {text-align: center;}#sk-container-id-2 div.sk-container {/* jupyter's `normalize.less` sets `[hidden] { display: none; }` but bootstrap.min.css set `[hidden] { display: none !important; }` so we also need the `!important` here to be able to override the default hidden behavior on the sphinx rendered scikit-learn.org. See: https://github.com/scikit-learn/scikit-learn/issues/21755 */display: inline-block !important;position: relative;}#sk-container-id-2 div.sk-text-repr-fallback {display: none;}</style><div id=\"sk-container-id-2\" class=\"sk-top-container\"><div class=\"sk-text-repr-fallback\"><pre>RandomForestClassifier(class_weight=&#x27;balanced&#x27;, random_state=12)</pre><b>In a Jupyter environment, please rerun this cell to show the HTML representation or trust the notebook. <br />On GitHub, the HTML representation is unable to render, please try loading this page with nbviewer.org.</b></div><div class=\"sk-container\" hidden><div class=\"sk-item\"><div class=\"sk-estimator sk-toggleable\"><input class=\"sk-toggleable__control sk-hidden--visually\" id=\"sk-estimator-id-2\" type=\"checkbox\" checked><label for=\"sk-estimator-id-2\" class=\"sk-toggleable__label sk-toggleable__label-arrow\">RandomForestClassifier</label><div class=\"sk-toggleable__content\"><pre>RandomForestClassifier(class_weight=&#x27;balanced&#x27;, random_state=12)</pre></div></div></div></div></div>"
      ],
      "text/plain": [
       "RandomForestClassifier(class_weight='balanced', random_state=12)"
      ]
     },
     "execution_count": 44,
     "metadata": {},
     "output_type": "execute_result"
    }
   ],
   "source": [
    "model.fit(X_train, y_train)"
   ]
  },
  {
   "cell_type": "code",
   "execution_count": 45,
   "id": "e0d2f66e",
   "metadata": {},
   "outputs": [
    {
     "data": {
      "text/plain": [
       "array([1.72216277e-01, 1.18873068e-01, 6.81022416e-02, 1.05605436e-01,\n",
       "       2.02499216e-02, 2.41148027e-02, 2.91390882e-02, 8.97435897e-03,\n",
       "       9.34314574e-03, 1.00000000e-02, 5.67641499e-02, 8.70543332e-02,\n",
       "       2.35076837e-03, 1.84537070e-17, 3.07738375e-02, 3.35832740e-03,\n",
       "       4.80903484e-02, 2.04096107e-02, 8.15461099e-02, 2.00000000e-02,\n",
       "       9.61038961e-03, 3.26068520e-03, 2.96555219e-02, 2.98157022e-02,\n",
       "       1.06918754e-02])"
      ]
     },
     "execution_count": 45,
     "metadata": {},
     "output_type": "execute_result"
    }
   ],
   "source": [
    "model.feature_importances_"
   ]
  },
  {
   "cell_type": "code",
   "execution_count": 27,
   "id": "de25b020",
   "metadata": {},
   "outputs": [],
   "source": [
    "#feature_scores = pd.Series(model.feature_importances_, index=X_train.columns).sort_values(ascending=True)"
   ]
  },
  {
   "cell_type": "code",
   "execution_count": 28,
   "id": "34c4c977",
   "metadata": {},
   "outputs": [],
   "source": [
    "#feature_scores"
   ]
  },
  {
   "cell_type": "code",
   "execution_count": 29,
   "id": "de49396c",
   "metadata": {},
   "outputs": [
    {
     "data": {
      "text/plain": [
       "Text(0.5, 1.0, 'focal_adhesion gene feature importance ranking')"
      ]
     },
     "execution_count": 29,
     "metadata": {},
     "output_type": "execute_result"
    },
    {
     "data": {
      "image/png": "[encoded data removed]",
      "text/plain": [
       "<Figure size 432x288 with 1 Axes>"
      ]
     },
     "metadata": {
      "needs_background": "light"
     },
     "output_type": "display_data"
    }
   ],
   "source": [
    "plt.barh(feature_names, model.feature_importances_)\n",
    "plt.xlabel(\"Feature importance score\")\n",
    "plt.title(\"focal_adhesion gene feature importance ranking\")"
   ]
  },
  {
   "cell_type": "code",
   "execution_count": 30,
   "id": "2a805545",
   "metadata": {},
   "outputs": [
    {
     "data": {
      "text/plain": [
       "ZYX        1.722163e-01\n",
       "CRK        1.188731e-01\n",
       "ITGA3      1.056054e-01\n",
       "TLN1       8.705433e-02\n",
       "ITGA5      8.154611e-02\n",
       "COL4A2     6.810224e-02\n",
       "ACTN4      5.676415e-02\n",
       "VAV2       4.809035e-02\n",
       "ILK        3.077384e-02\n",
       "PIK3R1     2.981570e-02\n",
       "CCND1      2.965552e-02\n",
       "PDGFRB     2.913909e-02\n",
       "VEGFC      2.411480e-02\n",
       "RAPGEF1    2.040961e-02\n",
       "COL4A1     2.024992e-02\n",
       "PDGFA      2.000000e-02\n",
       "BIRC2      1.069188e-02\n",
       "PIP5K1C    1.000000e-02\n",
       "PDGFB      9.610390e-03\n",
       "FLT4       9.343146e-03\n",
       "FLT1       8.974359e-03\n",
       "PIK3R3     3.358327e-03\n",
       "GRB2       3.260685e-03\n",
       "FLNA       2.350768e-03\n",
       "PXN        1.845371e-17\n",
       "dtype: float64"
      ]
     },
     "execution_count": 30,
     "metadata": {},
     "output_type": "execute_result"
    }
   ],
   "source": [
    "\n",
    "feature_scores = pd.Series(model.feature_importances_, index=X_train.columns).sort_values(ascending=False)\n",
    "\n",
    "feature_scores"
   ]
  },
  {
   "cell_type": "code",
   "execution_count": 31,
   "id": "5b0454e6",
   "metadata": {},
   "outputs": [
    {
     "data": {
      "text/plain": [
       "Text(0.5, 0, 'Feature importance score')"
      ]
     },
     "execution_count": 31,
     "metadata": {},
     "output_type": "execute_result"
    },
    {
     "data": {
      "image/png": "[encoded data removed]",
      "text/plain": [
       "<Figure size 432x288 with 1 Axes>"
      ]
     },
     "metadata": {
      "needs_background": "light"
     },
     "output_type": "display_data"
    }
   ],
   "source": [
    "sns.barplot(x=feature_scores, y=feature_scores.index)\n",
    "plt.xlabel(\"Feature importance score\")"
   ]
  },
  {
   "cell_type": "code",
   "execution_count": 38,
   "id": "d63d678a",
   "metadata": {},
   "outputs": [],
   "source": [
    "import matplotlib.pyplot as plt\n",
    "from sklearn import metrics\n",
    "from sklearn.preprocessing import StandardScaler\n",
    "from sklearn.model_selection import GridSearchCV\n",
    "from sklearn.model_selection import RandomizedSearchCV\n",
    "from sklearn.metrics import RocCurveDisplay\n",
    "from sklearn.metrics import accuracy_score, confusion_matrix, roc_curve, roc_auc_score\n",
    "import matplotlib.pyplot as plt"
   ]
  },
  {
   "cell_type": "code",
   "execution_count": 37,
   "id": "e424bf8a",
   "metadata": {},
   "outputs": [],
   "source": [
    "# class balanced random forest for imbalanced classification\n",
    "from numpy import mean\n",
    "from sklearn.datasets import make_classification\n",
    "from sklearn.model_selection import cross_val_score\n",
    "from sklearn.model_selection import RepeatedStratifiedKFold"
   ]
  },
  {
   "cell_type": "code",
   "execution_count": 35,
   "id": "53adf968",
   "metadata": {},
   "outputs": [],
   "source": [
    "from collections import Counter"
   ]
  },
  {
   "cell_type": "markdown",
   "id": "23c9fe9d",
   "metadata": {},
   "source": [
    "#### Under-sampling"
   ]
  },
  {
   "cell_type": "code",
   "execution_count": 48,
   "id": "3edae970",
   "metadata": {},
   "outputs": [
    {
     "name": "stdout",
     "output_type": "stream",
     "text": [
      "Random undersampling Counter({'1': 30, '0': 6})\n"
     ]
    }
   ],
   "source": [
    "from imblearn.datasets import make_imbalance\n",
    "X_rs, y_rs = make_imbalance(X_train, y_train, sampling_strategy={'1': 30, '0': 6},\n",
    "                      random_state=0)\n",
    "print('Random undersampling {}'.format(Counter(y_rs)))\n"
   ]
  },
  {
   "cell_type": "code",
   "execution_count": 26,
   "id": "a2d9a4ed",
   "metadata": {},
   "outputs": [],
   "source": [
    "\n",
    "model1 = RandomForestClassifier(random_state=12)"
   ]
  },
  {
   "cell_type": "code",
   "execution_count": 27,
   "id": "7d419f28",
   "metadata": {},
   "outputs": [
    {
     "data": {
      "text/html": [
       "<style>#sk-container-id-2 {color: black;background-color: white;}#sk-container-id-2 pre{padding: 0;}#sk-container-id-2 div.sk-toggleable {background-color: white;}#sk-container-id-2 label.sk-toggleable__label {cursor: pointer;display: block;width: 100%;margin-bottom: 0;padding: 0.3em;box-sizing: border-box;text-align: center;}#sk-container-id-2 label.sk-toggleable__label-arrow:before {content: \"▸\";float: left;margin-right: 0.25em;color: #696969;}#sk-container-id-2 label.sk-toggleable__label-arrow:hover:before {color: black;}#sk-container-id-2 div.sk-estimator:hover label.sk-toggleable__label-arrow:before {color: black;}#sk-container-id-2 div.sk-toggleable__content {max-height: 0;max-width: 0;overflow: hidden;text-align: left;background-color: #f0f8ff;}#sk-container-id-2 div.sk-toggleable__content pre {margin: 0.2em;color: black;border-radius: 0.25em;background-color: #f0f8ff;}#sk-container-id-2 input.sk-toggleable__control:checked~div.sk-toggleable__content {max-height: 200px;max-width: 100%;overflow: auto;}#sk-container-id-2 input.sk-toggleable__control:checked~label.sk-toggleable__label-arrow:before {content: \"▾\";}#sk-container-id-2 div.sk-estimator input.sk-toggleable__control:checked~label.sk-toggleable__label {background-color: #d4ebff;}#sk-container-id-2 div.sk-label input.sk-toggleable__control:checked~label.sk-toggleable__label {background-color: #d4ebff;}#sk-container-id-2 input.sk-hidden--visually {border: 0;clip: rect(1px 1px 1px 1px);clip: rect(1px, 1px, 1px, 1px);height: 1px;margin: -1px;overflow: hidden;padding: 0;position: absolute;width: 1px;}#sk-container-id-2 div.sk-estimator {font-family: monospace;background-color: #f0f8ff;border: 1px dotted black;border-radius: 0.25em;box-sizing: border-box;margin-bottom: 0.5em;}#sk-container-id-2 div.sk-estimator:hover {background-color: #d4ebff;}#sk-container-id-2 div.sk-parallel-item::after {content: \"\";width: 100%;border-bottom: 1px solid gray;flex-grow: 1;}#sk-container-id-2 div.sk-label:hover label.sk-toggleable__label {background-color: #d4ebff;}#sk-container-id-2 div.sk-serial::before {content: \"\";position: absolute;border-left: 1px solid gray;box-sizing: border-box;top: 0;bottom: 0;left: 50%;z-index: 0;}#sk-container-id-2 div.sk-serial {display: flex;flex-direction: column;align-items: center;background-color: white;padding-right: 0.2em;padding-left: 0.2em;position: relative;}#sk-container-id-2 div.sk-item {position: relative;z-index: 1;}#sk-container-id-2 div.sk-parallel {display: flex;align-items: stretch;justify-content: center;background-color: white;position: relative;}#sk-container-id-2 div.sk-item::before, #sk-container-id-2 div.sk-parallel-item::before {content: \"\";position: absolute;border-left: 1px solid gray;box-sizing: border-box;top: 0;bottom: 0;left: 50%;z-index: -1;}#sk-container-id-2 div.sk-parallel-item {display: flex;flex-direction: column;z-index: 1;position: relative;background-color: white;}#sk-container-id-2 div.sk-parallel-item:first-child::after {align-self: flex-end;width: 50%;}#sk-container-id-2 div.sk-parallel-item:last-child::after {align-self: flex-start;width: 50%;}#sk-container-id-2 div.sk-parallel-item:only-child::after {width: 0;}#sk-container-id-2 div.sk-dashed-wrapped {border: 1px dashed gray;margin: 0 0.4em 0.5em 0.4em;box-sizing: border-box;padding-bottom: 0.4em;background-color: white;}#sk-container-id-2 div.sk-label label {font-family: monospace;font-weight: bold;display: inline-block;line-height: 1.2em;}#sk-container-id-2 div.sk-label-container {text-align: center;}#sk-container-id-2 div.sk-container {/* jupyter's `normalize.less` sets `[hidden] { display: none; }` but bootstrap.min.css set `[hidden] { display: none !important; }` so we also need the `!important` here to be able to override the default hidden behavior on the sphinx rendered scikit-learn.org. See: https://github.com/scikit-learn/scikit-learn/issues/21755 */display: inline-block !important;position: relative;}#sk-container-id-2 div.sk-text-repr-fallback {display: none;}</style><div id=\"sk-container-id-2\" class=\"sk-top-container\"><div class=\"sk-text-repr-fallback\"><pre>RandomForestClassifier(random_state=12)</pre><b>In a Jupyter environment, please rerun this cell to show the HTML representation or trust the notebook. <br />On GitHub, the HTML representation is unable to render, please try loading this page with nbviewer.org.</b></div><div class=\"sk-container\" hidden><div class=\"sk-item\"><div class=\"sk-estimator sk-toggleable\"><input class=\"sk-toggleable__control sk-hidden--visually\" id=\"sk-estimator-id-2\" type=\"checkbox\" checked><label for=\"sk-estimator-id-2\" class=\"sk-toggleable__label sk-toggleable__label-arrow\">RandomForestClassifier</label><div class=\"sk-toggleable__content\"><pre>RandomForestClassifier(random_state=12)</pre></div></div></div></div></div>"
      ],
      "text/plain": [
       "RandomForestClassifier(random_state=12)"
      ]
     },
     "execution_count": 27,
     "metadata": {},
     "output_type": "execute_result"
    }
   ],
   "source": [
    "model1.fit(X_rs, y_rs)"
   ]
  },
  {
   "cell_type": "code",
   "execution_count": 28,
   "id": "a30396e6",
   "metadata": {},
   "outputs": [
    {
     "data": {
      "text/plain": [
       "array([0.15528916, 0.05899232, 0.04681841, 0.02853976, 0.05237048,\n",
       "       0.03140093, 0.01559437, 0.01847042, 0.04000831, 0.05524657,\n",
       "       0.03585859, 0.03800692, 0.01275963, 0.002886  , 0.02020202,\n",
       "       0.01154401, 0.0702001 , 0.04036797, 0.05785124, 0.04877763,\n",
       "       0.003299  , 0.00275482, 0.09239503, 0.01010101, 0.05026531])"
      ]
     },
     "execution_count": 28,
     "metadata": {},
     "output_type": "execute_result"
    }
   ],
   "source": [
    "model1.feature_importances_"
   ]
  },
  {
   "cell_type": "code",
   "execution_count": 41,
   "id": "de70e5a9",
   "metadata": {},
   "outputs": [
    {
     "data": {
      "text/plain": [
       "ZYX        0.155289\n",
       "CCND1      0.092395\n",
       "VAV2       0.070200\n",
       "CRK        0.058992\n",
       "ITGA5      0.057851\n",
       "PIP5K1C    0.055247\n",
       "COL4A1     0.052370\n",
       "BIRC2      0.050265\n",
       "PDGFA      0.048778\n",
       "COL4A2     0.046818\n",
       "RAPGEF1    0.040368\n",
       "FLT4       0.040008\n",
       "TLN1       0.038007\n",
       "ACTN4      0.035859\n",
       "VEGFC      0.031401\n",
       "ITGA3      0.028540\n",
       "ILK        0.020202\n",
       "FLT1       0.018470\n",
       "PDGFRB     0.015594\n",
       "FLNA       0.012760\n",
       "PIK3R3     0.011544\n",
       "PIK3R1     0.010101\n",
       "PDGFB      0.003299\n",
       "PXN        0.002886\n",
       "GRB2       0.002755\n",
       "dtype: float64"
      ]
     },
     "execution_count": 41,
     "metadata": {},
     "output_type": "execute_result"
    }
   ],
   "source": [
    "feature_scores = pd.Series(model1.feature_importances_, index=X_train.columns).sort_values(ascending=False)\n",
    "\n",
    "feature_scores"
   ]
  },
  {
   "cell_type": "code",
   "execution_count": 42,
   "id": "4a9760d5",
   "metadata": {},
   "outputs": [
    {
     "data": {
      "text/plain": [
       "Text(0.5, 0, 'Feature importance score')"
      ]
     },
     "execution_count": 42,
     "metadata": {},
     "output_type": "execute_result"
    },
    {
     "data": {
      "image/png": "[encoded data removed]",
      "text/plain": [
       "<Figure size 432x288 with 1 Axes>"
      ]
     },
     "metadata": {
      "needs_background": "light"
     },
     "output_type": "display_data"
    }
   ],
   "source": [
    "sns.barplot(x=feature_scores, y=feature_scores.index)\n",
    "plt.xlabel(\"Feature importance score\")"
   ]
  },
  {
   "cell_type": "code",
   "execution_count": 40,
   "id": "3e1f1c72",
   "metadata": {},
   "outputs": [],
   "source": [
    "from imblearn.over_sampling import (RandomOverSampler, \n",
    "                                    SMOTE, \n",
    "                                    ADASYN)\n",
    "from collections import Counter"
   ]
  },
  {
   "cell_type": "code",
   "execution_count": 50,
   "id": "e6a3d279",
   "metadata": {},
   "outputs": [
    {
     "name": "stdout",
     "output_type": "stream",
     "text": [
      "Random oversampling Counter({'1': 74, '0': 30})\n"
     ]
    }
   ],
   "source": [
    "sampler = RandomOverSampler(sampling_strategy={'1': 74, '0': 30})\n",
    "X_rs, y_rs = sampler.fit_resample(X_train, y_train)\n",
    "print('Random oversampling {}'.format(Counter(y_rs)))\n"
   ]
  },
  {
   "cell_type": "code",
   "execution_count": 51,
   "id": "9aa33f08",
   "metadata": {},
   "outputs": [],
   "source": [
    "model2 = RandomForestClassifier(random_state=12)"
   ]
  },
  {
   "cell_type": "code",
   "execution_count": 52,
   "id": "af7f5556",
   "metadata": {},
   "outputs": [
    {
     "data": {
      "text/html": [
       "<style>#sk-container-id-2 {color: black;background-color: white;}#sk-container-id-2 pre{padding: 0;}#sk-container-id-2 div.sk-toggleable {background-color: white;}#sk-container-id-2 label.sk-toggleable__label {cursor: pointer;display: block;width: 100%;margin-bottom: 0;padding: 0.3em;box-sizing: border-box;text-align: center;}#sk-container-id-2 label.sk-toggleable__label-arrow:before {content: \"▸\";float: left;margin-right: 0.25em;color: #696969;}#sk-container-id-2 label.sk-toggleable__label-arrow:hover:before {color: black;}#sk-container-id-2 div.sk-estimator:hover label.sk-toggleable__label-arrow:before {color: black;}#sk-container-id-2 div.sk-toggleable__content {max-height: 0;max-width: 0;overflow: hidden;text-align: left;background-color: #f0f8ff;}#sk-container-id-2 div.sk-toggleable__content pre {margin: 0.2em;color: black;border-radius: 0.25em;background-color: #f0f8ff;}#sk-container-id-2 input.sk-toggleable__control:checked~div.sk-toggleable__content {max-height: 200px;max-width: 100%;overflow: auto;}#sk-container-id-2 input.sk-toggleable__control:checked~label.sk-toggleable__label-arrow:before {content: \"▾\";}#sk-container-id-2 div.sk-estimator input.sk-toggleable__control:checked~label.sk-toggleable__label {background-color: #d4ebff;}#sk-container-id-2 div.sk-label input.sk-toggleable__control:checked~label.sk-toggleable__label {background-color: #d4ebff;}#sk-container-id-2 input.sk-hidden--visually {border: 0;clip: rect(1px 1px 1px 1px);clip: rect(1px, 1px, 1px, 1px);height: 1px;margin: -1px;overflow: hidden;padding: 0;position: absolute;width: 1px;}#sk-container-id-2 div.sk-estimator {font-family: monospace;background-color: #f0f8ff;border: 1px dotted black;border-radius: 0.25em;box-sizing: border-box;margin-bottom: 0.5em;}#sk-container-id-2 div.sk-estimator:hover {background-color: #d4ebff;}#sk-container-id-2 div.sk-parallel-item::after {content: \"\";width: 100%;border-bottom: 1px solid gray;flex-grow: 1;}#sk-container-id-2 div.sk-label:hover label.sk-toggleable__label {background-color: #d4ebff;}#sk-container-id-2 div.sk-serial::before {content: \"\";position: absolute;border-left: 1px solid gray;box-sizing: border-box;top: 0;bottom: 0;left: 50%;z-index: 0;}#sk-container-id-2 div.sk-serial {display: flex;flex-direction: column;align-items: center;background-color: white;padding-right: 0.2em;padding-left: 0.2em;position: relative;}#sk-container-id-2 div.sk-item {position: relative;z-index: 1;}#sk-container-id-2 div.sk-parallel {display: flex;align-items: stretch;justify-content: center;background-color: white;position: relative;}#sk-container-id-2 div.sk-item::before, #sk-container-id-2 div.sk-parallel-item::before {content: \"\";position: absolute;border-left: 1px solid gray;box-sizing: border-box;top: 0;bottom: 0;left: 50%;z-index: -1;}#sk-container-id-2 div.sk-parallel-item {display: flex;flex-direction: column;z-index: 1;position: relative;background-color: white;}#sk-container-id-2 div.sk-parallel-item:first-child::after {align-self: flex-end;width: 50%;}#sk-container-id-2 div.sk-parallel-item:last-child::after {align-self: flex-start;width: 50%;}#sk-container-id-2 div.sk-parallel-item:only-child::after {width: 0;}#sk-container-id-2 div.sk-dashed-wrapped {border: 1px dashed gray;margin: 0 0.4em 0.5em 0.4em;box-sizing: border-box;padding-bottom: 0.4em;background-color: white;}#sk-container-id-2 div.sk-label label {font-family: monospace;font-weight: bold;display: inline-block;line-height: 1.2em;}#sk-container-id-2 div.sk-label-container {text-align: center;}#sk-container-id-2 div.sk-container {/* jupyter's `normalize.less` sets `[hidden] { display: none; }` but bootstrap.min.css set `[hidden] { display: none !important; }` so we also need the `!important` here to be able to override the default hidden behavior on the sphinx rendered scikit-learn.org. See: https://github.com/scikit-learn/scikit-learn/issues/21755 */display: inline-block !important;position: relative;}#sk-container-id-2 div.sk-text-repr-fallback {display: none;}</style><div id=\"sk-container-id-2\" class=\"sk-top-container\"><div class=\"sk-text-repr-fallback\"><pre>RandomForestClassifier(random_state=12)</pre><b>In a Jupyter environment, please rerun this cell to show the HTML representation or trust the notebook. <br />On GitHub, the HTML representation is unable to render, please try loading this page with nbviewer.org.</b></div><div class=\"sk-container\" hidden><div class=\"sk-item\"><div class=\"sk-estimator sk-toggleable\"><input class=\"sk-toggleable__control sk-hidden--visually\" id=\"sk-estimator-id-2\" type=\"checkbox\" checked><label for=\"sk-estimator-id-2\" class=\"sk-toggleable__label sk-toggleable__label-arrow\">RandomForestClassifier</label><div class=\"sk-toggleable__content\"><pre>RandomForestClassifier(random_state=12)</pre></div></div></div></div></div>"
      ],
      "text/plain": [
       "RandomForestClassifier(random_state=12)"
      ]
     },
     "execution_count": 52,
     "metadata": {},
     "output_type": "execute_result"
    }
   ],
   "source": [
    "model2.fit(X_rs, y_rs)"
   ]
  },
  {
   "cell_type": "code",
   "execution_count": 53,
   "id": "9ddca481",
   "metadata": {},
   "outputs": [
    {
     "data": {
      "text/plain": [
       "array([0.21163152, 0.12833958, 0.11338239, 0.1035291 , 0.00900181,\n",
       "       0.01016935, 0.03557065, 0.00048237, 0.06327615, 0.00936536,\n",
       "       0.04419057, 0.03026981, 0.00306118, 0.00140823, 0.00125201,\n",
       "       0.00314698, 0.04543875, 0.03791007, 0.07766843, 0.00181189,\n",
       "       0.        , 0.00732643, 0.04726431, 0.00407015, 0.0104329 ])"
      ]
     },
     "execution_count": 53,
     "metadata": {},
     "output_type": "execute_result"
    }
   ],
   "source": [
    "model2.feature_importances_"
   ]
  },
  {
   "cell_type": "code",
   "execution_count": 48,
   "id": "3a6252f0",
   "metadata": {},
   "outputs": [
    {
     "data": {
      "text/plain": [
       "ZYX        0.200903\n",
       "CRK        0.129007\n",
       "TLN1       0.116422\n",
       "COL4A2     0.095772\n",
       "ITGA3      0.085346\n",
       "ITGA5      0.080376\n",
       "VAV2       0.055868\n",
       "FLT4       0.052948\n",
       "CCND1      0.038743\n",
       "RAPGEF1    0.038059\n",
       "ACTN4      0.035672\n",
       "PDGFRB     0.027869\n",
       "BIRC2      0.018517\n",
       "VEGFC      0.007599\n",
       "GRB2       0.006637\n",
       "FLNA       0.002422\n",
       "PIK3R3     0.002166\n",
       "COL4A1     0.001480\n",
       "PXN        0.001095\n",
       "ILK        0.001023\n",
       "PIK3R1     0.001008\n",
       "PDGFA      0.000692\n",
       "PIP5K1C    0.000375\n",
       "FLT1       0.000000\n",
       "PDGFB      0.000000\n",
       "dtype: float64"
      ]
     },
     "execution_count": 48,
     "metadata": {},
     "output_type": "execute_result"
    }
   ],
   "source": [
    "feature_scores = pd.Series(model2.feature_importances_, index=X_train.columns).sort_values(ascending=False)\n",
    "\n",
    "feature_scores"
   ]
  },
  {
   "cell_type": "code",
   "execution_count": 54,
   "id": "a86e36af",
   "metadata": {},
   "outputs": [],
   "source": []
  },
  {
   "cell_type": "code",
   "execution_count": null,
   "id": "3825067c",
   "metadata": {},
   "outputs": [],
   "source": []
  },
  {
   "cell_type": "markdown",
   "id": "d7e18a04",
   "metadata": {},
   "source": [
    "### Weighted Logistic Regression "
   ]
  },
  {
   "cell_type": "code",
   "execution_count": 29,
   "id": "3b48c130",
   "metadata": {},
   "outputs": [],
   "source": [
    "from sklearn.linear_model import LogisticRegression"
   ]
  },
  {
   "cell_type": "code",
   "execution_count": 30,
   "id": "735641e2",
   "metadata": {},
   "outputs": [],
   "source": [
    "weights = {'0':0.06, '1':1.0}\n",
    "RG = LogisticRegression(solver='lbfgs', class_weight=weights)\n"
   ]
  },
  {
   "cell_type": "code",
   "execution_count": 20,
   "id": "6416550b",
   "metadata": {},
   "outputs": [
    {
     "data": {
      "text/html": [
       "<style>#sk-container-id-1 {color: black;background-color: white;}#sk-container-id-1 pre{padding: 0;}#sk-container-id-1 div.sk-toggleable {background-color: white;}#sk-container-id-1 label.sk-toggleable__label {cursor: pointer;display: block;width: 100%;margin-bottom: 0;padding: 0.3em;box-sizing: border-box;text-align: center;}#sk-container-id-1 label.sk-toggleable__label-arrow:before {content: \"▸\";float: left;margin-right: 0.25em;color: #696969;}#sk-container-id-1 label.sk-toggleable__label-arrow:hover:before {color: black;}#sk-container-id-1 div.sk-estimator:hover label.sk-toggleable__label-arrow:before {color: black;}#sk-container-id-1 div.sk-toggleable__content {max-height: 0;max-width: 0;overflow: hidden;text-align: left;background-color: #f0f8ff;}#sk-container-id-1 div.sk-toggleable__content pre {margin: 0.2em;color: black;border-radius: 0.25em;background-color: #f0f8ff;}#sk-container-id-1 input.sk-toggleable__control:checked~div.sk-toggleable__content {max-height: 200px;max-width: 100%;overflow: auto;}#sk-container-id-1 input.sk-toggleable__control:checked~label.sk-toggleable__label-arrow:before {content: \"▾\";}#sk-container-id-1 div.sk-estimator input.sk-toggleable__control:checked~label.sk-toggleable__label {background-color: #d4ebff;}#sk-container-id-1 div.sk-label input.sk-toggleable__control:checked~label.sk-toggleable__label {background-color: #d4ebff;}#sk-container-id-1 input.sk-hidden--visually {border: 0;clip: rect(1px 1px 1px 1px);clip: rect(1px, 1px, 1px, 1px);height: 1px;margin: -1px;overflow: hidden;padding: 0;position: absolute;width: 1px;}#sk-container-id-1 div.sk-estimator {font-family: monospace;background-color: #f0f8ff;border: 1px dotted black;border-radius: 0.25em;box-sizing: border-box;margin-bottom: 0.5em;}#sk-container-id-1 div.sk-estimator:hover {background-color: #d4ebff;}#sk-container-id-1 div.sk-parallel-item::after {content: \"\";width: 100%;border-bottom: 1px solid gray;flex-grow: 1;}#sk-container-id-1 div.sk-label:hover label.sk-toggleable__label {background-color: #d4ebff;}#sk-container-id-1 div.sk-serial::before {content: \"\";position: absolute;border-left: 1px solid gray;box-sizing: border-box;top: 0;bottom: 0;left: 50%;z-index: 0;}#sk-container-id-1 div.sk-serial {display: flex;flex-direction: column;align-items: center;background-color: white;padding-right: 0.2em;padding-left: 0.2em;position: relative;}#sk-container-id-1 div.sk-item {position: relative;z-index: 1;}#sk-container-id-1 div.sk-parallel {display: flex;align-items: stretch;justify-content: center;background-color: white;position: relative;}#sk-container-id-1 div.sk-item::before, #sk-container-id-1 div.sk-parallel-item::before {content: \"\";position: absolute;border-left: 1px solid gray;box-sizing: border-box;top: 0;bottom: 0;left: 50%;z-index: -1;}#sk-container-id-1 div.sk-parallel-item {display: flex;flex-direction: column;z-index: 1;position: relative;background-color: white;}#sk-container-id-1 div.sk-parallel-item:first-child::after {align-self: flex-end;width: 50%;}#sk-container-id-1 div.sk-parallel-item:last-child::after {align-self: flex-start;width: 50%;}#sk-container-id-1 div.sk-parallel-item:only-child::after {width: 0;}#sk-container-id-1 div.sk-dashed-wrapped {border: 1px dashed gray;margin: 0 0.4em 0.5em 0.4em;box-sizing: border-box;padding-bottom: 0.4em;background-color: white;}#sk-container-id-1 div.sk-label label {font-family: monospace;font-weight: bold;display: inline-block;line-height: 1.2em;}#sk-container-id-1 div.sk-label-container {text-align: center;}#sk-container-id-1 div.sk-container {/* jupyter's `normalize.less` sets `[hidden] { display: none; }` but bootstrap.min.css set `[hidden] { display: none !important; }` so we also need the `!important` here to be able to override the default hidden behavior on the sphinx rendered scikit-learn.org. See: https://github.com/scikit-learn/scikit-learn/issues/21755 */display: inline-block !important;position: relative;}#sk-container-id-1 div.sk-text-repr-fallback {display: none;}</style><div id=\"sk-container-id-1\" class=\"sk-top-container\"><div class=\"sk-text-repr-fallback\"><pre>LogisticRegression(class_weight={&#x27;0&#x27;: 0.06, &#x27;1&#x27;: 1.0})</pre><b>In a Jupyter environment, please rerun this cell to show the HTML representation or trust the notebook. <br />On GitHub, the HTML representation is unable to render, please try loading this page with nbviewer.org.</b></div><div class=\"sk-container\" hidden><div class=\"sk-item\"><div class=\"sk-estimator sk-toggleable\"><input class=\"sk-toggleable__control sk-hidden--visually\" id=\"sk-estimator-id-1\" type=\"checkbox\" checked><label for=\"sk-estimator-id-1\" class=\"sk-toggleable__label sk-toggleable__label-arrow\">LogisticRegression</label><div class=\"sk-toggleable__content\"><pre>LogisticRegression(class_weight={&#x27;0&#x27;: 0.06, &#x27;1&#x27;: 1.0})</pre></div></div></div></div></div>"
      ],
      "text/plain": [
       "LogisticRegression(class_weight={'0': 0.06, '1': 1.0})"
      ]
     },
     "execution_count": 20,
     "metadata": {},
     "output_type": "execute_result"
    }
   ],
   "source": [
    "RG.fit(X_train, y_train)"
   ]
  },
  {
   "cell_type": "code",
   "execution_count": 21,
   "id": "f3a99014",
   "metadata": {},
   "outputs": [
    {
     "name": "stdout",
     "output_type": "stream",
     "text": [
      "[[ 0.36180633  0.24455033  0.22951262  0.19334793  0.21030669  0.26547675\n",
      "   0.15834085  0.14134792  0.21622957  0.19099876  0.08869493  0.11851833\n",
      "   0.12399716  0.03392148  0.12321354  0.18516302  0.21393909  0.19018766\n",
      "   0.27539853  0.13253852  0.18025243  0.13610414  0.29867885 -0.17448112\n",
      "  -0.12087922]] [-21.06157981]\n"
     ]
    }
   ],
   "source": [
    "print(RG.coef_, RG.intercept_)"
   ]
  },
  {
   "cell_type": "code",
   "execution_count": 22,
   "id": "717387df",
   "metadata": {},
   "outputs": [
    {
     "name": "stdout",
     "output_type": "stream",
     "text": [
      "Feature: 0, Score: 0.36181\n",
      "Feature: 1, Score: 0.24455\n",
      "Feature: 2, Score: 0.22951\n",
      "Feature: 3, Score: 0.19335\n",
      "Feature: 4, Score: 0.21031\n",
      "Feature: 5, Score: 0.26548\n",
      "Feature: 6, Score: 0.15834\n",
      "Feature: 7, Score: 0.14135\n",
      "Feature: 8, Score: 0.21623\n",
      "Feature: 9, Score: 0.19100\n",
      "Feature: 10, Score: 0.08869\n",
      "Feature: 11, Score: 0.11852\n",
      "Feature: 12, Score: 0.12400\n",
      "Feature: 13, Score: 0.03392\n",
      "Feature: 14, Score: 0.12321\n",
      "Feature: 15, Score: 0.18516\n",
      "Feature: 16, Score: 0.21394\n",
      "Feature: 17, Score: 0.19019\n",
      "Feature: 18, Score: 0.27540\n",
      "Feature: 19, Score: 0.13254\n",
      "Feature: 20, Score: 0.18025\n",
      "Feature: 21, Score: 0.13610\n",
      "Feature: 22, Score: 0.29868\n",
      "Feature: 23, Score: -0.17448\n",
      "Feature: 24, Score: -0.12088\n"
     ]
    },
    {
     "data": {
      "image/png": "[encoded data removed]",
      "text/plain": [
       "<Figure size 432x288 with 1 Axes>"
      ]
     },
     "metadata": {
      "needs_background": "light"
     },
     "output_type": "display_data"
    }
   ],
   "source": [
    "\n",
    "importance = RG.coef_[0]\n",
    "for i,j in enumerate(importance):\n",
    "\n",
    "    print('Feature: %0d, Score: %.5f' % (i,j))\n",
    "\n",
    "pyplot.bar([X for X in range(len(importance))], importance)\n",
    "pyplot.show()"
   ]
  },
  {
   "cell_type": "code",
   "execution_count": 32,
   "id": "a23f4b5c",
   "metadata": {},
   "outputs": [
    {
     "data": {
      "text/html": [
       "<style>#sk-container-id-1 {color: black;background-color: white;}#sk-container-id-1 pre{padding: 0;}#sk-container-id-1 div.sk-toggleable {background-color: white;}#sk-container-id-1 label.sk-toggleable__label {cursor: pointer;display: block;width: 100%;margin-bottom: 0;padding: 0.3em;box-sizing: border-box;text-align: center;}#sk-container-id-1 label.sk-toggleable__label-arrow:before {content: \"▸\";float: left;margin-right: 0.25em;color: #696969;}#sk-container-id-1 label.sk-toggleable__label-arrow:hover:before {color: black;}#sk-container-id-1 div.sk-estimator:hover label.sk-toggleable__label-arrow:before {color: black;}#sk-container-id-1 div.sk-toggleable__content {max-height: 0;max-width: 0;overflow: hidden;text-align: left;background-color: #f0f8ff;}#sk-container-id-1 div.sk-toggleable__content pre {margin: 0.2em;color: black;border-radius: 0.25em;background-color: #f0f8ff;}#sk-container-id-1 input.sk-toggleable__control:checked~div.sk-toggleable__content {max-height: 200px;max-width: 100%;overflow: auto;}#sk-container-id-1 input.sk-toggleable__control:checked~label.sk-toggleable__label-arrow:before {content: \"▾\";}#sk-container-id-1 div.sk-estimator input.sk-toggleable__control:checked~label.sk-toggleable__label {background-color: #d4ebff;}#sk-container-id-1 div.sk-label input.sk-toggleable__control:checked~label.sk-toggleable__label {background-color: #d4ebff;}#sk-container-id-1 input.sk-hidden--visually {border: 0;clip: rect(1px 1px 1px 1px);clip: rect(1px, 1px, 1px, 1px);height: 1px;margin: -1px;overflow: hidden;padding: 0;position: absolute;width: 1px;}#sk-container-id-1 div.sk-estimator {font-family: monospace;background-color: #f0f8ff;border: 1px dotted black;border-radius: 0.25em;box-sizing: border-box;margin-bottom: 0.5em;}#sk-container-id-1 div.sk-estimator:hover {background-color: #d4ebff;}#sk-container-id-1 div.sk-parallel-item::after {content: \"\";width: 100%;border-bottom: 1px solid gray;flex-grow: 1;}#sk-container-id-1 div.sk-label:hover label.sk-toggleable__label {background-color: #d4ebff;}#sk-container-id-1 div.sk-serial::before {content: \"\";position: absolute;border-left: 1px solid gray;box-sizing: border-box;top: 0;bottom: 0;left: 50%;z-index: 0;}#sk-container-id-1 div.sk-serial {display: flex;flex-direction: column;align-items: center;background-color: white;padding-right: 0.2em;padding-left: 0.2em;position: relative;}#sk-container-id-1 div.sk-item {position: relative;z-index: 1;}#sk-container-id-1 div.sk-parallel {display: flex;align-items: stretch;justify-content: center;background-color: white;position: relative;}#sk-container-id-1 div.sk-item::before, #sk-container-id-1 div.sk-parallel-item::before {content: \"\";position: absolute;border-left: 1px solid gray;box-sizing: border-box;top: 0;bottom: 0;left: 50%;z-index: -1;}#sk-container-id-1 div.sk-parallel-item {display: flex;flex-direction: column;z-index: 1;position: relative;background-color: white;}#sk-container-id-1 div.sk-parallel-item:first-child::after {align-self: flex-end;width: 50%;}#sk-container-id-1 div.sk-parallel-item:last-child::after {align-self: flex-start;width: 50%;}#sk-container-id-1 div.sk-parallel-item:only-child::after {width: 0;}#sk-container-id-1 div.sk-dashed-wrapped {border: 1px dashed gray;margin: 0 0.4em 0.5em 0.4em;box-sizing: border-box;padding-bottom: 0.4em;background-color: white;}#sk-container-id-1 div.sk-label label {font-family: monospace;font-weight: bold;display: inline-block;line-height: 1.2em;}#sk-container-id-1 div.sk-label-container {text-align: center;}#sk-container-id-1 div.sk-container {/* jupyter's `normalize.less` sets `[hidden] { display: none; }` but bootstrap.min.css set `[hidden] { display: none !important; }` so we also need the `!important` here to be able to override the default hidden behavior on the sphinx rendered scikit-learn.org. See: https://github.com/scikit-learn/scikit-learn/issues/21755 */display: inline-block !important;position: relative;}#sk-container-id-1 div.sk-text-repr-fallback {display: none;}</style><div id=\"sk-container-id-1\" class=\"sk-top-container\"><div class=\"sk-text-repr-fallback\"><pre>LogisticRegression(class_weight={&#x27;0&#x27;: 0.06, &#x27;1&#x27;: 1.0})</pre><b>In a Jupyter environment, please rerun this cell to show the HTML representation or trust the notebook. <br />On GitHub, the HTML representation is unable to render, please try loading this page with nbviewer.org.</b></div><div class=\"sk-container\" hidden><div class=\"sk-item\"><div class=\"sk-estimator sk-toggleable\"><input class=\"sk-toggleable__control sk-hidden--visually\" id=\"sk-estimator-id-1\" type=\"checkbox\" checked><label for=\"sk-estimator-id-1\" class=\"sk-toggleable__label sk-toggleable__label-arrow\">LogisticRegression</label><div class=\"sk-toggleable__content\"><pre>LogisticRegression(class_weight={&#x27;0&#x27;: 0.06, &#x27;1&#x27;: 1.0})</pre></div></div></div></div></div>"
      ],
      "text/plain": [
       "LogisticRegression(class_weight={'0': 0.06, '1': 1.0})"
      ]
     },
     "execution_count": 32,
     "metadata": {},
     "output_type": "execute_result"
    }
   ],
   "source": [
    "RG1 = LogisticRegression(solver='lbfgs', class_weight=weights)\n",
    "RG1.fit(X, y)"
   ]
  },
  {
   "cell_type": "code",
   "execution_count": 33,
   "id": "32423bfc",
   "metadata": {},
   "outputs": [
    {
     "name": "stdout",
     "output_type": "stream",
     "text": [
      "[[ 0.38077291  0.2431669   0.26152906  0.1765778   0.23066414  0.2682872\n",
      "   0.13971436  0.13770005  0.22745941  0.17344768  0.07160022  0.12245774\n",
      "   0.12502577  0.0453123   0.11747885  0.19162938  0.19080781  0.20316169\n",
      "   0.27550608  0.13138225  0.19574563  0.16374489  0.31184614 -0.18956123\n",
      "  -0.13098363]] [-20.94459464]\n"
     ]
    }
   ],
   "source": [
    "print(RG1.coef_, RG1.intercept_)"
   ]
  },
  {
   "cell_type": "code",
   "execution_count": 34,
   "id": "2a943ab2",
   "metadata": {},
   "outputs": [
    {
     "name": "stdout",
     "output_type": "stream",
     "text": [
      "Feature: 0, Score: 0.38077\n",
      "Feature: 1, Score: 0.24317\n",
      "Feature: 2, Score: 0.26153\n",
      "Feature: 3, Score: 0.17658\n",
      "Feature: 4, Score: 0.23066\n",
      "Feature: 5, Score: 0.26829\n",
      "Feature: 6, Score: 0.13971\n",
      "Feature: 7, Score: 0.13770\n",
      "Feature: 8, Score: 0.22746\n",
      "Feature: 9, Score: 0.17345\n",
      "Feature: 10, Score: 0.07160\n",
      "Feature: 11, Score: 0.12246\n",
      "Feature: 12, Score: 0.12503\n",
      "Feature: 13, Score: 0.04531\n",
      "Feature: 14, Score: 0.11748\n",
      "Feature: 15, Score: 0.19163\n",
      "Feature: 16, Score: 0.19081\n",
      "Feature: 17, Score: 0.20316\n",
      "Feature: 18, Score: 0.27551\n",
      "Feature: 19, Score: 0.13138\n",
      "Feature: 20, Score: 0.19575\n",
      "Feature: 21, Score: 0.16374\n",
      "Feature: 22, Score: 0.31185\n",
      "Feature: 23, Score: -0.18956\n",
      "Feature: 24, Score: -0.13098\n"
     ]
    },
    {
     "data": {
      "image/png": "[encoded data removed]",
      "text/plain": [
       "<Figure size 432x288 with 1 Axes>"
      ]
     },
     "metadata": {
      "needs_background": "light"
     },
     "output_type": "display_data"
    }
   ],
   "source": [
    "importance = RG1.coef_[0]\n",
    "for i,j in enumerate(importance):\n",
    "\n",
    "    print('Feature: %0d, Score: %.5f' % (i,j))\n",
    "\n",
    "pyplot.bar([X for X in range(len(importance))], importance)\n",
    "pyplot.show()"
   ]
  },
  {
   "cell_type": "code",
   "execution_count": 74,
   "id": "4a93b937",
   "metadata": {},
   "outputs": [],
   "source": [
    "\n",
    "       \n"
   ]
  },
  {
   "cell_type": "code",
   "execution_count": null,
   "id": "429850c9",
   "metadata": {},
   "outputs": [],
   "source": []
  },
  {
   "cell_type": "code",
   "execution_count": null,
   "id": "1f3098bf",
   "metadata": {},
   "outputs": [],
   "source": [
    "\n"
   ]
  },
  {
   "cell_type": "code",
   "execution_count": null,
   "id": "7f5e0ac1",
   "metadata": {},
   "outputs": [],
   "source": []
  },
  {
   "cell_type": "code",
   "execution_count": null,
   "id": "639bc7bb",
   "metadata": {},
   "outputs": [],
   "source": []
  },
  {
   "cell_type": "code",
   "execution_count": null,
   "id": "fd3bfcec",
   "metadata": {},
   "outputs": [],
   "source": []
  }
 ],
 "metadata": {
  "kernelspec": {
   "display_name": "Python 3 (ipykernel)",
   "language": "python",
   "name": "python3"
  },
  "language_info": {
   "codemirror_mode": {
    "name": "ipython",
    "version": 3
   },
   "file_extension": ".py",
   "mimetype": "text/x-python",
   "name": "python",
   "nbconvert_exporter": "python",
   "pygments_lexer": "ipython3",
   "version": "3.8.12"
  }
 },
 "nbformat": 4,
 "nbformat_minor": 5
}
