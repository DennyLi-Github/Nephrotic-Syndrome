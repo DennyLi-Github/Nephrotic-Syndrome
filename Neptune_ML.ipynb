{
 "cells": [
  {
   "cell_type": "code",
   "execution_count": 74,
   "id": "c7135cb0",
   "metadata": {},
   "outputs": [],
   "source": [
    "import pandas as pd\n",
    "import seaborn as sns\n",
    "import matplotlib.pyplot as plt\n",
    "import sklearn\n",
    "import numpy as np\n",
    "from sklearn.model_selection import train_test_split\n",
    "from sklearn.ensemble import RandomForestClassifier\n",
    "from sklearn.inspection import permutation_importance"
   ]
  },
  {
   "cell_type": "code",
   "execution_count": 75,
   "id": "58594c7b",
   "metadata": {},
   "outputs": [],
   "source": [
    "focal_adhesion = pd.read_csv(\"Book3.csv\")"
   ]
  },
  {
   "cell_type": "code",
   "execution_count": 76,
   "id": "d74caa80",
   "metadata": {},
   "outputs": [
    {
     "data": {
      "text/html": [
       "<div>\n",
       "<style scoped>\n",
       "    .dataframe tbody tr th:only-of-type {\n",
       "        vertical-align: middle;\n",
       "    }\n",
       "\n",
       "    .dataframe tbody tr th {\n",
       "        vertical-align: top;\n",
       "    }\n",
       "\n",
       "    .dataframe thead th {\n",
       "        text-align: right;\n",
       "    }\n",
       "</style>\n",
       "<table border=\"1\" class=\"dataframe\">\n",
       "  <thead>\n",
       "    <tr style=\"text-align: right;\">\n",
       "      <th></th>\n",
       "      <th>Unnamed: 0</th>\n",
       "      <th>X7791_at</th>\n",
       "      <th>X1398_at</th>\n",
       "      <th>X1284_at</th>\n",
       "      <th>X3675_at</th>\n",
       "      <th>X1282_at</th>\n",
       "      <th>X7424_at</th>\n",
       "      <th>X5159_at</th>\n",
       "      <th>X2321_at</th>\n",
       "      <th>X2324_at</th>\n",
       "      <th>...</th>\n",
       "      <th>X5154_at</th>\n",
       "      <th>X5155_at</th>\n",
       "      <th>X2885_at</th>\n",
       "      <th>X595_at</th>\n",
       "      <th>X5295_at</th>\n",
       "      <th>X329_at</th>\n",
       "      <th>Disease</th>\n",
       "      <th>ID</th>\n",
       "      <th>Disease2</th>\n",
       "      <th>Nephrotic</th>\n",
       "    </tr>\n",
       "  </thead>\n",
       "  <tbody>\n",
       "    <tr>\n",
       "      <th>0</th>\n",
       "      <td>1</td>\n",
       "      <td>6.616270</td>\n",
       "      <td>6.650780</td>\n",
       "      <td>6.212293</td>\n",
       "      <td>10.158111</td>\n",
       "      <td>6.542626</td>\n",
       "      <td>5.965278</td>\n",
       "      <td>7.573721</td>\n",
       "      <td>7.400331</td>\n",
       "      <td>5.616704</td>\n",
       "      <td>...</td>\n",
       "      <td>6.348953</td>\n",
       "      <td>4.910223</td>\n",
       "      <td>7.497142</td>\n",
       "      <td>8.763867</td>\n",
       "      <td>7.074309</td>\n",
       "      <td>6.254792</td>\n",
       "      <td>Glomerular</td>\n",
       "      <td>94</td>\n",
       "      <td>MN</td>\n",
       "      <td>1</td>\n",
       "    </tr>\n",
       "    <tr>\n",
       "      <th>1</th>\n",
       "      <td>2</td>\n",
       "      <td>7.001047</td>\n",
       "      <td>6.386364</td>\n",
       "      <td>5.273056</td>\n",
       "      <td>9.860777</td>\n",
       "      <td>5.513112</td>\n",
       "      <td>6.616980</td>\n",
       "      <td>7.162280</td>\n",
       "      <td>7.310031</td>\n",
       "      <td>5.399082</td>\n",
       "      <td>...</td>\n",
       "      <td>6.681751</td>\n",
       "      <td>3.884280</td>\n",
       "      <td>7.154931</td>\n",
       "      <td>8.360980</td>\n",
       "      <td>7.308968</td>\n",
       "      <td>6.084218</td>\n",
       "      <td>Glomerular</td>\n",
       "      <td>81</td>\n",
       "      <td>FSGS</td>\n",
       "      <td>1</td>\n",
       "    </tr>\n",
       "    <tr>\n",
       "      <th>2</th>\n",
       "      <td>3</td>\n",
       "      <td>6.628755</td>\n",
       "      <td>6.500360</td>\n",
       "      <td>5.677885</td>\n",
       "      <td>9.879791</td>\n",
       "      <td>6.278609</td>\n",
       "      <td>5.795266</td>\n",
       "      <td>6.059988</td>\n",
       "      <td>6.407779</td>\n",
       "      <td>5.094513</td>\n",
       "      <td>...</td>\n",
       "      <td>6.078079</td>\n",
       "      <td>3.860516</td>\n",
       "      <td>6.942900</td>\n",
       "      <td>8.557394</td>\n",
       "      <td>7.141224</td>\n",
       "      <td>6.306339</td>\n",
       "      <td>Glomerular</td>\n",
       "      <td>133</td>\n",
       "      <td>MN</td>\n",
       "      <td>1</td>\n",
       "    </tr>\n",
       "    <tr>\n",
       "      <th>3</th>\n",
       "      <td>4</td>\n",
       "      <td>6.984691</td>\n",
       "      <td>6.581776</td>\n",
       "      <td>5.951040</td>\n",
       "      <td>10.673389</td>\n",
       "      <td>6.115012</td>\n",
       "      <td>5.129073</td>\n",
       "      <td>7.756084</td>\n",
       "      <td>8.035208</td>\n",
       "      <td>6.034542</td>\n",
       "      <td>...</td>\n",
       "      <td>6.683461</td>\n",
       "      <td>4.298766</td>\n",
       "      <td>7.325002</td>\n",
       "      <td>8.815787</td>\n",
       "      <td>6.927415</td>\n",
       "      <td>5.868231</td>\n",
       "      <td>Glomerular</td>\n",
       "      <td>102</td>\n",
       "      <td>MN</td>\n",
       "      <td>1</td>\n",
       "    </tr>\n",
       "    <tr>\n",
       "      <th>4</th>\n",
       "      <td>5</td>\n",
       "      <td>6.714409</td>\n",
       "      <td>6.629443</td>\n",
       "      <td>6.151001</td>\n",
       "      <td>9.715433</td>\n",
       "      <td>6.422950</td>\n",
       "      <td>6.330880</td>\n",
       "      <td>7.072725</td>\n",
       "      <td>7.855886</td>\n",
       "      <td>5.818230</td>\n",
       "      <td>...</td>\n",
       "      <td>6.026231</td>\n",
       "      <td>4.631380</td>\n",
       "      <td>7.271276</td>\n",
       "      <td>8.059317</td>\n",
       "      <td>7.563310</td>\n",
       "      <td>6.236375</td>\n",
       "      <td>Glomerular</td>\n",
       "      <td>82</td>\n",
       "      <td>FSGS</td>\n",
       "      <td>1</td>\n",
       "    </tr>\n",
       "    <tr>\n",
       "      <th>...</th>\n",
       "      <td>...</td>\n",
       "      <td>...</td>\n",
       "      <td>...</td>\n",
       "      <td>...</td>\n",
       "      <td>...</td>\n",
       "      <td>...</td>\n",
       "      <td>...</td>\n",
       "      <td>...</td>\n",
       "      <td>...</td>\n",
       "      <td>...</td>\n",
       "      <td>...</td>\n",
       "      <td>...</td>\n",
       "      <td>...</td>\n",
       "      <td>...</td>\n",
       "      <td>...</td>\n",
       "      <td>...</td>\n",
       "      <td>...</td>\n",
       "      <td>...</td>\n",
       "      <td>...</td>\n",
       "      <td>...</td>\n",
       "      <td>...</td>\n",
       "    </tr>\n",
       "    <tr>\n",
       "      <th>102</th>\n",
       "      <td>103</td>\n",
       "      <td>6.309457</td>\n",
       "      <td>7.084534</td>\n",
       "      <td>7.136771</td>\n",
       "      <td>10.760538</td>\n",
       "      <td>7.820753</td>\n",
       "      <td>5.256161</td>\n",
       "      <td>8.533344</td>\n",
       "      <td>9.839728</td>\n",
       "      <td>6.076459</td>\n",
       "      <td>...</td>\n",
       "      <td>6.335928</td>\n",
       "      <td>4.546304</td>\n",
       "      <td>6.953539</td>\n",
       "      <td>8.814828</td>\n",
       "      <td>7.700050</td>\n",
       "      <td>6.514003</td>\n",
       "      <td>Glomerular</td>\n",
       "      <td>6</td>\n",
       "      <td>MCD</td>\n",
       "      <td>1</td>\n",
       "    </tr>\n",
       "    <tr>\n",
       "      <th>103</th>\n",
       "      <td>104</td>\n",
       "      <td>6.114081</td>\n",
       "      <td>6.623781</td>\n",
       "      <td>5.492398</td>\n",
       "      <td>11.019819</td>\n",
       "      <td>5.803733</td>\n",
       "      <td>5.727388</td>\n",
       "      <td>7.747092</td>\n",
       "      <td>7.482525</td>\n",
       "      <td>5.762355</td>\n",
       "      <td>...</td>\n",
       "      <td>7.402658</td>\n",
       "      <td>4.970225</td>\n",
       "      <td>7.273947</td>\n",
       "      <td>8.238052</td>\n",
       "      <td>7.469386</td>\n",
       "      <td>6.369455</td>\n",
       "      <td>Glomerular</td>\n",
       "      <td>567</td>\n",
       "      <td>MN</td>\n",
       "      <td>1</td>\n",
       "    </tr>\n",
       "    <tr>\n",
       "      <th>104</th>\n",
       "      <td>105</td>\n",
       "      <td>7.300323</td>\n",
       "      <td>6.930577</td>\n",
       "      <td>5.488512</td>\n",
       "      <td>10.677016</td>\n",
       "      <td>5.486495</td>\n",
       "      <td>5.454204</td>\n",
       "      <td>8.471081</td>\n",
       "      <td>8.962164</td>\n",
       "      <td>7.130242</td>\n",
       "      <td>...</td>\n",
       "      <td>6.373126</td>\n",
       "      <td>4.488608</td>\n",
       "      <td>7.072283</td>\n",
       "      <td>8.853904</td>\n",
       "      <td>6.795654</td>\n",
       "      <td>6.349480</td>\n",
       "      <td>Glomerular</td>\n",
       "      <td>571</td>\n",
       "      <td>MN</td>\n",
       "      <td>1</td>\n",
       "    </tr>\n",
       "    <tr>\n",
       "      <th>105</th>\n",
       "      <td>106</td>\n",
       "      <td>7.256771</td>\n",
       "      <td>6.936422</td>\n",
       "      <td>6.429368</td>\n",
       "      <td>10.618888</td>\n",
       "      <td>6.479440</td>\n",
       "      <td>4.949829</td>\n",
       "      <td>7.867039</td>\n",
       "      <td>8.490338</td>\n",
       "      <td>5.354927</td>\n",
       "      <td>...</td>\n",
       "      <td>6.312014</td>\n",
       "      <td>4.003970</td>\n",
       "      <td>6.713200</td>\n",
       "      <td>7.473833</td>\n",
       "      <td>7.772563</td>\n",
       "      <td>5.519994</td>\n",
       "      <td>Glomerular</td>\n",
       "      <td>569</td>\n",
       "      <td>MN</td>\n",
       "      <td>1</td>\n",
       "    </tr>\n",
       "    <tr>\n",
       "      <th>106</th>\n",
       "      <td>107</td>\n",
       "      <td>6.798022</td>\n",
       "      <td>6.646187</td>\n",
       "      <td>6.895984</td>\n",
       "      <td>10.679474</td>\n",
       "      <td>6.833047</td>\n",
       "      <td>5.870951</td>\n",
       "      <td>8.256309</td>\n",
       "      <td>8.898227</td>\n",
       "      <td>7.392100</td>\n",
       "      <td>...</td>\n",
       "      <td>6.312014</td>\n",
       "      <td>5.350612</td>\n",
       "      <td>7.392766</td>\n",
       "      <td>9.271444</td>\n",
       "      <td>6.980144</td>\n",
       "      <td>6.312586</td>\n",
       "      <td>Glomerular</td>\n",
       "      <td>566</td>\n",
       "      <td>MN</td>\n",
       "      <td>1</td>\n",
       "    </tr>\n",
       "  </tbody>\n",
       "</table>\n",
       "<p>107 rows × 30 columns</p>\n",
       "</div>"
      ],
      "text/plain": [
       "     Unnamed: 0  X7791_at  X1398_at  X1284_at   X3675_at  X1282_at  X7424_at  \\\n",
       "0             1  6.616270  6.650780  6.212293  10.158111  6.542626  5.965278   \n",
       "1             2  7.001047  6.386364  5.273056   9.860777  5.513112  6.616980   \n",
       "2             3  6.628755  6.500360  5.677885   9.879791  6.278609  5.795266   \n",
       "3             4  6.984691  6.581776  5.951040  10.673389  6.115012  5.129073   \n",
       "4             5  6.714409  6.629443  6.151001   9.715433  6.422950  6.330880   \n",
       "..          ...       ...       ...       ...        ...       ...       ...   \n",
       "102         103  6.309457  7.084534  7.136771  10.760538  7.820753  5.256161   \n",
       "103         104  6.114081  6.623781  5.492398  11.019819  5.803733  5.727388   \n",
       "104         105  7.300323  6.930577  5.488512  10.677016  5.486495  5.454204   \n",
       "105         106  7.256771  6.936422  6.429368  10.618888  6.479440  4.949829   \n",
       "106         107  6.798022  6.646187  6.895984  10.679474  6.833047  5.870951   \n",
       "\n",
       "     X5159_at  X2321_at  X2324_at  ...  X5154_at  X5155_at  X2885_at  \\\n",
       "0    7.573721  7.400331  5.616704  ...  6.348953  4.910223  7.497142   \n",
       "1    7.162280  7.310031  5.399082  ...  6.681751  3.884280  7.154931   \n",
       "2    6.059988  6.407779  5.094513  ...  6.078079  3.860516  6.942900   \n",
       "3    7.756084  8.035208  6.034542  ...  6.683461  4.298766  7.325002   \n",
       "4    7.072725  7.855886  5.818230  ...  6.026231  4.631380  7.271276   \n",
       "..        ...       ...       ...  ...       ...       ...       ...   \n",
       "102  8.533344  9.839728  6.076459  ...  6.335928  4.546304  6.953539   \n",
       "103  7.747092  7.482525  5.762355  ...  7.402658  4.970225  7.273947   \n",
       "104  8.471081  8.962164  7.130242  ...  6.373126  4.488608  7.072283   \n",
       "105  7.867039  8.490338  5.354927  ...  6.312014  4.003970  6.713200   \n",
       "106  8.256309  8.898227  7.392100  ...  6.312014  5.350612  7.392766   \n",
       "\n",
       "      X595_at  X5295_at   X329_at     Disease   ID  Disease2  Nephrotic  \n",
       "0    8.763867  7.074309  6.254792  Glomerular   94        MN          1  \n",
       "1    8.360980  7.308968  6.084218  Glomerular   81      FSGS          1  \n",
       "2    8.557394  7.141224  6.306339  Glomerular  133        MN          1  \n",
       "3    8.815787  6.927415  5.868231  Glomerular  102        MN          1  \n",
       "4    8.059317  7.563310  6.236375  Glomerular   82      FSGS          1  \n",
       "..        ...       ...       ...         ...  ...       ...        ...  \n",
       "102  8.814828  7.700050  6.514003  Glomerular    6       MCD          1  \n",
       "103  8.238052  7.469386  6.369455  Glomerular  567        MN          1  \n",
       "104  8.853904  6.795654  6.349480  Glomerular  571        MN          1  \n",
       "105  7.473833  7.772563  5.519994  Glomerular  569        MN          1  \n",
       "106  9.271444  6.980144  6.312586  Glomerular  566        MN          1  \n",
       "\n",
       "[107 rows x 30 columns]"
      ]
     },
     "execution_count": 76,
     "metadata": {},
     "output_type": "execute_result"
    }
   ],
   "source": [
    "focal_adhesion"
   ]
  },
  {
   "cell_type": "code",
   "execution_count": 77,
   "id": "db775ccb",
   "metadata": {},
   "outputs": [
    {
     "data": {
      "text/plain": [
       "Unnamed: 0      int64\n",
       "X7791_at      float64\n",
       "X1398_at      float64\n",
       "X1284_at      float64\n",
       "X3675_at      float64\n",
       "X1282_at      float64\n",
       "X7424_at      float64\n",
       "X5159_at      float64\n",
       "X2321_at      float64\n",
       "X2324_at      float64\n",
       "X23396_at     float64\n",
       "X81_at        float64\n",
       "X7094_at      float64\n",
       "X2316_at      float64\n",
       "X5829_at      float64\n",
       "X3611_at      float64\n",
       "X8503_at      float64\n",
       "X7410_at      float64\n",
       "X2889_at      float64\n",
       "X3678_at      float64\n",
       "X5154_at      float64\n",
       "X5155_at      float64\n",
       "X2885_at      float64\n",
       "X595_at       float64\n",
       "X5295_at      float64\n",
       "X329_at       float64\n",
       "Disease        object\n",
       "ID              int64\n",
       "Disease2       object\n",
       "Nephrotic       int64\n",
       "dtype: object"
      ]
     },
     "execution_count": 77,
     "metadata": {},
     "output_type": "execute_result"
    }
   ],
   "source": [
    "focal_adhesion.dtypes"
   ]
  },
  {
   "cell_type": "code",
   "execution_count": 78,
   "id": "0ee02145",
   "metadata": {},
   "outputs": [
    {
     "data": {
      "text/plain": [
       "Unnamed: 0      int64\n",
       "X7791_at      float64\n",
       "X1398_at      float64\n",
       "X1284_at      float64\n",
       "X3675_at      float64\n",
       "X1282_at      float64\n",
       "X7424_at      float64\n",
       "X5159_at      float64\n",
       "X2321_at      float64\n",
       "X2324_at      float64\n",
       "X23396_at     float64\n",
       "X81_at        float64\n",
       "X7094_at      float64\n",
       "X2316_at      float64\n",
       "X5829_at      float64\n",
       "X3611_at      float64\n",
       "X8503_at      float64\n",
       "X7410_at      float64\n",
       "X2889_at      float64\n",
       "X3678_at      float64\n",
       "X5154_at      float64\n",
       "X5155_at      float64\n",
       "X2885_at      float64\n",
       "X595_at       float64\n",
       "X5295_at      float64\n",
       "X329_at       float64\n",
       "Disease        object\n",
       "ID              int64\n",
       "Disease2       object\n",
       "Nephrotic       int32\n",
       "dtype: object"
      ]
     },
     "execution_count": 78,
     "metadata": {},
     "output_type": "execute_result"
    }
   ],
   "source": [
    "focal_adhesion['Nephrotic'] = focal_adhesion['Nephrotic'].astype(str).astype(int)\n",
    "focal_adhesion.dtypes"
   ]
  },
  {
   "cell_type": "code",
   "execution_count": null,
   "id": "893b4d10",
   "metadata": {},
   "outputs": [],
   "source": []
  },
  {
   "cell_type": "code",
   "execution_count": null,
   "id": "148c3b12",
   "metadata": {},
   "outputs": [],
   "source": []
  },
  {
   "cell_type": "code",
   "execution_count": 79,
   "id": "db9897e9",
   "metadata": {},
   "outputs": [
    {
     "data": {
      "text/plain": [
       "Index(['Unnamed: 0', 'X7791_at', 'X1398_at', 'X1284_at', 'X3675_at',\n",
       "       'X1282_at', 'X7424_at', 'X5159_at', 'X2321_at', 'X2324_at', 'X23396_at',\n",
       "       'X81_at', 'X7094_at', 'X2316_at', 'X5829_at', 'X3611_at', 'X8503_at',\n",
       "       'X7410_at', 'X2889_at', 'X3678_at', 'X5154_at', 'X5155_at', 'X2885_at',\n",
       "       'X595_at', 'X5295_at', 'X329_at', 'Disease', 'ID', 'Disease2',\n",
       "       'Nephrotic'],\n",
       "      dtype='object')"
      ]
     },
     "execution_count": 79,
     "metadata": {},
     "output_type": "execute_result"
    }
   ],
   "source": [
    "focal_adhesion.columns"
   ]
  },
  {
   "cell_type": "code",
   "execution_count": 80,
   "id": "f53095b5",
   "metadata": {},
   "outputs": [],
   "source": [
    "genename = focal_adhesion.rename(columns = {'X7791_at':'ZYX', 'X1398_at':'CRK', 'X1284_at':'COL4A2', 'X3675_at':'ITGA3',\n",
    "       'X1282_at':'COL4A1', 'X7424_at':'VEGFC', 'X5159_at':'PDGFRB', 'X2321_at':'FLT1', 'X2324_at':'FLT4', 'X23396_at':'PIP5K1C',\n",
    "       'X81_at':'ACTN4', 'X7094_at':'TLN1', 'X2316_at':'FLNA', 'X5829_at':'PXN', 'X3611_at':'ILK', 'X8503_at':'PIK3R3',\n",
    "       'X7410_at':'VAV2', 'X2889_at':'RAPGEF1', 'X3678_at':'ITGA5', 'X5154_at':'PDGFA', 'X5155_at':'PDGFB', 'X2885_at':'GRB2',\n",
    "       'X595_at':'CCND1', 'X5295_at':'PIK3R1', 'X329_at':'BIRC2'})"
   ]
  },
  {
   "cell_type": "code",
   "execution_count": 81,
   "id": "bd67472b",
   "metadata": {},
   "outputs": [
    {
     "data": {
      "text/html": [
       "<div>\n",
       "<style scoped>\n",
       "    .dataframe tbody tr th:only-of-type {\n",
       "        vertical-align: middle;\n",
       "    }\n",
       "\n",
       "    .dataframe tbody tr th {\n",
       "        vertical-align: top;\n",
       "    }\n",
       "\n",
       "    .dataframe thead th {\n",
       "        text-align: right;\n",
       "    }\n",
       "</style>\n",
       "<table border=\"1\" class=\"dataframe\">\n",
       "  <thead>\n",
       "    <tr style=\"text-align: right;\">\n",
       "      <th></th>\n",
       "      <th>Unnamed: 0</th>\n",
       "      <th>ZYX</th>\n",
       "      <th>CRK</th>\n",
       "      <th>COL4A2</th>\n",
       "      <th>ITGA3</th>\n",
       "      <th>COL4A1</th>\n",
       "      <th>VEGFC</th>\n",
       "      <th>PDGFRB</th>\n",
       "      <th>FLT1</th>\n",
       "      <th>FLT4</th>\n",
       "      <th>...</th>\n",
       "      <th>PDGFA</th>\n",
       "      <th>PDGFB</th>\n",
       "      <th>GRB2</th>\n",
       "      <th>CCND1</th>\n",
       "      <th>PIK3R1</th>\n",
       "      <th>BIRC2</th>\n",
       "      <th>Disease</th>\n",
       "      <th>ID</th>\n",
       "      <th>Disease2</th>\n",
       "      <th>Nephrotic</th>\n",
       "    </tr>\n",
       "  </thead>\n",
       "  <tbody>\n",
       "    <tr>\n",
       "      <th>0</th>\n",
       "      <td>1</td>\n",
       "      <td>6.616270</td>\n",
       "      <td>6.650780</td>\n",
       "      <td>6.212293</td>\n",
       "      <td>10.158111</td>\n",
       "      <td>6.542626</td>\n",
       "      <td>5.965278</td>\n",
       "      <td>7.573721</td>\n",
       "      <td>7.400331</td>\n",
       "      <td>5.616704</td>\n",
       "      <td>...</td>\n",
       "      <td>6.348953</td>\n",
       "      <td>4.910223</td>\n",
       "      <td>7.497142</td>\n",
       "      <td>8.763867</td>\n",
       "      <td>7.074309</td>\n",
       "      <td>6.254792</td>\n",
       "      <td>Glomerular</td>\n",
       "      <td>94</td>\n",
       "      <td>MN</td>\n",
       "      <td>1</td>\n",
       "    </tr>\n",
       "    <tr>\n",
       "      <th>1</th>\n",
       "      <td>2</td>\n",
       "      <td>7.001047</td>\n",
       "      <td>6.386364</td>\n",
       "      <td>5.273056</td>\n",
       "      <td>9.860777</td>\n",
       "      <td>5.513112</td>\n",
       "      <td>6.616980</td>\n",
       "      <td>7.162280</td>\n",
       "      <td>7.310031</td>\n",
       "      <td>5.399082</td>\n",
       "      <td>...</td>\n",
       "      <td>6.681751</td>\n",
       "      <td>3.884280</td>\n",
       "      <td>7.154931</td>\n",
       "      <td>8.360980</td>\n",
       "      <td>7.308968</td>\n",
       "      <td>6.084218</td>\n",
       "      <td>Glomerular</td>\n",
       "      <td>81</td>\n",
       "      <td>FSGS</td>\n",
       "      <td>1</td>\n",
       "    </tr>\n",
       "    <tr>\n",
       "      <th>2</th>\n",
       "      <td>3</td>\n",
       "      <td>6.628755</td>\n",
       "      <td>6.500360</td>\n",
       "      <td>5.677885</td>\n",
       "      <td>9.879791</td>\n",
       "      <td>6.278609</td>\n",
       "      <td>5.795266</td>\n",
       "      <td>6.059988</td>\n",
       "      <td>6.407779</td>\n",
       "      <td>5.094513</td>\n",
       "      <td>...</td>\n",
       "      <td>6.078079</td>\n",
       "      <td>3.860516</td>\n",
       "      <td>6.942900</td>\n",
       "      <td>8.557394</td>\n",
       "      <td>7.141224</td>\n",
       "      <td>6.306339</td>\n",
       "      <td>Glomerular</td>\n",
       "      <td>133</td>\n",
       "      <td>MN</td>\n",
       "      <td>1</td>\n",
       "    </tr>\n",
       "    <tr>\n",
       "      <th>3</th>\n",
       "      <td>4</td>\n",
       "      <td>6.984691</td>\n",
       "      <td>6.581776</td>\n",
       "      <td>5.951040</td>\n",
       "      <td>10.673389</td>\n",
       "      <td>6.115012</td>\n",
       "      <td>5.129073</td>\n",
       "      <td>7.756084</td>\n",
       "      <td>8.035208</td>\n",
       "      <td>6.034542</td>\n",
       "      <td>...</td>\n",
       "      <td>6.683461</td>\n",
       "      <td>4.298766</td>\n",
       "      <td>7.325002</td>\n",
       "      <td>8.815787</td>\n",
       "      <td>6.927415</td>\n",
       "      <td>5.868231</td>\n",
       "      <td>Glomerular</td>\n",
       "      <td>102</td>\n",
       "      <td>MN</td>\n",
       "      <td>1</td>\n",
       "    </tr>\n",
       "    <tr>\n",
       "      <th>4</th>\n",
       "      <td>5</td>\n",
       "      <td>6.714409</td>\n",
       "      <td>6.629443</td>\n",
       "      <td>6.151001</td>\n",
       "      <td>9.715433</td>\n",
       "      <td>6.422950</td>\n",
       "      <td>6.330880</td>\n",
       "      <td>7.072725</td>\n",
       "      <td>7.855886</td>\n",
       "      <td>5.818230</td>\n",
       "      <td>...</td>\n",
       "      <td>6.026231</td>\n",
       "      <td>4.631380</td>\n",
       "      <td>7.271276</td>\n",
       "      <td>8.059317</td>\n",
       "      <td>7.563310</td>\n",
       "      <td>6.236375</td>\n",
       "      <td>Glomerular</td>\n",
       "      <td>82</td>\n",
       "      <td>FSGS</td>\n",
       "      <td>1</td>\n",
       "    </tr>\n",
       "    <tr>\n",
       "      <th>...</th>\n",
       "      <td>...</td>\n",
       "      <td>...</td>\n",
       "      <td>...</td>\n",
       "      <td>...</td>\n",
       "      <td>...</td>\n",
       "      <td>...</td>\n",
       "      <td>...</td>\n",
       "      <td>...</td>\n",
       "      <td>...</td>\n",
       "      <td>...</td>\n",
       "      <td>...</td>\n",
       "      <td>...</td>\n",
       "      <td>...</td>\n",
       "      <td>...</td>\n",
       "      <td>...</td>\n",
       "      <td>...</td>\n",
       "      <td>...</td>\n",
       "      <td>...</td>\n",
       "      <td>...</td>\n",
       "      <td>...</td>\n",
       "      <td>...</td>\n",
       "    </tr>\n",
       "    <tr>\n",
       "      <th>102</th>\n",
       "      <td>103</td>\n",
       "      <td>6.309457</td>\n",
       "      <td>7.084534</td>\n",
       "      <td>7.136771</td>\n",
       "      <td>10.760538</td>\n",
       "      <td>7.820753</td>\n",
       "      <td>5.256161</td>\n",
       "      <td>8.533344</td>\n",
       "      <td>9.839728</td>\n",
       "      <td>6.076459</td>\n",
       "      <td>...</td>\n",
       "      <td>6.335928</td>\n",
       "      <td>4.546304</td>\n",
       "      <td>6.953539</td>\n",
       "      <td>8.814828</td>\n",
       "      <td>7.700050</td>\n",
       "      <td>6.514003</td>\n",
       "      <td>Glomerular</td>\n",
       "      <td>6</td>\n",
       "      <td>MCD</td>\n",
       "      <td>1</td>\n",
       "    </tr>\n",
       "    <tr>\n",
       "      <th>103</th>\n",
       "      <td>104</td>\n",
       "      <td>6.114081</td>\n",
       "      <td>6.623781</td>\n",
       "      <td>5.492398</td>\n",
       "      <td>11.019819</td>\n",
       "      <td>5.803733</td>\n",
       "      <td>5.727388</td>\n",
       "      <td>7.747092</td>\n",
       "      <td>7.482525</td>\n",
       "      <td>5.762355</td>\n",
       "      <td>...</td>\n",
       "      <td>7.402658</td>\n",
       "      <td>4.970225</td>\n",
       "      <td>7.273947</td>\n",
       "      <td>8.238052</td>\n",
       "      <td>7.469386</td>\n",
       "      <td>6.369455</td>\n",
       "      <td>Glomerular</td>\n",
       "      <td>567</td>\n",
       "      <td>MN</td>\n",
       "      <td>1</td>\n",
       "    </tr>\n",
       "    <tr>\n",
       "      <th>104</th>\n",
       "      <td>105</td>\n",
       "      <td>7.300323</td>\n",
       "      <td>6.930577</td>\n",
       "      <td>5.488512</td>\n",
       "      <td>10.677016</td>\n",
       "      <td>5.486495</td>\n",
       "      <td>5.454204</td>\n",
       "      <td>8.471081</td>\n",
       "      <td>8.962164</td>\n",
       "      <td>7.130242</td>\n",
       "      <td>...</td>\n",
       "      <td>6.373126</td>\n",
       "      <td>4.488608</td>\n",
       "      <td>7.072283</td>\n",
       "      <td>8.853904</td>\n",
       "      <td>6.795654</td>\n",
       "      <td>6.349480</td>\n",
       "      <td>Glomerular</td>\n",
       "      <td>571</td>\n",
       "      <td>MN</td>\n",
       "      <td>1</td>\n",
       "    </tr>\n",
       "    <tr>\n",
       "      <th>105</th>\n",
       "      <td>106</td>\n",
       "      <td>7.256771</td>\n",
       "      <td>6.936422</td>\n",
       "      <td>6.429368</td>\n",
       "      <td>10.618888</td>\n",
       "      <td>6.479440</td>\n",
       "      <td>4.949829</td>\n",
       "      <td>7.867039</td>\n",
       "      <td>8.490338</td>\n",
       "      <td>5.354927</td>\n",
       "      <td>...</td>\n",
       "      <td>6.312014</td>\n",
       "      <td>4.003970</td>\n",
       "      <td>6.713200</td>\n",
       "      <td>7.473833</td>\n",
       "      <td>7.772563</td>\n",
       "      <td>5.519994</td>\n",
       "      <td>Glomerular</td>\n",
       "      <td>569</td>\n",
       "      <td>MN</td>\n",
       "      <td>1</td>\n",
       "    </tr>\n",
       "    <tr>\n",
       "      <th>106</th>\n",
       "      <td>107</td>\n",
       "      <td>6.798022</td>\n",
       "      <td>6.646187</td>\n",
       "      <td>6.895984</td>\n",
       "      <td>10.679474</td>\n",
       "      <td>6.833047</td>\n",
       "      <td>5.870951</td>\n",
       "      <td>8.256309</td>\n",
       "      <td>8.898227</td>\n",
       "      <td>7.392100</td>\n",
       "      <td>...</td>\n",
       "      <td>6.312014</td>\n",
       "      <td>5.350612</td>\n",
       "      <td>7.392766</td>\n",
       "      <td>9.271444</td>\n",
       "      <td>6.980144</td>\n",
       "      <td>6.312586</td>\n",
       "      <td>Glomerular</td>\n",
       "      <td>566</td>\n",
       "      <td>MN</td>\n",
       "      <td>1</td>\n",
       "    </tr>\n",
       "  </tbody>\n",
       "</table>\n",
       "<p>107 rows × 30 columns</p>\n",
       "</div>"
      ],
      "text/plain": [
       "     Unnamed: 0       ZYX       CRK    COL4A2      ITGA3    COL4A1     VEGFC  \\\n",
       "0             1  6.616270  6.650780  6.212293  10.158111  6.542626  5.965278   \n",
       "1             2  7.001047  6.386364  5.273056   9.860777  5.513112  6.616980   \n",
       "2             3  6.628755  6.500360  5.677885   9.879791  6.278609  5.795266   \n",
       "3             4  6.984691  6.581776  5.951040  10.673389  6.115012  5.129073   \n",
       "4             5  6.714409  6.629443  6.151001   9.715433  6.422950  6.330880   \n",
       "..          ...       ...       ...       ...        ...       ...       ...   \n",
       "102         103  6.309457  7.084534  7.136771  10.760538  7.820753  5.256161   \n",
       "103         104  6.114081  6.623781  5.492398  11.019819  5.803733  5.727388   \n",
       "104         105  7.300323  6.930577  5.488512  10.677016  5.486495  5.454204   \n",
       "105         106  7.256771  6.936422  6.429368  10.618888  6.479440  4.949829   \n",
       "106         107  6.798022  6.646187  6.895984  10.679474  6.833047  5.870951   \n",
       "\n",
       "       PDGFRB      FLT1      FLT4  ...     PDGFA     PDGFB      GRB2  \\\n",
       "0    7.573721  7.400331  5.616704  ...  6.348953  4.910223  7.497142   \n",
       "1    7.162280  7.310031  5.399082  ...  6.681751  3.884280  7.154931   \n",
       "2    6.059988  6.407779  5.094513  ...  6.078079  3.860516  6.942900   \n",
       "3    7.756084  8.035208  6.034542  ...  6.683461  4.298766  7.325002   \n",
       "4    7.072725  7.855886  5.818230  ...  6.026231  4.631380  7.271276   \n",
       "..        ...       ...       ...  ...       ...       ...       ...   \n",
       "102  8.533344  9.839728  6.076459  ...  6.335928  4.546304  6.953539   \n",
       "103  7.747092  7.482525  5.762355  ...  7.402658  4.970225  7.273947   \n",
       "104  8.471081  8.962164  7.130242  ...  6.373126  4.488608  7.072283   \n",
       "105  7.867039  8.490338  5.354927  ...  6.312014  4.003970  6.713200   \n",
       "106  8.256309  8.898227  7.392100  ...  6.312014  5.350612  7.392766   \n",
       "\n",
       "        CCND1    PIK3R1     BIRC2     Disease   ID  Disease2  Nephrotic  \n",
       "0    8.763867  7.074309  6.254792  Glomerular   94        MN          1  \n",
       "1    8.360980  7.308968  6.084218  Glomerular   81      FSGS          1  \n",
       "2    8.557394  7.141224  6.306339  Glomerular  133        MN          1  \n",
       "3    8.815787  6.927415  5.868231  Glomerular  102        MN          1  \n",
       "4    8.059317  7.563310  6.236375  Glomerular   82      FSGS          1  \n",
       "..        ...       ...       ...         ...  ...       ...        ...  \n",
       "102  8.814828  7.700050  6.514003  Glomerular    6       MCD          1  \n",
       "103  8.238052  7.469386  6.369455  Glomerular  567        MN          1  \n",
       "104  8.853904  6.795654  6.349480  Glomerular  571        MN          1  \n",
       "105  7.473833  7.772563  5.519994  Glomerular  569        MN          1  \n",
       "106  9.271444  6.980144  6.312586  Glomerular  566        MN          1  \n",
       "\n",
       "[107 rows x 30 columns]"
      ]
     },
     "execution_count": 81,
     "metadata": {},
     "output_type": "execute_result"
    }
   ],
   "source": [
    "genename"
   ]
  },
  {
   "cell_type": "code",
   "execution_count": 82,
   "id": "c3df5e29",
   "metadata": {},
   "outputs": [
    {
     "name": "stdout",
     "output_type": "stream",
     "text": [
      "Collecting package metadata (current_repodata.json): ...working... done\n",
      "Solving environment: ...working... done\n",
      "\n",
      "# All requested packages already installed.\n",
      "\n",
      "\n",
      "Note: you may need to restart the kernel to use updated packages.\n"
     ]
    }
   ],
   "source": [
    "conda install plotly"
   ]
  },
  {
   "cell_type": "code",
   "execution_count": 123,
   "id": "006e7659",
   "metadata": {},
   "outputs": [],
   "source": [
    "import plotly.express as px\n",
    "import plotly.graph_objects as go"
   ]
  },
  {
   "cell_type": "code",
   "execution_count": 124,
   "id": "a50307e4",
   "metadata": {},
   "outputs": [
    {
     "data": {
      "text/html": [
       "<div>\n",
       "<style scoped>\n",
       "    .dataframe tbody tr th:only-of-type {\n",
       "        vertical-align: middle;\n",
       "    }\n",
       "\n",
       "    .dataframe tbody tr th {\n",
       "        vertical-align: top;\n",
       "    }\n",
       "\n",
       "    .dataframe thead th {\n",
       "        text-align: right;\n",
       "    }\n",
       "</style>\n",
       "<table border=\"1\" class=\"dataframe\">\n",
       "  <thead>\n",
       "    <tr style=\"text-align: right;\">\n",
       "      <th></th>\n",
       "      <th>ZYX</th>\n",
       "      <th>CRK</th>\n",
       "      <th>COL4A2</th>\n",
       "      <th>ITGA3</th>\n",
       "      <th>COL4A1</th>\n",
       "      <th>VEGFC</th>\n",
       "      <th>PDGFRB</th>\n",
       "      <th>FLT1</th>\n",
       "      <th>FLT4</th>\n",
       "      <th>PIP5K1C</th>\n",
       "      <th>...</th>\n",
       "      <th>PIK3R3</th>\n",
       "      <th>VAV2</th>\n",
       "      <th>RAPGEF1</th>\n",
       "      <th>ITGA5</th>\n",
       "      <th>PDGFA</th>\n",
       "      <th>PDGFB</th>\n",
       "      <th>GRB2</th>\n",
       "      <th>CCND1</th>\n",
       "      <th>PIK3R1</th>\n",
       "      <th>BIRC2</th>\n",
       "    </tr>\n",
       "  </thead>\n",
       "  <tbody>\n",
       "    <tr>\n",
       "      <th>0</th>\n",
       "      <td>6.616270</td>\n",
       "      <td>6.650780</td>\n",
       "      <td>6.212293</td>\n",
       "      <td>10.158111</td>\n",
       "      <td>6.542626</td>\n",
       "      <td>5.965278</td>\n",
       "      <td>7.573721</td>\n",
       "      <td>7.400331</td>\n",
       "      <td>5.616704</td>\n",
       "      <td>4.092312</td>\n",
       "      <td>...</td>\n",
       "      <td>7.734887</td>\n",
       "      <td>5.733396</td>\n",
       "      <td>6.154797</td>\n",
       "      <td>4.728379</td>\n",
       "      <td>6.348953</td>\n",
       "      <td>4.910223</td>\n",
       "      <td>7.497142</td>\n",
       "      <td>8.763867</td>\n",
       "      <td>7.074309</td>\n",
       "      <td>6.254792</td>\n",
       "    </tr>\n",
       "    <tr>\n",
       "      <th>1</th>\n",
       "      <td>7.001047</td>\n",
       "      <td>6.386364</td>\n",
       "      <td>5.273056</td>\n",
       "      <td>9.860777</td>\n",
       "      <td>5.513112</td>\n",
       "      <td>6.616980</td>\n",
       "      <td>7.162280</td>\n",
       "      <td>7.310031</td>\n",
       "      <td>5.399082</td>\n",
       "      <td>4.213155</td>\n",
       "      <td>...</td>\n",
       "      <td>7.396918</td>\n",
       "      <td>4.923376</td>\n",
       "      <td>5.828350</td>\n",
       "      <td>5.346675</td>\n",
       "      <td>6.681751</td>\n",
       "      <td>3.884280</td>\n",
       "      <td>7.154931</td>\n",
       "      <td>8.360980</td>\n",
       "      <td>7.308968</td>\n",
       "      <td>6.084218</td>\n",
       "    </tr>\n",
       "    <tr>\n",
       "      <th>2</th>\n",
       "      <td>6.628755</td>\n",
       "      <td>6.500360</td>\n",
       "      <td>5.677885</td>\n",
       "      <td>9.879791</td>\n",
       "      <td>6.278609</td>\n",
       "      <td>5.795266</td>\n",
       "      <td>6.059988</td>\n",
       "      <td>6.407779</td>\n",
       "      <td>5.094513</td>\n",
       "      <td>4.164167</td>\n",
       "      <td>...</td>\n",
       "      <td>7.323773</td>\n",
       "      <td>6.205874</td>\n",
       "      <td>5.923864</td>\n",
       "      <td>4.647113</td>\n",
       "      <td>6.078079</td>\n",
       "      <td>3.860516</td>\n",
       "      <td>6.942900</td>\n",
       "      <td>8.557394</td>\n",
       "      <td>7.141224</td>\n",
       "      <td>6.306339</td>\n",
       "    </tr>\n",
       "    <tr>\n",
       "      <th>3</th>\n",
       "      <td>6.984691</td>\n",
       "      <td>6.581776</td>\n",
       "      <td>5.951040</td>\n",
       "      <td>10.673389</td>\n",
       "      <td>6.115012</td>\n",
       "      <td>5.129073</td>\n",
       "      <td>7.756084</td>\n",
       "      <td>8.035208</td>\n",
       "      <td>6.034542</td>\n",
       "      <td>4.543694</td>\n",
       "      <td>...</td>\n",
       "      <td>7.295814</td>\n",
       "      <td>5.969998</td>\n",
       "      <td>6.651092</td>\n",
       "      <td>4.852498</td>\n",
       "      <td>6.683461</td>\n",
       "      <td>4.298766</td>\n",
       "      <td>7.325002</td>\n",
       "      <td>8.815787</td>\n",
       "      <td>6.927415</td>\n",
       "      <td>5.868231</td>\n",
       "    </tr>\n",
       "    <tr>\n",
       "      <th>4</th>\n",
       "      <td>6.714409</td>\n",
       "      <td>6.629443</td>\n",
       "      <td>6.151001</td>\n",
       "      <td>9.715433</td>\n",
       "      <td>6.422950</td>\n",
       "      <td>6.330880</td>\n",
       "      <td>7.072725</td>\n",
       "      <td>7.855886</td>\n",
       "      <td>5.818230</td>\n",
       "      <td>4.660742</td>\n",
       "      <td>...</td>\n",
       "      <td>7.451849</td>\n",
       "      <td>5.844751</td>\n",
       "      <td>6.268313</td>\n",
       "      <td>5.519980</td>\n",
       "      <td>6.026231</td>\n",
       "      <td>4.631380</td>\n",
       "      <td>7.271276</td>\n",
       "      <td>8.059317</td>\n",
       "      <td>7.563310</td>\n",
       "      <td>6.236375</td>\n",
       "    </tr>\n",
       "    <tr>\n",
       "      <th>...</th>\n",
       "      <td>...</td>\n",
       "      <td>...</td>\n",
       "      <td>...</td>\n",
       "      <td>...</td>\n",
       "      <td>...</td>\n",
       "      <td>...</td>\n",
       "      <td>...</td>\n",
       "      <td>...</td>\n",
       "      <td>...</td>\n",
       "      <td>...</td>\n",
       "      <td>...</td>\n",
       "      <td>...</td>\n",
       "      <td>...</td>\n",
       "      <td>...</td>\n",
       "      <td>...</td>\n",
       "      <td>...</td>\n",
       "      <td>...</td>\n",
       "      <td>...</td>\n",
       "      <td>...</td>\n",
       "      <td>...</td>\n",
       "      <td>...</td>\n",
       "    </tr>\n",
       "    <tr>\n",
       "      <th>102</th>\n",
       "      <td>6.309457</td>\n",
       "      <td>7.084534</td>\n",
       "      <td>7.136771</td>\n",
       "      <td>10.760538</td>\n",
       "      <td>7.820753</td>\n",
       "      <td>5.256161</td>\n",
       "      <td>8.533344</td>\n",
       "      <td>9.839728</td>\n",
       "      <td>6.076459</td>\n",
       "      <td>3.998187</td>\n",
       "      <td>...</td>\n",
       "      <td>7.835594</td>\n",
       "      <td>5.659436</td>\n",
       "      <td>6.335371</td>\n",
       "      <td>4.948888</td>\n",
       "      <td>6.335928</td>\n",
       "      <td>4.546304</td>\n",
       "      <td>6.953539</td>\n",
       "      <td>8.814828</td>\n",
       "      <td>7.700050</td>\n",
       "      <td>6.514003</td>\n",
       "    </tr>\n",
       "    <tr>\n",
       "      <th>103</th>\n",
       "      <td>6.114081</td>\n",
       "      <td>6.623781</td>\n",
       "      <td>5.492398</td>\n",
       "      <td>11.019819</td>\n",
       "      <td>5.803733</td>\n",
       "      <td>5.727388</td>\n",
       "      <td>7.747092</td>\n",
       "      <td>7.482525</td>\n",
       "      <td>5.762355</td>\n",
       "      <td>3.998187</td>\n",
       "      <td>...</td>\n",
       "      <td>6.621006</td>\n",
       "      <td>5.895063</td>\n",
       "      <td>6.421056</td>\n",
       "      <td>4.373257</td>\n",
       "      <td>7.402658</td>\n",
       "      <td>4.970225</td>\n",
       "      <td>7.273947</td>\n",
       "      <td>8.238052</td>\n",
       "      <td>7.469386</td>\n",
       "      <td>6.369455</td>\n",
       "    </tr>\n",
       "    <tr>\n",
       "      <th>104</th>\n",
       "      <td>7.300323</td>\n",
       "      <td>6.930577</td>\n",
       "      <td>5.488512</td>\n",
       "      <td>10.677016</td>\n",
       "      <td>5.486495</td>\n",
       "      <td>5.454204</td>\n",
       "      <td>8.471081</td>\n",
       "      <td>8.962164</td>\n",
       "      <td>7.130242</td>\n",
       "      <td>4.327737</td>\n",
       "      <td>...</td>\n",
       "      <td>8.172748</td>\n",
       "      <td>6.479782</td>\n",
       "      <td>7.043235</td>\n",
       "      <td>4.734178</td>\n",
       "      <td>6.373126</td>\n",
       "      <td>4.488608</td>\n",
       "      <td>7.072283</td>\n",
       "      <td>8.853904</td>\n",
       "      <td>6.795654</td>\n",
       "      <td>6.349480</td>\n",
       "    </tr>\n",
       "    <tr>\n",
       "      <th>105</th>\n",
       "      <td>7.256771</td>\n",
       "      <td>6.936422</td>\n",
       "      <td>6.429368</td>\n",
       "      <td>10.618888</td>\n",
       "      <td>6.479440</td>\n",
       "      <td>4.949829</td>\n",
       "      <td>7.867039</td>\n",
       "      <td>8.490338</td>\n",
       "      <td>5.354927</td>\n",
       "      <td>3.887201</td>\n",
       "      <td>...</td>\n",
       "      <td>7.376728</td>\n",
       "      <td>5.349976</td>\n",
       "      <td>5.972116</td>\n",
       "      <td>5.302761</td>\n",
       "      <td>6.312014</td>\n",
       "      <td>4.003970</td>\n",
       "      <td>6.713200</td>\n",
       "      <td>7.473833</td>\n",
       "      <td>7.772563</td>\n",
       "      <td>5.519994</td>\n",
       "    </tr>\n",
       "    <tr>\n",
       "      <th>106</th>\n",
       "      <td>6.798022</td>\n",
       "      <td>6.646187</td>\n",
       "      <td>6.895984</td>\n",
       "      <td>10.679474</td>\n",
       "      <td>6.833047</td>\n",
       "      <td>5.870951</td>\n",
       "      <td>8.256309</td>\n",
       "      <td>8.898227</td>\n",
       "      <td>7.392100</td>\n",
       "      <td>3.887201</td>\n",
       "      <td>...</td>\n",
       "      <td>8.795379</td>\n",
       "      <td>5.349976</td>\n",
       "      <td>5.972116</td>\n",
       "      <td>4.291686</td>\n",
       "      <td>6.312014</td>\n",
       "      <td>5.350612</td>\n",
       "      <td>7.392766</td>\n",
       "      <td>9.271444</td>\n",
       "      <td>6.980144</td>\n",
       "      <td>6.312586</td>\n",
       "    </tr>\n",
       "  </tbody>\n",
       "</table>\n",
       "<p>107 rows × 25 columns</p>\n",
       "</div>"
      ],
      "text/plain": [
       "          ZYX       CRK    COL4A2      ITGA3    COL4A1     VEGFC    PDGFRB  \\\n",
       "0    6.616270  6.650780  6.212293  10.158111  6.542626  5.965278  7.573721   \n",
       "1    7.001047  6.386364  5.273056   9.860777  5.513112  6.616980  7.162280   \n",
       "2    6.628755  6.500360  5.677885   9.879791  6.278609  5.795266  6.059988   \n",
       "3    6.984691  6.581776  5.951040  10.673389  6.115012  5.129073  7.756084   \n",
       "4    6.714409  6.629443  6.151001   9.715433  6.422950  6.330880  7.072725   \n",
       "..        ...       ...       ...        ...       ...       ...       ...   \n",
       "102  6.309457  7.084534  7.136771  10.760538  7.820753  5.256161  8.533344   \n",
       "103  6.114081  6.623781  5.492398  11.019819  5.803733  5.727388  7.747092   \n",
       "104  7.300323  6.930577  5.488512  10.677016  5.486495  5.454204  8.471081   \n",
       "105  7.256771  6.936422  6.429368  10.618888  6.479440  4.949829  7.867039   \n",
       "106  6.798022  6.646187  6.895984  10.679474  6.833047  5.870951  8.256309   \n",
       "\n",
       "         FLT1      FLT4   PIP5K1C  ...    PIK3R3      VAV2   RAPGEF1  \\\n",
       "0    7.400331  5.616704  4.092312  ...  7.734887  5.733396  6.154797   \n",
       "1    7.310031  5.399082  4.213155  ...  7.396918  4.923376  5.828350   \n",
       "2    6.407779  5.094513  4.164167  ...  7.323773  6.205874  5.923864   \n",
       "3    8.035208  6.034542  4.543694  ...  7.295814  5.969998  6.651092   \n",
       "4    7.855886  5.818230  4.660742  ...  7.451849  5.844751  6.268313   \n",
       "..        ...       ...       ...  ...       ...       ...       ...   \n",
       "102  9.839728  6.076459  3.998187  ...  7.835594  5.659436  6.335371   \n",
       "103  7.482525  5.762355  3.998187  ...  6.621006  5.895063  6.421056   \n",
       "104  8.962164  7.130242  4.327737  ...  8.172748  6.479782  7.043235   \n",
       "105  8.490338  5.354927  3.887201  ...  7.376728  5.349976  5.972116   \n",
       "106  8.898227  7.392100  3.887201  ...  8.795379  5.349976  5.972116   \n",
       "\n",
       "        ITGA5     PDGFA     PDGFB      GRB2     CCND1    PIK3R1     BIRC2  \n",
       "0    4.728379  6.348953  4.910223  7.497142  8.763867  7.074309  6.254792  \n",
       "1    5.346675  6.681751  3.884280  7.154931  8.360980  7.308968  6.084218  \n",
       "2    4.647113  6.078079  3.860516  6.942900  8.557394  7.141224  6.306339  \n",
       "3    4.852498  6.683461  4.298766  7.325002  8.815787  6.927415  5.868231  \n",
       "4    5.519980  6.026231  4.631380  7.271276  8.059317  7.563310  6.236375  \n",
       "..        ...       ...       ...       ...       ...       ...       ...  \n",
       "102  4.948888  6.335928  4.546304  6.953539  8.814828  7.700050  6.514003  \n",
       "103  4.373257  7.402658  4.970225  7.273947  8.238052  7.469386  6.369455  \n",
       "104  4.734178  6.373126  4.488608  7.072283  8.853904  6.795654  6.349480  \n",
       "105  5.302761  6.312014  4.003970  6.713200  7.473833  7.772563  5.519994  \n",
       "106  4.291686  6.312014  5.350612  7.392766  9.271444  6.980144  6.312586  \n",
       "\n",
       "[107 rows x 25 columns]"
      ]
     },
     "execution_count": 124,
     "metadata": {},
     "output_type": "execute_result"
    }
   ],
   "source": [
    "genename_drop = genename.drop(columns = ['Unnamed: 0', 'Disease', 'ID', 'Disease2', 'Nephrotic'])\n",
    "genename_drop"
   ]
  },
  {
   "cell_type": "code",
   "execution_count": 130,
   "id": "ce7c902c",
   "metadata": {},
   "outputs": [],
   "source": [
    "genename_drop_corr = genename_drop.corr()\n",
    "#genename_drop_corr = genename_drop_corr.drop(columns = ['Unnamed: 0'])\n"
   ]
  },
  {
   "cell_type": "code",
   "execution_count": 131,
   "id": "7dd36004",
   "metadata": {},
   "outputs": [
    {
     "data": {
      "application/vnd.plotly.v1+json": {
       "config": {
        "plotlyServerURL": "https://plot.ly"
       },
       "data": [
        {
         "coloraxis": "coloraxis",
         "hovertemplate": "x: %{x}<br>y: %{y}<br>color: %{z}<extra></extra>",
         "name": "0",
         "type": "heatmap",
         "x": [
          "ZYX",
          "CRK",
          "COL4A2",
          "ITGA3",
          "COL4A1",
          "VEGFC",
          "PDGFRB",
          "FLT1",
          "FLT4",
          "PIP5K1C",
          "ACTN4",
          "TLN1",
          "FLNA",
          "PXN",
          "ILK",
          "PIK3R3",
          "VAV2",
          "RAPGEF1",
          "ITGA5",
          "PDGFA",
          "PDGFB",
          "GRB2",
          "CCND1",
          "PIK3R1",
          "BIRC2"
         ],
         "xaxis": "x",
         "y": [
          "ZYX",
          "CRK",
          "COL4A2",
          "ITGA3",
          "COL4A1",
          "VEGFC",
          "PDGFRB",
          "FLT1",
          "FLT4",
          "PIP5K1C",
          "ACTN4",
          "TLN1",
          "FLNA",
          "PXN",
          "ILK",
          "PIK3R3",
          "VAV2",
          "RAPGEF1",
          "ITGA5",
          "PDGFA",
          "PDGFB",
          "GRB2",
          "CCND1",
          "PIK3R1",
          "BIRC2"
         ],
         "yaxis": "y",
         "z": [
          [
           1,
           0.49687250656953696,
           0.5827531758510243,
           0.5675785388758375,
           0.5439658965351211,
           0.37601517244951105,
           0.45347496233484436,
           0.2704859673275657,
           0.578001517896147,
           0.4621222206345966,
           0.4629063494236967,
           0.5287387613641925,
           0.6814048526000837,
           0.28877824125589036,
           0.4668530073291239,
           0.32180634920517603,
           0.3963819218861245,
           0.6101039056294919,
           0.5618487741921097,
           0.44063052900523003,
           0.35905151695191945,
           0.3664134382062148,
           0.7020095807600558,
           -0.38084606298899654,
           -0.39461860146228805
          ],
          [
           0.49687250656953696,
           1,
           0.34602199261092526,
           0.3780764932119629,
           0.28195649851409754,
           0.2357589209239703,
           0.41841546401927654,
           0.41032909723912003,
           0.4240707304341738,
           0.2794474278700306,
           0.38318263804282593,
           0.3707580653175665,
           0.32683424648359527,
           0.13334086647281349,
           0.3910569399648967,
           0.4354171143387315,
           0.2951054258309716,
           0.406518427550979,
           0.38503923882439545,
           0.2473235644158166,
           0.27996669692012666,
           0.3500537704905228,
           0.3717311015926001,
           -0.2800874394063237,
           -0.24439941523105546
          ],
          [
           0.5827531758510243,
           0.34602199261092526,
           1,
           0.4695706082345036,
           0.8664450514732541,
           0.27400241413684695,
           0.4413914645957187,
           0.5004296527402762,
           0.5313597483444809,
           0.3124845576037185,
           0.3286656235060566,
           0.6646952486121264,
           0.5501171782443033,
           0.3593940093330104,
           0.3912917399885258,
           0.41060513293425793,
           0.25428180163284747,
           0.46678886132491976,
           0.6491865255877933,
           0.23858493462858746,
           0.4593937767697492,
           0.34552992721117715,
           0.6697347275363502,
           -0.26460953827955186,
           -0.3135981208690783
          ],
          [
           0.5675785388758375,
           0.3780764932119629,
           0.4695706082345036,
           1,
           0.4488200365986843,
           0.21268831220480253,
           0.7585005251529381,
           0.4036674829242332,
           0.6226023605252468,
           0.46138649579666596,
           0.8099583226129807,
           0.739920492880533,
           0.6995715718197048,
           0.15963891728926835,
           0.418764912423824,
           0.21975589903081164,
           0.6474101894547687,
           0.4587652257909389,
           0.3571419324211899,
           0.5802074112704056,
           0.25776154896556847,
           0.2771095291972779,
           0.5519517244567398,
           -0.34490751657426255,
           -0.3252628316287088
          ],
          [
           0.5439658965351211,
           0.28195649851409754,
           0.8664450514732541,
           0.4488200365986843,
           1,
           0.3239647439198357,
           0.42988646174239203,
           0.4312200358380613,
           0.49603213844366556,
           0.2927008244335125,
           0.3019782579462493,
           0.5968274370880484,
           0.5194666553587796,
           0.29859722850053955,
           0.2827744570046908,
           0.389609159079738,
           0.22679410485946244,
           0.3814815574214332,
           0.5766173312098672,
           0.2789697721736425,
           0.5102138029397226,
           0.1891230643174395,
           0.6088527873563014,
           -0.3342114989296221,
           -0.22151175853423435
          ],
          [
           0.37601517244951105,
           0.2357589209239703,
           0.27400241413684695,
           0.21268831220480253,
           0.3239647439198357,
           1,
           0.11035154751875523,
           0.049134731221054384,
           0.29776335613925736,
           0.07874368297226843,
           0.23348236548736023,
           0.20218067317546995,
           0.25239250535660046,
           0.05839985906853036,
           0.25132426104299005,
           0.3969316226092197,
           0.17537588149295918,
           0.15041333376212015,
           0.42290827588456276,
           0.32485565708026615,
           0.3207964496701954,
           0.1336282635528881,
           0.3973548298148631,
           -0.22352155750145006,
           -0.06768439875554651
          ],
          [
           0.45347496233484436,
           0.41841546401927654,
           0.4413914645957187,
           0.7585005251529381,
           0.42988646174239203,
           0.11035154751875523,
           1,
           0.6531096942778427,
           0.6310273090566101,
           0.3269813717152114,
           0.6348826774276903,
           0.7028449568032102,
           0.6298484359001721,
           0.19896459506290026,
           0.3845102834024192,
           0.28758470646041717,
           0.43595695532528705,
           0.40521939550450614,
           0.3562911585097786,
           0.4522884331268647,
           0.2226498863568751,
           0.14822188153458646,
           0.42645513743248425,
           -0.14782491479434198,
           -0.16854538281351533
          ],
          [
           0.2704859673275657,
           0.41032909723912003,
           0.5004296527402762,
           0.4036674829242332,
           0.4312200358380613,
           0.049134731221054384,
           0.6531096942778427,
           1,
           0.5966297817257453,
           0.18078422911113246,
           0.37335104180851986,
           0.5134449472532092,
           0.2724624927618868,
           0.21089961376242614,
           0.3350873905706349,
           0.5694462051331604,
           0.19527452248933067,
           0.48103075023288683,
           0.4069783423085061,
           0.08168141343304607,
           0.22183650258071372,
           0.17281038087235298,
           0.37299849731005064,
           0.03655798569231656,
           -0.20978681091294554
          ],
          [
           0.578001517896147,
           0.4240707304341738,
           0.5313597483444809,
           0.6226023605252468,
           0.49603213844366556,
           0.29776335613925736,
           0.6310273090566101,
           0.5966297817257453,
           1,
           0.4184519408394937,
           0.5940933264249927,
           0.6744774446325307,
           0.5431403911746816,
           0.2452214800269028,
           0.3961935390866801,
           0.4596811586533544,
           0.38237536974027525,
           0.5949366739674533,
           0.455860278518113,
           0.3303623169770126,
           0.24671751661107963,
           0.36006948536423605,
           0.6368547445101911,
           -0.3160981518850298,
           -0.26747712714109756
          ],
          [
           0.4621222206345966,
           0.2794474278700306,
           0.3124845576037185,
           0.46138649579666596,
           0.2927008244335125,
           0.07874368297226843,
           0.3269813717152114,
           0.18078422911113246,
           0.4184519408394937,
           1,
           0.4099911370564523,
           0.37096383304668373,
           0.41280308160687307,
           0.21000393225023897,
           0.32095490144492445,
           0.1395316196452131,
           0.4441005725909801,
           0.4964492335093373,
           0.4494410119367622,
           0.2865548019244148,
           0.15213257737603333,
           0.2183629274219481,
           0.44201132189870374,
           -0.3283300286529275,
           -0.2576900735962389
          ],
          [
           0.4629063494236967,
           0.38318263804282593,
           0.3286656235060566,
           0.8099583226129807,
           0.3019782579462493,
           0.23348236548736023,
           0.6348826774276903,
           0.37335104180851986,
           0.5940933264249927,
           0.4099911370564523,
           1,
           0.6637540936045379,
           0.5366639363486941,
           0.053326856665080115,
           0.4489044895156286,
           0.21195287192977974,
           0.5286469759625723,
           0.37280705387376023,
           0.23189286301150142,
           0.46393916502564303,
           0.2694561545459768,
           0.2451148517381485,
           0.4233076471636206,
           -0.25771868249053653,
           -0.28616843119551255
          ],
          [
           0.5287387613641925,
           0.3707580653175665,
           0.6646952486121264,
           0.739920492880533,
           0.5968274370880484,
           0.20218067317546995,
           0.7028449568032102,
           0.5134449472532092,
           0.6744774446325307,
           0.37096383304668373,
           0.6637540936045379,
           1,
           0.7482451857767096,
           0.23782602395740401,
           0.4911214841504143,
           0.3030767904123615,
           0.45530532106748484,
           0.5267896520690734,
           0.4757350428590037,
           0.3969977322714747,
           0.30308816156459994,
           0.3478468440963483,
           0.5701783277554356,
           -0.21594635443822713,
           -0.33317353356911056
          ],
          [
           0.6814048526000837,
           0.32683424648359527,
           0.5501171782443033,
           0.6995715718197048,
           0.5194666553587796,
           0.25239250535660046,
           0.6298484359001721,
           0.2724624927618868,
           0.5431403911746816,
           0.41280308160687307,
           0.5366639363486941,
           0.7482451857767096,
           1,
           0.29398105740466274,
           0.48386958636986915,
           0.17572277163772435,
           0.46721671650417534,
           0.516623664294901,
           0.4863718695736889,
           0.5171116317763224,
           0.3455670663498151,
           0.23215055620948288,
           0.5470162827696905,
           -0.30348274936000924,
           -0.20843304660793668
          ],
          [
           0.28877824125589036,
           0.13334086647281349,
           0.3593940093330104,
           0.15963891728926835,
           0.29859722850053955,
           0.05839985906853036,
           0.19896459506290026,
           0.21089961376242614,
           0.2452214800269028,
           0.21000393225023897,
           0.053326856665080115,
           0.23782602395740401,
           0.29398105740466274,
           1,
           0.2618723062391484,
           0.15024769745819402,
           0.1481110553237527,
           0.3176978150512012,
           0.33357806676969465,
           0.21177456042553666,
           0.33396793311007417,
           0.13080665582223217,
           0.22071971508863983,
           -0.05834182403715112,
           -0.1813297059716424
          ],
          [
           0.4668530073291239,
           0.3910569399648967,
           0.3912917399885258,
           0.418764912423824,
           0.2827744570046908,
           0.25132426104299005,
           0.3845102834024192,
           0.3350873905706349,
           0.3961935390866801,
           0.32095490144492445,
           0.4489044895156286,
           0.4911214841504143,
           0.48386958636986915,
           0.2618723062391484,
           1,
           0.09627709721726571,
           0.24301721485612007,
           0.4135563447943422,
           0.3009086494501414,
           0.4311017665693503,
           0.27624150340550774,
           0.2873548627165285,
           0.3426878358520444,
           -0.1849901421113669,
           -0.40511221892459165
          ],
          [
           0.32180634920517603,
           0.4354171143387315,
           0.41060513293425793,
           0.21975589903081164,
           0.389609159079738,
           0.3969316226092197,
           0.28758470646041717,
           0.5694462051331604,
           0.4596811586533544,
           0.1395316196452131,
           0.21195287192977974,
           0.3030767904123615,
           0.17572277163772435,
           0.15024769745819402,
           0.09627709721726571,
           1,
           0.16872217173204657,
           0.3278998297229864,
           0.4609091038055036,
           0.04691273895005194,
           0.3084763451217968,
           0.1180685991908667,
           0.5082160068733853,
           -0.09011101809537521,
           -0.12796812575046568
          ],
          [
           0.3963819218861245,
           0.2951054258309716,
           0.25428180163284747,
           0.6474101894547687,
           0.22679410485946244,
           0.17537588149295918,
           0.43595695532528705,
           0.19527452248933067,
           0.38237536974027525,
           0.4441005725909801,
           0.5286469759625723,
           0.45530532106748484,
           0.46721671650417534,
           0.1481110553237527,
           0.24301721485612007,
           0.16872217173204657,
           1,
           0.4984451084952938,
           0.17095921614136217,
           0.3844178607164431,
           0.14784414869545803,
           0.25289518998495497,
           0.40668779267809974,
           -0.3947724211404076,
           -0.16180031523050392
          ],
          [
           0.6101039056294919,
           0.406518427550979,
           0.46678886132491976,
           0.4587652257909389,
           0.3814815574214332,
           0.15041333376212015,
           0.40521939550450614,
           0.48103075023288683,
           0.5949366739674533,
           0.4964492335093373,
           0.37280705387376023,
           0.5267896520690734,
           0.516623664294901,
           0.3176978150512012,
           0.4135563447943422,
           0.3278998297229864,
           0.4984451084952938,
           1,
           0.4085331961789947,
           0.23298041631400826,
           0.1800544124987739,
           0.40883032773866695,
           0.5859470447677886,
           -0.21024700366991916,
           -0.2887105106462168
          ],
          [
           0.5618487741921097,
           0.38503923882439545,
           0.6491865255877933,
           0.3571419324211899,
           0.5766173312098672,
           0.42290827588456276,
           0.3562911585097786,
           0.4069783423085061,
           0.455860278518113,
           0.4494410119367622,
           0.23189286301150142,
           0.4757350428590037,
           0.4863718695736889,
           0.33357806676969465,
           0.3009086494501414,
           0.4609091038055036,
           0.17095921614136217,
           0.4085331961789947,
           1,
           0.28904058613028283,
           0.3909187115906403,
           0.22719727727137867,
           0.6319330490550489,
           -0.2595947210971219,
           -0.2062656877717663
          ],
          [
           0.44063052900523003,
           0.2473235644158166,
           0.23858493462858746,
           0.5802074112704056,
           0.2789697721736425,
           0.32485565708026615,
           0.4522884331268647,
           0.08168141343304607,
           0.3303623169770126,
           0.2865548019244148,
           0.46393916502564303,
           0.3969977322714747,
           0.5171116317763224,
           0.21177456042553666,
           0.4311017665693503,
           0.04691273895005194,
           0.3844178607164431,
           0.23298041631400826,
           0.28904058613028283,
           1,
           0.21314074931360671,
           0.25614219922069054,
           0.32356430339110304,
           -0.37041086139719065,
           -0.1733004450372811
          ],
          [
           0.35905151695191945,
           0.27996669692012666,
           0.4593937767697492,
           0.25776154896556847,
           0.5102138029397226,
           0.3207964496701954,
           0.2226498863568751,
           0.22183650258071372,
           0.24671751661107963,
           0.15213257737603333,
           0.2694561545459768,
           0.30308816156459994,
           0.3455670663498151,
           0.33396793311007417,
           0.27624150340550774,
           0.3084763451217968,
           0.14784414869545803,
           0.1800544124987739,
           0.3909187115906403,
           0.21314074931360671,
           1,
           0.17628018846282434,
           0.3864077219529207,
           -0.27038318242295356,
           -0.13997537883730984
          ],
          [
           0.3664134382062148,
           0.3500537704905228,
           0.34552992721117715,
           0.2771095291972779,
           0.1891230643174395,
           0.1336282635528881,
           0.14822188153458646,
           0.17281038087235298,
           0.36006948536423605,
           0.2183629274219481,
           0.2451148517381485,
           0.3478468440963483,
           0.23215055620948288,
           0.13080665582223217,
           0.2873548627165285,
           0.1180685991908667,
           0.25289518998495497,
           0.40883032773866695,
           0.22719727727137867,
           0.25614219922069054,
           0.17628018846282434,
           1,
           0.46635506359730194,
           -0.3213093729617883,
           -0.3702332301948391
          ],
          [
           0.7020095807600558,
           0.3717311015926001,
           0.6697347275363502,
           0.5519517244567398,
           0.6088527873563014,
           0.3973548298148631,
           0.42645513743248425,
           0.37299849731005064,
           0.6368547445101911,
           0.44201132189870374,
           0.4233076471636206,
           0.5701783277554356,
           0.5470162827696905,
           0.22071971508863983,
           0.3426878358520444,
           0.5082160068733853,
           0.40668779267809974,
           0.5859470447677886,
           0.6319330490550489,
           0.32356430339110304,
           0.3864077219529207,
           0.46635506359730194,
           1,
           -0.40946320098376776,
           -0.27904373452396786
          ],
          [
           -0.38084606298899654,
           -0.2800874394063237,
           -0.26460953827955186,
           -0.34490751657426255,
           -0.3342114989296221,
           -0.22352155750145006,
           -0.14782491479434198,
           0.03655798569231656,
           -0.3160981518850298,
           -0.3283300286529275,
           -0.25771868249053653,
           -0.21594635443822713,
           -0.30348274936000924,
           -0.05834182403715112,
           -0.1849901421113669,
           -0.09011101809537521,
           -0.3947724211404076,
           -0.21024700366991916,
           -0.2595947210971219,
           -0.37041086139719065,
           -0.27038318242295356,
           -0.3213093729617883,
           -0.40946320098376776,
           1,
           0.13778174884012445
          ],
          [
           -0.39461860146228805,
           -0.24439941523105546,
           -0.3135981208690783,
           -0.3252628316287088,
           -0.22151175853423435,
           -0.06768439875554651,
           -0.16854538281351533,
           -0.20978681091294554,
           -0.26747712714109756,
           -0.2576900735962389,
           -0.28616843119551255,
           -0.33317353356911056,
           -0.20843304660793668,
           -0.1813297059716424,
           -0.40511221892459165,
           -0.12796812575046568,
           -0.16180031523050392,
           -0.2887105106462168,
           -0.2062656877717663,
           -0.1733004450372811,
           -0.13997537883730984,
           -0.3702332301948391,
           -0.27904373452396786,
           0.13778174884012445,
           1
          ]
         ]
        }
       ],
       "layout": {
        "coloraxis": {
         "colorscale": [
          [
           0,
           "#0d0887"
          ],
          [
           0.1111111111111111,
           "#46039f"
          ],
          [
           0.2222222222222222,
           "#7201a8"
          ],
          [
           0.3333333333333333,
           "#9c179e"
          ],
          [
           0.4444444444444444,
           "#bd3786"
          ],
          [
           0.5555555555555556,
           "#d8576b"
          ],
          [
           0.6666666666666666,
           "#ed7953"
          ],
          [
           0.7777777777777778,
           "#fb9f3a"
          ],
          [
           0.8888888888888888,
           "#fdca26"
          ],
          [
           1,
           "#f0f921"
          ]
         ]
        },
        "margin": {
         "t": 60
        },
        "template": {
         "data": {
          "bar": [
           {
            "error_x": {
             "color": "#2a3f5f"
            },
            "error_y": {
             "color": "#2a3f5f"
            },
            "marker": {
             "line": {
              "color": "#E5ECF6",
              "width": 0.5
             },
             "pattern": {
              "fillmode": "overlay",
              "size": 10,
              "solidity": 0.2
             }
            },
            "type": "bar"
           }
          ],
          "barpolar": [
           {
            "marker": {
             "line": {
              "color": "#E5ECF6",
              "width": 0.5
             },
             "pattern": {
              "fillmode": "overlay",
              "size": 10,
              "solidity": 0.2
             }
            },
            "type": "barpolar"
           }
          ],
          "carpet": [
           {
            "aaxis": {
             "endlinecolor": "#2a3f5f",
             "gridcolor": "white",
             "linecolor": "white",
             "minorgridcolor": "white",
             "startlinecolor": "#2a3f5f"
            },
            "baxis": {
             "endlinecolor": "#2a3f5f",
             "gridcolor": "white",
             "linecolor": "white",
             "minorgridcolor": "white",
             "startlinecolor": "#2a3f5f"
            },
            "type": "carpet"
           }
          ],
          "choropleth": [
           {
            "colorbar": {
             "outlinewidth": 0,
             "ticks": ""
            },
            "type": "choropleth"
           }
          ],
          "contour": [
           {
            "colorbar": {
             "outlinewidth": 0,
             "ticks": ""
            },
            "colorscale": [
             [
              0,
              "#0d0887"
             ],
             [
              0.1111111111111111,
              "#46039f"
             ],
             [
              0.2222222222222222,
              "#7201a8"
             ],
             [
              0.3333333333333333,
              "#9c179e"
             ],
             [
              0.4444444444444444,
              "#bd3786"
             ],
             [
              0.5555555555555556,
              "#d8576b"
             ],
             [
              0.6666666666666666,
              "#ed7953"
             ],
             [
              0.7777777777777778,
              "#fb9f3a"
             ],
             [
              0.8888888888888888,
              "#fdca26"
             ],
             [
              1,
              "#f0f921"
             ]
            ],
            "type": "contour"
           }
          ],
          "contourcarpet": [
           {
            "colorbar": {
             "outlinewidth": 0,
             "ticks": ""
            },
            "type": "contourcarpet"
           }
          ],
          "heatmap": [
           {
            "colorbar": {
             "outlinewidth": 0,
             "ticks": ""
            },
            "colorscale": [
             [
              0,
              "#0d0887"
             ],
             [
              0.1111111111111111,
              "#46039f"
             ],
             [
              0.2222222222222222,
              "#7201a8"
             ],
             [
              0.3333333333333333,
              "#9c179e"
             ],
             [
              0.4444444444444444,
              "#bd3786"
             ],
             [
              0.5555555555555556,
              "#d8576b"
             ],
             [
              0.6666666666666666,
              "#ed7953"
             ],
             [
              0.7777777777777778,
              "#fb9f3a"
             ],
             [
              0.8888888888888888,
              "#fdca26"
             ],
             [
              1,
              "#f0f921"
             ]
            ],
            "type": "heatmap"
           }
          ],
          "heatmapgl": [
           {
            "colorbar": {
             "outlinewidth": 0,
             "ticks": ""
            },
            "colorscale": [
             [
              0,
              "#0d0887"
             ],
             [
              0.1111111111111111,
              "#46039f"
             ],
             [
              0.2222222222222222,
              "#7201a8"
             ],
             [
              0.3333333333333333,
              "#9c179e"
             ],
             [
              0.4444444444444444,
              "#bd3786"
             ],
             [
              0.5555555555555556,
              "#d8576b"
             ],
             [
              0.6666666666666666,
              "#ed7953"
             ],
             [
              0.7777777777777778,
              "#fb9f3a"
             ],
             [
              0.8888888888888888,
              "#fdca26"
             ],
             [
              1,
              "#f0f921"
             ]
            ],
            "type": "heatmapgl"
           }
          ],
          "histogram": [
           {
            "marker": {
             "pattern": {
              "fillmode": "overlay",
              "size": 10,
              "solidity": 0.2
             }
            },
            "type": "histogram"
           }
          ],
          "histogram2d": [
           {
            "colorbar": {
             "outlinewidth": 0,
             "ticks": ""
            },
            "colorscale": [
             [
              0,
              "#0d0887"
             ],
             [
              0.1111111111111111,
              "#46039f"
             ],
             [
              0.2222222222222222,
              "#7201a8"
             ],
             [
              0.3333333333333333,
              "#9c179e"
             ],
             [
              0.4444444444444444,
              "#bd3786"
             ],
             [
              0.5555555555555556,
              "#d8576b"
             ],
             [
              0.6666666666666666,
              "#ed7953"
             ],
             [
              0.7777777777777778,
              "#fb9f3a"
             ],
             [
              0.8888888888888888,
              "#fdca26"
             ],
             [
              1,
              "#f0f921"
             ]
            ],
            "type": "histogram2d"
           }
          ],
          "histogram2dcontour": [
           {
            "colorbar": {
             "outlinewidth": 0,
             "ticks": ""
            },
            "colorscale": [
             [
              0,
              "#0d0887"
             ],
             [
              0.1111111111111111,
              "#46039f"
             ],
             [
              0.2222222222222222,
              "#7201a8"
             ],
             [
              0.3333333333333333,
              "#9c179e"
             ],
             [
              0.4444444444444444,
              "#bd3786"
             ],
             [
              0.5555555555555556,
              "#d8576b"
             ],
             [
              0.6666666666666666,
              "#ed7953"
             ],
             [
              0.7777777777777778,
              "#fb9f3a"
             ],
             [
              0.8888888888888888,
              "#fdca26"
             ],
             [
              1,
              "#f0f921"
             ]
            ],
            "type": "histogram2dcontour"
           }
          ],
          "mesh3d": [
           {
            "colorbar": {
             "outlinewidth": 0,
             "ticks": ""
            },
            "type": "mesh3d"
           }
          ],
          "parcoords": [
           {
            "line": {
             "colorbar": {
              "outlinewidth": 0,
              "ticks": ""
             }
            },
            "type": "parcoords"
           }
          ],
          "pie": [
           {
            "automargin": true,
            "type": "pie"
           }
          ],
          "scatter": [
           {
            "fillpattern": {
             "fillmode": "overlay",
             "size": 10,
             "solidity": 0.2
            },
            "type": "scatter"
           }
          ],
          "scatter3d": [
           {
            "line": {
             "colorbar": {
              "outlinewidth": 0,
              "ticks": ""
             }
            },
            "marker": {
             "colorbar": {
              "outlinewidth": 0,
              "ticks": ""
             }
            },
            "type": "scatter3d"
           }
          ],
          "scattercarpet": [
           {
            "marker": {
             "colorbar": {
              "outlinewidth": 0,
              "ticks": ""
             }
            },
            "type": "scattercarpet"
           }
          ],
          "scattergeo": [
           {
            "marker": {
             "colorbar": {
              "outlinewidth": 0,
              "ticks": ""
             }
            },
            "type": "scattergeo"
           }
          ],
          "scattergl": [
           {
            "marker": {
             "colorbar": {
              "outlinewidth": 0,
              "ticks": ""
             }
            },
            "type": "scattergl"
           }
          ],
          "scattermapbox": [
           {
            "marker": {
             "colorbar": {
              "outlinewidth": 0,
              "ticks": ""
             }
            },
            "type": "scattermapbox"
           }
          ],
          "scatterpolar": [
           {
            "marker": {
             "colorbar": {
              "outlinewidth": 0,
              "ticks": ""
             }
            },
            "type": "scatterpolar"
           }
          ],
          "scatterpolargl": [
           {
            "marker": {
             "colorbar": {
              "outlinewidth": 0,
              "ticks": ""
             }
            },
            "type": "scatterpolargl"
           }
          ],
          "scatterternary": [
           {
            "marker": {
             "colorbar": {
              "outlinewidth": 0,
              "ticks": ""
             }
            },
            "type": "scatterternary"
           }
          ],
          "surface": [
           {
            "colorbar": {
             "outlinewidth": 0,
             "ticks": ""
            },
            "colorscale": [
             [
              0,
              "#0d0887"
             ],
             [
              0.1111111111111111,
              "#46039f"
             ],
             [
              0.2222222222222222,
              "#7201a8"
             ],
             [
              0.3333333333333333,
              "#9c179e"
             ],
             [
              0.4444444444444444,
              "#bd3786"
             ],
             [
              0.5555555555555556,
              "#d8576b"
             ],
             [
              0.6666666666666666,
              "#ed7953"
             ],
             [
              0.7777777777777778,
              "#fb9f3a"
             ],
             [
              0.8888888888888888,
              "#fdca26"
             ],
             [
              1,
              "#f0f921"
             ]
            ],
            "type": "surface"
           }
          ],
          "table": [
           {
            "cells": {
             "fill": {
              "color": "#EBF0F8"
             },
             "line": {
              "color": "white"
             }
            },
            "header": {
             "fill": {
              "color": "#C8D4E3"
             },
             "line": {
              "color": "white"
             }
            },
            "type": "table"
           }
          ]
         },
         "layout": {
          "annotationdefaults": {
           "arrowcolor": "#2a3f5f",
           "arrowhead": 0,
           "arrowwidth": 1
          },
          "autotypenumbers": "strict",
          "coloraxis": {
           "colorbar": {
            "outlinewidth": 0,
            "ticks": ""
           }
          },
          "colorscale": {
           "diverging": [
            [
             0,
             "#8e0152"
            ],
            [
             0.1,
             "#c51b7d"
            ],
            [
             0.2,
             "#de77ae"
            ],
            [
             0.3,
             "#f1b6da"
            ],
            [
             0.4,
             "#fde0ef"
            ],
            [
             0.5,
             "#f7f7f7"
            ],
            [
             0.6,
             "#e6f5d0"
            ],
            [
             0.7,
             "#b8e186"
            ],
            [
             0.8,
             "#7fbc41"
            ],
            [
             0.9,
             "#4d9221"
            ],
            [
             1,
             "#276419"
            ]
           ],
           "sequential": [
            [
             0,
             "#0d0887"
            ],
            [
             0.1111111111111111,
             "#46039f"
            ],
            [
             0.2222222222222222,
             "#7201a8"
            ],
            [
             0.3333333333333333,
             "#9c179e"
            ],
            [
             0.4444444444444444,
             "#bd3786"
            ],
            [
             0.5555555555555556,
             "#d8576b"
            ],
            [
             0.6666666666666666,
             "#ed7953"
            ],
            [
             0.7777777777777778,
             "#fb9f3a"
            ],
            [
             0.8888888888888888,
             "#fdca26"
            ],
            [
             1,
             "#f0f921"
            ]
           ],
           "sequentialminus": [
            [
             0,
             "#0d0887"
            ],
            [
             0.1111111111111111,
             "#46039f"
            ],
            [
             0.2222222222222222,
             "#7201a8"
            ],
            [
             0.3333333333333333,
             "#9c179e"
            ],
            [
             0.4444444444444444,
             "#bd3786"
            ],
            [
             0.5555555555555556,
             "#d8576b"
            ],
            [
             0.6666666666666666,
             "#ed7953"
            ],
            [
             0.7777777777777778,
             "#fb9f3a"
            ],
            [
             0.8888888888888888,
             "#fdca26"
            ],
            [
             1,
             "#f0f921"
            ]
           ]
          },
          "colorway": [
           "#636efa",
           "#EF553B",
           "#00cc96",
           "#ab63fa",
           "#FFA15A",
           "#19d3f3",
           "#FF6692",
           "#B6E880",
           "#FF97FF",
           "#FECB52"
          ],
          "font": {
           "color": "#2a3f5f"
          },
          "geo": {
           "bgcolor": "white",
           "lakecolor": "white",
           "landcolor": "#E5ECF6",
           "showlakes": true,
           "showland": true,
           "subunitcolor": "white"
          },
          "hoverlabel": {
           "align": "left"
          },
          "hovermode": "closest",
          "mapbox": {
           "style": "light"
          },
          "paper_bgcolor": "white",
          "plot_bgcolor": "#E5ECF6",
          "polar": {
           "angularaxis": {
            "gridcolor": "white",
            "linecolor": "white",
            "ticks": ""
           },
           "bgcolor": "#E5ECF6",
           "radialaxis": {
            "gridcolor": "white",
            "linecolor": "white",
            "ticks": ""
           }
          },
          "scene": {
           "xaxis": {
            "backgroundcolor": "#E5ECF6",
            "gridcolor": "white",
            "gridwidth": 2,
            "linecolor": "white",
            "showbackground": true,
            "ticks": "",
            "zerolinecolor": "white"
           },
           "yaxis": {
            "backgroundcolor": "#E5ECF6",
            "gridcolor": "white",
            "gridwidth": 2,
            "linecolor": "white",
            "showbackground": true,
            "ticks": "",
            "zerolinecolor": "white"
           },
           "zaxis": {
            "backgroundcolor": "#E5ECF6",
            "gridcolor": "white",
            "gridwidth": 2,
            "linecolor": "white",
            "showbackground": true,
            "ticks": "",
            "zerolinecolor": "white"
           }
          },
          "shapedefaults": {
           "line": {
            "color": "#2a3f5f"
           }
          },
          "ternary": {
           "aaxis": {
            "gridcolor": "white",
            "linecolor": "white",
            "ticks": ""
           },
           "baxis": {
            "gridcolor": "white",
            "linecolor": "white",
            "ticks": ""
           },
           "bgcolor": "#E5ECF6",
           "caxis": {
            "gridcolor": "white",
            "linecolor": "white",
            "ticks": ""
           }
          },
          "title": {
           "x": 0.05
          },
          "xaxis": {
           "automargin": true,
           "gridcolor": "white",
           "linecolor": "white",
           "ticks": "",
           "title": {
            "standoff": 15
           },
           "zerolinecolor": "white",
           "zerolinewidth": 2
          },
          "yaxis": {
           "automargin": true,
           "gridcolor": "white",
           "linecolor": "white",
           "ticks": "",
           "title": {
            "standoff": 15
           },
           "zerolinecolor": "white",
           "zerolinewidth": 2
          }
         }
        },
        "xaxis": {
         "anchor": "y",
         "constrain": "domain",
         "domain": [
          0,
          1
         ],
         "scaleanchor": "y"
        },
        "yaxis": {
         "anchor": "x",
         "autorange": "reversed",
         "constrain": "domain",
         "domain": [
          0,
          1
         ]
        }
       }
      },
      "text/html": [
       "<div>                            <div id=\"6bd7541b-7113-4be8-ab0d-b3be524eb47e\" class=\"plotly-graph-div\" style=\"height:525px; width:100%;\"></div>            <script type=\"text/javascript\">                require([\"plotly\"], function(Plotly) {                    window.PLOTLYENV=window.PLOTLYENV || {};                                    if (document.getElementById(\"6bd7541b-7113-4be8-ab0d-b3be524eb47e\")) {                    Plotly.newPlot(                        \"6bd7541b-7113-4be8-ab0d-b3be524eb47e\",                        [{\"coloraxis\":\"coloraxis\",\"name\":\"0\",\"x\":[\"ZYX\",\"CRK\",\"COL4A2\",\"ITGA3\",\"COL4A1\",\"VEGFC\",\"PDGFRB\",\"FLT1\",\"FLT4\",\"PIP5K1C\",\"ACTN4\",\"TLN1\",\"FLNA\",\"PXN\",\"ILK\",\"PIK3R3\",\"VAV2\",\"RAPGEF1\",\"ITGA5\",\"PDGFA\",\"PDGFB\",\"GRB2\",\"CCND1\",\"PIK3R1\",\"BIRC2\"],\"y\":[\"ZYX\",\"CRK\",\"COL4A2\",\"ITGA3\",\"COL4A1\",\"VEGFC\",\"PDGFRB\",\"FLT1\",\"FLT4\",\"PIP5K1C\",\"ACTN4\",\"TLN1\",\"FLNA\",\"PXN\",\"ILK\",\"PIK3R3\",\"VAV2\",\"RAPGEF1\",\"ITGA5\",\"PDGFA\",\"PDGFB\",\"GRB2\",\"CCND1\",\"PIK3R1\",\"BIRC2\"],\"z\":[[1.0,0.49687250656953696,0.5827531758510243,0.5675785388758375,0.5439658965351211,0.37601517244951105,0.45347496233484436,0.2704859673275657,0.578001517896147,0.4621222206345966,0.4629063494236967,0.5287387613641925,0.6814048526000837,0.28877824125589036,0.4668530073291239,0.32180634920517603,0.3963819218861245,0.6101039056294919,0.5618487741921097,0.44063052900523003,0.35905151695191945,0.3664134382062148,0.7020095807600558,-0.38084606298899654,-0.39461860146228805],[0.49687250656953696,1.0,0.34602199261092526,0.3780764932119629,0.28195649851409754,0.2357589209239703,0.41841546401927654,0.41032909723912003,0.4240707304341738,0.2794474278700306,0.38318263804282593,0.3707580653175665,0.32683424648359527,0.13334086647281349,0.3910569399648967,0.4354171143387315,0.2951054258309716,0.406518427550979,0.38503923882439545,0.2473235644158166,0.27996669692012666,0.3500537704905228,0.3717311015926001,-0.2800874394063237,-0.24439941523105546],[0.5827531758510243,0.34602199261092526,1.0,0.4695706082345036,0.8664450514732541,0.27400241413684695,0.4413914645957187,0.5004296527402762,0.5313597483444809,0.3124845576037185,0.3286656235060566,0.6646952486121264,0.5501171782443033,0.3593940093330104,0.3912917399885258,0.41060513293425793,0.25428180163284747,0.46678886132491976,0.6491865255877933,0.23858493462858746,0.4593937767697492,0.34552992721117715,0.6697347275363502,-0.26460953827955186,-0.3135981208690783],[0.5675785388758375,0.3780764932119629,0.4695706082345036,1.0,0.4488200365986843,0.21268831220480253,0.7585005251529381,0.4036674829242332,0.6226023605252468,0.46138649579666596,0.8099583226129807,0.739920492880533,0.6995715718197048,0.15963891728926835,0.418764912423824,0.21975589903081164,0.6474101894547687,0.4587652257909389,0.3571419324211899,0.5802074112704056,0.25776154896556847,0.2771095291972779,0.5519517244567398,-0.34490751657426255,-0.3252628316287088],[0.5439658965351211,0.28195649851409754,0.8664450514732541,0.4488200365986843,1.0,0.3239647439198357,0.42988646174239203,0.4312200358380613,0.49603213844366556,0.2927008244335125,0.3019782579462493,0.5968274370880484,0.5194666553587796,0.29859722850053955,0.2827744570046908,0.389609159079738,0.22679410485946244,0.3814815574214332,0.5766173312098672,0.2789697721736425,0.5102138029397226,0.1891230643174395,0.6088527873563014,-0.3342114989296221,-0.22151175853423435],[0.37601517244951105,0.2357589209239703,0.27400241413684695,0.21268831220480253,0.3239647439198357,1.0,0.11035154751875523,0.049134731221054384,0.29776335613925736,0.07874368297226843,0.23348236548736023,0.20218067317546995,0.25239250535660046,0.05839985906853036,0.25132426104299005,0.3969316226092197,0.17537588149295918,0.15041333376212015,0.42290827588456276,0.32485565708026615,0.3207964496701954,0.1336282635528881,0.3973548298148631,-0.22352155750145006,-0.06768439875554651],[0.45347496233484436,0.41841546401927654,0.4413914645957187,0.7585005251529381,0.42988646174239203,0.11035154751875523,1.0,0.6531096942778427,0.6310273090566101,0.3269813717152114,0.6348826774276903,0.7028449568032102,0.6298484359001721,0.19896459506290026,0.3845102834024192,0.28758470646041717,0.43595695532528705,0.40521939550450614,0.3562911585097786,0.4522884331268647,0.2226498863568751,0.14822188153458646,0.42645513743248425,-0.14782491479434198,-0.16854538281351533],[0.2704859673275657,0.41032909723912003,0.5004296527402762,0.4036674829242332,0.4312200358380613,0.049134731221054384,0.6531096942778427,1.0,0.5966297817257453,0.18078422911113246,0.37335104180851986,0.5134449472532092,0.2724624927618868,0.21089961376242614,0.3350873905706349,0.5694462051331604,0.19527452248933067,0.48103075023288683,0.4069783423085061,0.08168141343304607,0.22183650258071372,0.17281038087235298,0.37299849731005064,0.03655798569231656,-0.20978681091294554],[0.578001517896147,0.4240707304341738,0.5313597483444809,0.6226023605252468,0.49603213844366556,0.29776335613925736,0.6310273090566101,0.5966297817257453,1.0,0.4184519408394937,0.5940933264249927,0.6744774446325307,0.5431403911746816,0.2452214800269028,0.3961935390866801,0.4596811586533544,0.38237536974027525,0.5949366739674533,0.455860278518113,0.3303623169770126,0.24671751661107963,0.36006948536423605,0.6368547445101911,-0.3160981518850298,-0.26747712714109756],[0.4621222206345966,0.2794474278700306,0.3124845576037185,0.46138649579666596,0.2927008244335125,0.07874368297226843,0.3269813717152114,0.18078422911113246,0.4184519408394937,1.0,0.4099911370564523,0.37096383304668373,0.41280308160687307,0.21000393225023897,0.32095490144492445,0.1395316196452131,0.4441005725909801,0.4964492335093373,0.4494410119367622,0.2865548019244148,0.15213257737603333,0.2183629274219481,0.44201132189870374,-0.3283300286529275,-0.2576900735962389],[0.4629063494236967,0.38318263804282593,0.3286656235060566,0.8099583226129807,0.3019782579462493,0.23348236548736023,0.6348826774276903,0.37335104180851986,0.5940933264249927,0.4099911370564523,1.0,0.6637540936045379,0.5366639363486941,0.053326856665080115,0.4489044895156286,0.21195287192977974,0.5286469759625723,0.37280705387376023,0.23189286301150142,0.46393916502564303,0.2694561545459768,0.2451148517381485,0.4233076471636206,-0.25771868249053653,-0.28616843119551255],[0.5287387613641925,0.3707580653175665,0.6646952486121264,0.739920492880533,0.5968274370880484,0.20218067317546995,0.7028449568032102,0.5134449472532092,0.6744774446325307,0.37096383304668373,0.6637540936045379,1.0,0.7482451857767096,0.23782602395740401,0.4911214841504143,0.3030767904123615,0.45530532106748484,0.5267896520690734,0.4757350428590037,0.3969977322714747,0.30308816156459994,0.3478468440963483,0.5701783277554356,-0.21594635443822713,-0.33317353356911056],[0.6814048526000837,0.32683424648359527,0.5501171782443033,0.6995715718197048,0.5194666553587796,0.25239250535660046,0.6298484359001721,0.2724624927618868,0.5431403911746816,0.41280308160687307,0.5366639363486941,0.7482451857767096,1.0,0.29398105740466274,0.48386958636986915,0.17572277163772435,0.46721671650417534,0.516623664294901,0.4863718695736889,0.5171116317763224,0.3455670663498151,0.23215055620948288,0.5470162827696905,-0.30348274936000924,-0.20843304660793668],[0.28877824125589036,0.13334086647281349,0.3593940093330104,0.15963891728926835,0.29859722850053955,0.05839985906853036,0.19896459506290026,0.21089961376242614,0.2452214800269028,0.21000393225023897,0.053326856665080115,0.23782602395740401,0.29398105740466274,1.0,0.2618723062391484,0.15024769745819402,0.1481110553237527,0.3176978150512012,0.33357806676969465,0.21177456042553666,0.33396793311007417,0.13080665582223217,0.22071971508863983,-0.05834182403715112,-0.1813297059716424],[0.4668530073291239,0.3910569399648967,0.3912917399885258,0.418764912423824,0.2827744570046908,0.25132426104299005,0.3845102834024192,0.3350873905706349,0.3961935390866801,0.32095490144492445,0.4489044895156286,0.4911214841504143,0.48386958636986915,0.2618723062391484,1.0,0.09627709721726571,0.24301721485612007,0.4135563447943422,0.3009086494501414,0.4311017665693503,0.27624150340550774,0.2873548627165285,0.3426878358520444,-0.1849901421113669,-0.40511221892459165],[0.32180634920517603,0.4354171143387315,0.41060513293425793,0.21975589903081164,0.389609159079738,0.3969316226092197,0.28758470646041717,0.5694462051331604,0.4596811586533544,0.1395316196452131,0.21195287192977974,0.3030767904123615,0.17572277163772435,0.15024769745819402,0.09627709721726571,1.0,0.16872217173204657,0.3278998297229864,0.4609091038055036,0.04691273895005194,0.3084763451217968,0.1180685991908667,0.5082160068733853,-0.09011101809537521,-0.12796812575046568],[0.3963819218861245,0.2951054258309716,0.25428180163284747,0.6474101894547687,0.22679410485946244,0.17537588149295918,0.43595695532528705,0.19527452248933067,0.38237536974027525,0.4441005725909801,0.5286469759625723,0.45530532106748484,0.46721671650417534,0.1481110553237527,0.24301721485612007,0.16872217173204657,1.0,0.4984451084952938,0.17095921614136217,0.3844178607164431,0.14784414869545803,0.25289518998495497,0.40668779267809974,-0.3947724211404076,-0.16180031523050392],[0.6101039056294919,0.406518427550979,0.46678886132491976,0.4587652257909389,0.3814815574214332,0.15041333376212015,0.40521939550450614,0.48103075023288683,0.5949366739674533,0.4964492335093373,0.37280705387376023,0.5267896520690734,0.516623664294901,0.3176978150512012,0.4135563447943422,0.3278998297229864,0.4984451084952938,1.0,0.4085331961789947,0.23298041631400826,0.1800544124987739,0.40883032773866695,0.5859470447677886,-0.21024700366991916,-0.2887105106462168],[0.5618487741921097,0.38503923882439545,0.6491865255877933,0.3571419324211899,0.5766173312098672,0.42290827588456276,0.3562911585097786,0.4069783423085061,0.455860278518113,0.4494410119367622,0.23189286301150142,0.4757350428590037,0.4863718695736889,0.33357806676969465,0.3009086494501414,0.4609091038055036,0.17095921614136217,0.4085331961789947,1.0,0.28904058613028283,0.3909187115906403,0.22719727727137867,0.6319330490550489,-0.2595947210971219,-0.2062656877717663],[0.44063052900523003,0.2473235644158166,0.23858493462858746,0.5802074112704056,0.2789697721736425,0.32485565708026615,0.4522884331268647,0.08168141343304607,0.3303623169770126,0.2865548019244148,0.46393916502564303,0.3969977322714747,0.5171116317763224,0.21177456042553666,0.4311017665693503,0.04691273895005194,0.3844178607164431,0.23298041631400826,0.28904058613028283,1.0,0.21314074931360671,0.25614219922069054,0.32356430339110304,-0.37041086139719065,-0.1733004450372811],[0.35905151695191945,0.27996669692012666,0.4593937767697492,0.25776154896556847,0.5102138029397226,0.3207964496701954,0.2226498863568751,0.22183650258071372,0.24671751661107963,0.15213257737603333,0.2694561545459768,0.30308816156459994,0.3455670663498151,0.33396793311007417,0.27624150340550774,0.3084763451217968,0.14784414869545803,0.1800544124987739,0.3909187115906403,0.21314074931360671,1.0,0.17628018846282434,0.3864077219529207,-0.27038318242295356,-0.13997537883730984],[0.3664134382062148,0.3500537704905228,0.34552992721117715,0.2771095291972779,0.1891230643174395,0.1336282635528881,0.14822188153458646,0.17281038087235298,0.36006948536423605,0.2183629274219481,0.2451148517381485,0.3478468440963483,0.23215055620948288,0.13080665582223217,0.2873548627165285,0.1180685991908667,0.25289518998495497,0.40883032773866695,0.22719727727137867,0.25614219922069054,0.17628018846282434,1.0,0.46635506359730194,-0.3213093729617883,-0.3702332301948391],[0.7020095807600558,0.3717311015926001,0.6697347275363502,0.5519517244567398,0.6088527873563014,0.3973548298148631,0.42645513743248425,0.37299849731005064,0.6368547445101911,0.44201132189870374,0.4233076471636206,0.5701783277554356,0.5470162827696905,0.22071971508863983,0.3426878358520444,0.5082160068733853,0.40668779267809974,0.5859470447677886,0.6319330490550489,0.32356430339110304,0.3864077219529207,0.46635506359730194,1.0,-0.40946320098376776,-0.27904373452396786],[-0.38084606298899654,-0.2800874394063237,-0.26460953827955186,-0.34490751657426255,-0.3342114989296221,-0.22352155750145006,-0.14782491479434198,0.03655798569231656,-0.3160981518850298,-0.3283300286529275,-0.25771868249053653,-0.21594635443822713,-0.30348274936000924,-0.05834182403715112,-0.1849901421113669,-0.09011101809537521,-0.3947724211404076,-0.21024700366991916,-0.2595947210971219,-0.37041086139719065,-0.27038318242295356,-0.3213093729617883,-0.40946320098376776,1.0,0.13778174884012445],[-0.39461860146228805,-0.24439941523105546,-0.3135981208690783,-0.3252628316287088,-0.22151175853423435,-0.06768439875554651,-0.16854538281351533,-0.20978681091294554,-0.26747712714109756,-0.2576900735962389,-0.28616843119551255,-0.33317353356911056,-0.20843304660793668,-0.1813297059716424,-0.40511221892459165,-0.12796812575046568,-0.16180031523050392,-0.2887105106462168,-0.2062656877717663,-0.1733004450372811,-0.13997537883730984,-0.3702332301948391,-0.27904373452396786,0.13778174884012445,1.0]],\"type\":\"heatmap\",\"xaxis\":\"x\",\"yaxis\":\"y\",\"hovertemplate\":\"x: %{x}<br>y: %{y}<br>color: %{z}<extra></extra>\"}],                        {\"template\":{\"data\":{\"histogram2dcontour\":[{\"type\":\"histogram2dcontour\",\"colorbar\":{\"outlinewidth\":0,\"ticks\":\"\"},\"colorscale\":[[0.0,\"#0d0887\"],[0.1111111111111111,\"#46039f\"],[0.2222222222222222,\"#7201a8\"],[0.3333333333333333,\"#9c179e\"],[0.4444444444444444,\"#bd3786\"],[0.5555555555555556,\"#d8576b\"],[0.6666666666666666,\"#ed7953\"],[0.7777777777777778,\"#fb9f3a\"],[0.8888888888888888,\"#fdca26\"],[1.0,\"#f0f921\"]]}],\"choropleth\":[{\"type\":\"choropleth\",\"colorbar\":{\"outlinewidth\":0,\"ticks\":\"\"}}],\"histogram2d\":[{\"type\":\"histogram2d\",\"colorbar\":{\"outlinewidth\":0,\"ticks\":\"\"},\"colorscale\":[[0.0,\"#0d0887\"],[0.1111111111111111,\"#46039f\"],[0.2222222222222222,\"#7201a8\"],[0.3333333333333333,\"#9c179e\"],[0.4444444444444444,\"#bd3786\"],[0.5555555555555556,\"#d8576b\"],[0.6666666666666666,\"#ed7953\"],[0.7777777777777778,\"#fb9f3a\"],[0.8888888888888888,\"#fdca26\"],[1.0,\"#f0f921\"]]}],\"heatmap\":[{\"type\":\"heatmap\",\"colorbar\":{\"outlinewidth\":0,\"ticks\":\"\"},\"colorscale\":[[0.0,\"#0d0887\"],[0.1111111111111111,\"#46039f\"],[0.2222222222222222,\"#7201a8\"],[0.3333333333333333,\"#9c179e\"],[0.4444444444444444,\"#bd3786\"],[0.5555555555555556,\"#d8576b\"],[0.6666666666666666,\"#ed7953\"],[0.7777777777777778,\"#fb9f3a\"],[0.8888888888888888,\"#fdca26\"],[1.0,\"#f0f921\"]]}],\"heatmapgl\":[{\"type\":\"heatmapgl\",\"colorbar\":{\"outlinewidth\":0,\"ticks\":\"\"},\"colorscale\":[[0.0,\"#0d0887\"],[0.1111111111111111,\"#46039f\"],[0.2222222222222222,\"#7201a8\"],[0.3333333333333333,\"#9c179e\"],[0.4444444444444444,\"#bd3786\"],[0.5555555555555556,\"#d8576b\"],[0.6666666666666666,\"#ed7953\"],[0.7777777777777778,\"#fb9f3a\"],[0.8888888888888888,\"#fdca26\"],[1.0,\"#f0f921\"]]}],\"contourcarpet\":[{\"type\":\"contourcarpet\",\"colorbar\":{\"outlinewidth\":0,\"ticks\":\"\"}}],\"contour\":[{\"type\":\"contour\",\"colorbar\":{\"outlinewidth\":0,\"ticks\":\"\"},\"colorscale\":[[0.0,\"#0d0887\"],[0.1111111111111111,\"#46039f\"],[0.2222222222222222,\"#7201a8\"],[0.3333333333333333,\"#9c179e\"],[0.4444444444444444,\"#bd3786\"],[0.5555555555555556,\"#d8576b\"],[0.6666666666666666,\"#ed7953\"],[0.7777777777777778,\"#fb9f3a\"],[0.8888888888888888,\"#fdca26\"],[1.0,\"#f0f921\"]]}],\"surface\":[{\"type\":\"surface\",\"colorbar\":{\"outlinewidth\":0,\"ticks\":\"\"},\"colorscale\":[[0.0,\"#0d0887\"],[0.1111111111111111,\"#46039f\"],[0.2222222222222222,\"#7201a8\"],[0.3333333333333333,\"#9c179e\"],[0.4444444444444444,\"#bd3786\"],[0.5555555555555556,\"#d8576b\"],[0.6666666666666666,\"#ed7953\"],[0.7777777777777778,\"#fb9f3a\"],[0.8888888888888888,\"#fdca26\"],[1.0,\"#f0f921\"]]}],\"mesh3d\":[{\"type\":\"mesh3d\",\"colorbar\":{\"outlinewidth\":0,\"ticks\":\"\"}}],\"scatter\":[{\"fillpattern\":{\"fillmode\":\"overlay\",\"size\":10,\"solidity\":0.2},\"type\":\"scatter\"}],\"parcoords\":[{\"type\":\"parcoords\",\"line\":{\"colorbar\":{\"outlinewidth\":0,\"ticks\":\"\"}}}],\"scatterpolargl\":[{\"type\":\"scatterpolargl\",\"marker\":{\"colorbar\":{\"outlinewidth\":0,\"ticks\":\"\"}}}],\"bar\":[{\"error_x\":{\"color\":\"#2a3f5f\"},\"error_y\":{\"color\":\"#2a3f5f\"},\"marker\":{\"line\":{\"color\":\"#E5ECF6\",\"width\":0.5},\"pattern\":{\"fillmode\":\"overlay\",\"size\":10,\"solidity\":0.2}},\"type\":\"bar\"}],\"scattergeo\":[{\"type\":\"scattergeo\",\"marker\":{\"colorbar\":{\"outlinewidth\":0,\"ticks\":\"\"}}}],\"scatterpolar\":[{\"type\":\"scatterpolar\",\"marker\":{\"colorbar\":{\"outlinewidth\":0,\"ticks\":\"\"}}}],\"histogram\":[{\"marker\":{\"pattern\":{\"fillmode\":\"overlay\",\"size\":10,\"solidity\":0.2}},\"type\":\"histogram\"}],\"scattergl\":[{\"type\":\"scattergl\",\"marker\":{\"colorbar\":{\"outlinewidth\":0,\"ticks\":\"\"}}}],\"scatter3d\":[{\"type\":\"scatter3d\",\"line\":{\"colorbar\":{\"outlinewidth\":0,\"ticks\":\"\"}},\"marker\":{\"colorbar\":{\"outlinewidth\":0,\"ticks\":\"\"}}}],\"scattermapbox\":[{\"type\":\"scattermapbox\",\"marker\":{\"colorbar\":{\"outlinewidth\":0,\"ticks\":\"\"}}}],\"scatterternary\":[{\"type\":\"scatterternary\",\"marker\":{\"colorbar\":{\"outlinewidth\":0,\"ticks\":\"\"}}}],\"scattercarpet\":[{\"type\":\"scattercarpet\",\"marker\":{\"colorbar\":{\"outlinewidth\":0,\"ticks\":\"\"}}}],\"carpet\":[{\"aaxis\":{\"endlinecolor\":\"#2a3f5f\",\"gridcolor\":\"white\",\"linecolor\":\"white\",\"minorgridcolor\":\"white\",\"startlinecolor\":\"#2a3f5f\"},\"baxis\":{\"endlinecolor\":\"#2a3f5f\",\"gridcolor\":\"white\",\"linecolor\":\"white\",\"minorgridcolor\":\"white\",\"startlinecolor\":\"#2a3f5f\"},\"type\":\"carpet\"}],\"table\":[{\"cells\":{\"fill\":{\"color\":\"#EBF0F8\"},\"line\":{\"color\":\"white\"}},\"header\":{\"fill\":{\"color\":\"#C8D4E3\"},\"line\":{\"color\":\"white\"}},\"type\":\"table\"}],\"barpolar\":[{\"marker\":{\"line\":{\"color\":\"#E5ECF6\",\"width\":0.5},\"pattern\":{\"fillmode\":\"overlay\",\"size\":10,\"solidity\":0.2}},\"type\":\"barpolar\"}],\"pie\":[{\"automargin\":true,\"type\":\"pie\"}]},\"layout\":{\"autotypenumbers\":\"strict\",\"colorway\":[\"#636efa\",\"#EF553B\",\"#00cc96\",\"#ab63fa\",\"#FFA15A\",\"#19d3f3\",\"#FF6692\",\"#B6E880\",\"#FF97FF\",\"#FECB52\"],\"font\":{\"color\":\"#2a3f5f\"},\"hovermode\":\"closest\",\"hoverlabel\":{\"align\":\"left\"},\"paper_bgcolor\":\"white\",\"plot_bgcolor\":\"#E5ECF6\",\"polar\":{\"bgcolor\":\"#E5ECF6\",\"angularaxis\":{\"gridcolor\":\"white\",\"linecolor\":\"white\",\"ticks\":\"\"},\"radialaxis\":{\"gridcolor\":\"white\",\"linecolor\":\"white\",\"ticks\":\"\"}},\"ternary\":{\"bgcolor\":\"#E5ECF6\",\"aaxis\":{\"gridcolor\":\"white\",\"linecolor\":\"white\",\"ticks\":\"\"},\"baxis\":{\"gridcolor\":\"white\",\"linecolor\":\"white\",\"ticks\":\"\"},\"caxis\":{\"gridcolor\":\"white\",\"linecolor\":\"white\",\"ticks\":\"\"}},\"coloraxis\":{\"colorbar\":{\"outlinewidth\":0,\"ticks\":\"\"}},\"colorscale\":{\"sequential\":[[0.0,\"#0d0887\"],[0.1111111111111111,\"#46039f\"],[0.2222222222222222,\"#7201a8\"],[0.3333333333333333,\"#9c179e\"],[0.4444444444444444,\"#bd3786\"],[0.5555555555555556,\"#d8576b\"],[0.6666666666666666,\"#ed7953\"],[0.7777777777777778,\"#fb9f3a\"],[0.8888888888888888,\"#fdca26\"],[1.0,\"#f0f921\"]],\"sequentialminus\":[[0.0,\"#0d0887\"],[0.1111111111111111,\"#46039f\"],[0.2222222222222222,\"#7201a8\"],[0.3333333333333333,\"#9c179e\"],[0.4444444444444444,\"#bd3786\"],[0.5555555555555556,\"#d8576b\"],[0.6666666666666666,\"#ed7953\"],[0.7777777777777778,\"#fb9f3a\"],[0.8888888888888888,\"#fdca26\"],[1.0,\"#f0f921\"]],\"diverging\":[[0,\"#8e0152\"],[0.1,\"#c51b7d\"],[0.2,\"#de77ae\"],[0.3,\"#f1b6da\"],[0.4,\"#fde0ef\"],[0.5,\"#f7f7f7\"],[0.6,\"#e6f5d0\"],[0.7,\"#b8e186\"],[0.8,\"#7fbc41\"],[0.9,\"#4d9221\"],[1,\"#276419\"]]},\"xaxis\":{\"gridcolor\":\"white\",\"linecolor\":\"white\",\"ticks\":\"\",\"title\":{\"standoff\":15},\"zerolinecolor\":\"white\",\"automargin\":true,\"zerolinewidth\":2},\"yaxis\":{\"gridcolor\":\"white\",\"linecolor\":\"white\",\"ticks\":\"\",\"title\":{\"standoff\":15},\"zerolinecolor\":\"white\",\"automargin\":true,\"zerolinewidth\":2},\"scene\":{\"xaxis\":{\"backgroundcolor\":\"#E5ECF6\",\"gridcolor\":\"white\",\"linecolor\":\"white\",\"showbackground\":true,\"ticks\":\"\",\"zerolinecolor\":\"white\",\"gridwidth\":2},\"yaxis\":{\"backgroundcolor\":\"#E5ECF6\",\"gridcolor\":\"white\",\"linecolor\":\"white\",\"showbackground\":true,\"ticks\":\"\",\"zerolinecolor\":\"white\",\"gridwidth\":2},\"zaxis\":{\"backgroundcolor\":\"#E5ECF6\",\"gridcolor\":\"white\",\"linecolor\":\"white\",\"showbackground\":true,\"ticks\":\"\",\"zerolinecolor\":\"white\",\"gridwidth\":2}},\"shapedefaults\":{\"line\":{\"color\":\"#2a3f5f\"}},\"annotationdefaults\":{\"arrowcolor\":\"#2a3f5f\",\"arrowhead\":0,\"arrowwidth\":1},\"geo\":{\"bgcolor\":\"white\",\"landcolor\":\"#E5ECF6\",\"subunitcolor\":\"white\",\"showland\":true,\"showlakes\":true,\"lakecolor\":\"white\"},\"title\":{\"x\":0.05},\"mapbox\":{\"style\":\"light\"}}},\"xaxis\":{\"anchor\":\"y\",\"domain\":[0.0,1.0],\"scaleanchor\":\"y\",\"constrain\":\"domain\"},\"yaxis\":{\"anchor\":\"x\",\"domain\":[0.0,1.0],\"autorange\":\"reversed\",\"constrain\":\"domain\"},\"coloraxis\":{\"colorscale\":[[0.0,\"#0d0887\"],[0.1111111111111111,\"#46039f\"],[0.2222222222222222,\"#7201a8\"],[0.3333333333333333,\"#9c179e\"],[0.4444444444444444,\"#bd3786\"],[0.5555555555555556,\"#d8576b\"],[0.6666666666666666,\"#ed7953\"],[0.7777777777777778,\"#fb9f3a\"],[0.8888888888888888,\"#fdca26\"],[1.0,\"#f0f921\"]]},\"margin\":{\"t\":60}},                        {\"responsive\": true}                    ).then(function(){\n",
       "                            \n",
       "var gd = document.getElementById('6bd7541b-7113-4be8-ab0d-b3be524eb47e');\n",
       "var x = new MutationObserver(function (mutations, observer) {{\n",
       "        var display = window.getComputedStyle(gd).display;\n",
       "        if (!display || display === 'none') {{\n",
       "            console.log([gd, 'removed!']);\n",
       "            Plotly.purge(gd);\n",
       "            observer.disconnect();\n",
       "        }}\n",
       "}});\n",
       "\n",
       "// Listen for the removal of the full notebook cells\n",
       "var notebookContainer = gd.closest('#notebook-container');\n",
       "if (notebookContainer) {{\n",
       "    x.observe(notebookContainer, {childList: true});\n",
       "}}\n",
       "\n",
       "// Listen for the clearing of the current output cell\n",
       "var outputEl = gd.closest('.output');\n",
       "if (outputEl) {{\n",
       "    x.observe(outputEl, {childList: true});\n",
       "}}\n",
       "\n",
       "                        })                };                });            </script>        </div>"
      ]
     },
     "metadata": {},
     "output_type": "display_data"
    }
   ],
   "source": [
    "#df = px.data.genename_drop(indexed=True)\n",
    "fig = px.imshow(genename_drop_corr)\n",
    "fig.show()"
   ]
  },
  {
   "cell_type": "code",
   "execution_count": 87,
   "id": "7a455acf",
   "metadata": {},
   "outputs": [
    {
     "data": {
      "text/plain": [
       "Index(['Unnamed: 0', 'ZYX', 'CRK', 'COL4A2', 'ITGA3', 'COL4A1', 'VEGFC',\n",
       "       'PDGFRB', 'FLT1', 'FLT4', 'PIP5K1C', 'ACTN4', 'TLN1', 'FLNA', 'PXN',\n",
       "       'ILK', 'PIK3R3', 'VAV2', 'RAPGEF1', 'ITGA5', 'PDGFA', 'PDGFB', 'GRB2',\n",
       "       'CCND1', 'PIK3R1', 'BIRC2', 'Disease', 'ID', 'Disease2', 'Nephrotic'],\n",
       "      dtype='object')"
      ]
     },
     "execution_count": 87,
     "metadata": {},
     "output_type": "execute_result"
    }
   ],
   "source": [
    "genename.columns"
   ]
  },
  {
   "cell_type": "code",
   "execution_count": 88,
   "id": "fcfc1111",
   "metadata": {},
   "outputs": [],
   "source": [
    "genename_drop_gather = genename.melt(id_vars = ['Disease', 'ID', 'Disease2', 'Nephrotic', 'Unnamed: 0'],\n",
    "                  value_vars = ['ZYX', 'CRK', 'COL4A2', 'ITGA3', 'COL4A1', 'VEGFC',\n",
    "       'PDGFRB', 'FLT1', 'FLT4', 'PIP5K1C', 'ACTN4', 'TLN1', 'FLNA', 'PXN',\n",
    "       'ILK', 'PIK3R3', 'VAV2', 'RAPGEF1', 'ITGA5', 'PDGFA', 'PDGFB', 'GRB2',\n",
    "       'CCND1', 'PIK3R1', 'BIRC2'],\n",
    "                  var_name = \"Protein names\", \n",
    "                  value_name = \"Expression level\")"
   ]
  },
  {
   "cell_type": "code",
   "execution_count": 89,
   "id": "7e028d10",
   "metadata": {},
   "outputs": [
    {
     "data": {
      "text/html": [
       "<div>\n",
       "<style scoped>\n",
       "    .dataframe tbody tr th:only-of-type {\n",
       "        vertical-align: middle;\n",
       "    }\n",
       "\n",
       "    .dataframe tbody tr th {\n",
       "        vertical-align: top;\n",
       "    }\n",
       "\n",
       "    .dataframe thead th {\n",
       "        text-align: right;\n",
       "    }\n",
       "</style>\n",
       "<table border=\"1\" class=\"dataframe\">\n",
       "  <thead>\n",
       "    <tr style=\"text-align: right;\">\n",
       "      <th></th>\n",
       "      <th>Disease</th>\n",
       "      <th>ID</th>\n",
       "      <th>Disease2</th>\n",
       "      <th>Nephrotic</th>\n",
       "      <th>Unnamed: 0</th>\n",
       "      <th>Protein names</th>\n",
       "      <th>Expression level</th>\n",
       "    </tr>\n",
       "  </thead>\n",
       "  <tbody>\n",
       "    <tr>\n",
       "      <th>0</th>\n",
       "      <td>Glomerular</td>\n",
       "      <td>94</td>\n",
       "      <td>MN</td>\n",
       "      <td>1</td>\n",
       "      <td>1</td>\n",
       "      <td>ZYX</td>\n",
       "      <td>6.616270</td>\n",
       "    </tr>\n",
       "    <tr>\n",
       "      <th>1</th>\n",
       "      <td>Glomerular</td>\n",
       "      <td>81</td>\n",
       "      <td>FSGS</td>\n",
       "      <td>1</td>\n",
       "      <td>2</td>\n",
       "      <td>ZYX</td>\n",
       "      <td>7.001047</td>\n",
       "    </tr>\n",
       "    <tr>\n",
       "      <th>2</th>\n",
       "      <td>Glomerular</td>\n",
       "      <td>133</td>\n",
       "      <td>MN</td>\n",
       "      <td>1</td>\n",
       "      <td>3</td>\n",
       "      <td>ZYX</td>\n",
       "      <td>6.628755</td>\n",
       "    </tr>\n",
       "    <tr>\n",
       "      <th>3</th>\n",
       "      <td>Glomerular</td>\n",
       "      <td>102</td>\n",
       "      <td>MN</td>\n",
       "      <td>1</td>\n",
       "      <td>4</td>\n",
       "      <td>ZYX</td>\n",
       "      <td>6.984691</td>\n",
       "    </tr>\n",
       "    <tr>\n",
       "      <th>4</th>\n",
       "      <td>Glomerular</td>\n",
       "      <td>82</td>\n",
       "      <td>FSGS</td>\n",
       "      <td>1</td>\n",
       "      <td>5</td>\n",
       "      <td>ZYX</td>\n",
       "      <td>6.714409</td>\n",
       "    </tr>\n",
       "    <tr>\n",
       "      <th>...</th>\n",
       "      <td>...</td>\n",
       "      <td>...</td>\n",
       "      <td>...</td>\n",
       "      <td>...</td>\n",
       "      <td>...</td>\n",
       "      <td>...</td>\n",
       "      <td>...</td>\n",
       "    </tr>\n",
       "    <tr>\n",
       "      <th>2670</th>\n",
       "      <td>Glomerular</td>\n",
       "      <td>6</td>\n",
       "      <td>MCD</td>\n",
       "      <td>1</td>\n",
       "      <td>103</td>\n",
       "      <td>BIRC2</td>\n",
       "      <td>6.514003</td>\n",
       "    </tr>\n",
       "    <tr>\n",
       "      <th>2671</th>\n",
       "      <td>Glomerular</td>\n",
       "      <td>567</td>\n",
       "      <td>MN</td>\n",
       "      <td>1</td>\n",
       "      <td>104</td>\n",
       "      <td>BIRC2</td>\n",
       "      <td>6.369455</td>\n",
       "    </tr>\n",
       "    <tr>\n",
       "      <th>2672</th>\n",
       "      <td>Glomerular</td>\n",
       "      <td>571</td>\n",
       "      <td>MN</td>\n",
       "      <td>1</td>\n",
       "      <td>105</td>\n",
       "      <td>BIRC2</td>\n",
       "      <td>6.349480</td>\n",
       "    </tr>\n",
       "    <tr>\n",
       "      <th>2673</th>\n",
       "      <td>Glomerular</td>\n",
       "      <td>569</td>\n",
       "      <td>MN</td>\n",
       "      <td>1</td>\n",
       "      <td>106</td>\n",
       "      <td>BIRC2</td>\n",
       "      <td>5.519994</td>\n",
       "    </tr>\n",
       "    <tr>\n",
       "      <th>2674</th>\n",
       "      <td>Glomerular</td>\n",
       "      <td>566</td>\n",
       "      <td>MN</td>\n",
       "      <td>1</td>\n",
       "      <td>107</td>\n",
       "      <td>BIRC2</td>\n",
       "      <td>6.312586</td>\n",
       "    </tr>\n",
       "  </tbody>\n",
       "</table>\n",
       "<p>2675 rows × 7 columns</p>\n",
       "</div>"
      ],
      "text/plain": [
       "         Disease   ID Disease2  Nephrotic  Unnamed: 0 Protein names  \\\n",
       "0     Glomerular   94       MN          1           1           ZYX   \n",
       "1     Glomerular   81     FSGS          1           2           ZYX   \n",
       "2     Glomerular  133       MN          1           3           ZYX   \n",
       "3     Glomerular  102       MN          1           4           ZYX   \n",
       "4     Glomerular   82     FSGS          1           5           ZYX   \n",
       "...          ...  ...      ...        ...         ...           ...   \n",
       "2670  Glomerular    6      MCD          1         103         BIRC2   \n",
       "2671  Glomerular  567       MN          1         104         BIRC2   \n",
       "2672  Glomerular  571       MN          1         105         BIRC2   \n",
       "2673  Glomerular  569       MN          1         106         BIRC2   \n",
       "2674  Glomerular  566       MN          1         107         BIRC2   \n",
       "\n",
       "      Expression level  \n",
       "0             6.616270  \n",
       "1             7.001047  \n",
       "2             6.628755  \n",
       "3             6.984691  \n",
       "4             6.714409  \n",
       "...                ...  \n",
       "2670          6.514003  \n",
       "2671          6.369455  \n",
       "2672          6.349480  \n",
       "2673          5.519994  \n",
       "2674          6.312586  \n",
       "\n",
       "[2675 rows x 7 columns]"
      ]
     },
     "execution_count": 89,
     "metadata": {},
     "output_type": "execute_result"
    }
   ],
   "source": [
    "genename_drop_gather"
   ]
  },
  {
   "cell_type": "code",
   "execution_count": null,
   "id": "b19d8c45",
   "metadata": {},
   "outputs": [],
   "source": [
    "\n"
   ]
  },
  {
   "cell_type": "code",
   "execution_count": 90,
   "id": "59a98733",
   "metadata": {},
   "outputs": [
    {
     "data": {
      "text/plain": [
       "(array([ 0,  1,  2,  3,  4,  5,  6,  7,  8,  9, 10, 11, 12, 13, 14, 15, 16,\n",
       "        17, 18, 19, 20, 21, 22, 23, 24]),\n",
       " [Text(0, 0, 'ZYX'),\n",
       "  Text(1, 0, 'CRK'),\n",
       "  Text(2, 0, 'COL4A2'),\n",
       "  Text(3, 0, 'ITGA3'),\n",
       "  Text(4, 0, 'COL4A1'),\n",
       "  Text(5, 0, 'VEGFC'),\n",
       "  Text(6, 0, 'PDGFRB'),\n",
       "  Text(7, 0, 'FLT1'),\n",
       "  Text(8, 0, 'FLT4'),\n",
       "  Text(9, 0, 'PIP5K1C'),\n",
       "  Text(10, 0, 'ACTN4'),\n",
       "  Text(11, 0, 'TLN1'),\n",
       "  Text(12, 0, 'FLNA'),\n",
       "  Text(13, 0, 'PXN'),\n",
       "  Text(14, 0, 'ILK'),\n",
       "  Text(15, 0, 'PIK3R3'),\n",
       "  Text(16, 0, 'VAV2'),\n",
       "  Text(17, 0, 'RAPGEF1'),\n",
       "  Text(18, 0, 'ITGA5'),\n",
       "  Text(19, 0, 'PDGFA'),\n",
       "  Text(20, 0, 'PDGFB'),\n",
       "  Text(21, 0, 'GRB2'),\n",
       "  Text(22, 0, 'CCND1'),\n",
       "  Text(23, 0, 'PIK3R1'),\n",
       "  Text(24, 0, 'BIRC2')])"
      ]
     },
     "execution_count": 90,
     "metadata": {},
     "output_type": "execute_result"
    },
    {
     "data": {
      "image/png": "[encoded data removed]",
      "text/plain": [
       "<Figure size 432x288 with 1 Axes>"
      ]
     },
     "metadata": {
      "needs_background": "light"
     },
     "output_type": "display_data"
    }
   ],
   "source": [
    "sns.violinplot(x='Protein names', y='Expression level', hue='Nephrotic', data=genename_drop_gather, split=True)\n",
    "plt.xticks(rotation='vertical')\n"
   ]
  },
  {
   "cell_type": "code",
   "execution_count": 91,
   "id": "96180e46",
   "metadata": {},
   "outputs": [
    {
     "name": "stdout",
     "output_type": "stream",
     "text": [
      "Requirement already satisfied: imblearn in c:\\users\\liden\\anaconda3\\envs\\uncg\\lib\\site-packages (0.0)\n",
      "Requirement already satisfied: imbalanced-learn in c:\\users\\liden\\anaconda3\\envs\\uncg\\lib\\site-packages (from imblearn) (0.9.1)\n",
      "Requirement already satisfied: threadpoolctl>=2.0.0 in c:\\users\\liden\\anaconda3\\envs\\uncg\\lib\\site-packages (from imbalanced-learn->imblearn) (2.2.0)\n",
      "Requirement already satisfied: scipy>=1.3.2 in c:\\users\\liden\\anaconda3\\envs\\uncg\\lib\\site-packages (from imbalanced-learn->imblearn) (1.7.1)\n",
      "Requirement already satisfied: numpy>=1.17.3 in c:\\users\\liden\\anaconda3\\envs\\uncg\\lib\\site-packages (from imbalanced-learn->imblearn) (1.21.2)\n",
      "Requirement already satisfied: scikit-learn>=1.1.0 in c:\\users\\liden\\anaconda3\\envs\\uncg\\lib\\site-packages (from imbalanced-learn->imblearn) (1.1.2)\n",
      "Requirement already satisfied: joblib>=1.0.0 in c:\\users\\liden\\anaconda3\\envs\\uncg\\lib\\site-packages (from imbalanced-learn->imblearn) (1.0.1)\n",
      "Note: you may need to restart the kernel to use updated packages.\n"
     ]
    }
   ],
   "source": [
    "pip install imblearn"
   ]
  },
  {
   "cell_type": "code",
   "execution_count": null,
   "id": "898fbcaf",
   "metadata": {},
   "outputs": [],
   "source": []
  },
  {
   "cell_type": "code",
   "execution_count": 92,
   "id": "f5ce97e3",
   "metadata": {},
   "outputs": [
    {
     "data": {
      "text/plain": [
       "Index(['Unnamed: 0', 'ZYX', 'CRK', 'COL4A2', 'ITGA3', 'COL4A1', 'VEGFC',\n",
       "       'PDGFRB', 'FLT1', 'FLT4', 'PIP5K1C', 'ACTN4', 'TLN1', 'FLNA', 'PXN',\n",
       "       'ILK', 'PIK3R3', 'VAV2', 'RAPGEF1', 'ITGA5', 'PDGFA', 'PDGFB', 'GRB2',\n",
       "       'CCND1', 'PIK3R1', 'BIRC2', 'Disease', 'ID', 'Disease2', 'Nephrotic'],\n",
       "      dtype='object')"
      ]
     },
     "execution_count": 92,
     "metadata": {},
     "output_type": "execute_result"
    }
   ],
   "source": [
    "genename.columns"
   ]
  },
  {
   "cell_type": "code",
   "execution_count": 93,
   "id": "15813238",
   "metadata": {},
   "outputs": [],
   "source": [
    "feature_names=['ZYX', 'CRK', 'COL4A2', 'ITGA3', 'COL4A1', 'VEGFC',\n",
    "       'PDGFRB', 'FLT1', 'FLT4', 'PIP5K1C', 'ACTN4', 'TLN1', 'FLNA', 'PXN',\n",
    "       'ILK', 'PIK3R3', 'VAV2', 'RAPGEF1', 'ITGA5', 'PDGFA', 'PDGFB', 'GRB2',\n",
    "       'CCND1', 'PIK3R1', 'BIRC2']\n",
    "X = pd.DataFrame(genename, columns=feature_names)\n",
    "y = genename.Nephrotic\n",
    "X_train, X_test, y_train, y_test = train_test_split(X, y, test_size=0.25, random_state=12)\n"
   ]
  },
  {
   "cell_type": "code",
   "execution_count": null,
   "id": "d9064a31",
   "metadata": {},
   "outputs": [],
   "source": []
  },
  {
   "cell_type": "code",
   "execution_count": 94,
   "id": "3eb3c3a7",
   "metadata": {},
   "outputs": [
    {
     "name": "stdout",
     "output_type": "stream",
     "text": [
      "X_train Shape: (80, 25)\n",
      "X_test Shape: (27, 25)\n",
      "y_train Shape: (80,)\n",
      "y_test Shape: (27,)\n"
     ]
    }
   ],
   "source": [
    "print('X_train Shape:', X_train.shape)\n",
    "print('X_test Shape:', X_test.shape)\n",
    "print('y_train Shape:', y_train.shape)\n",
    "print('y_test Shape:', y_test.shape)"
   ]
  },
  {
   "cell_type": "code",
   "execution_count": null,
   "id": "121230f5",
   "metadata": {},
   "outputs": [],
   "source": [
    "\n",
    "\n",
    "\n"
   ]
  },
  {
   "cell_type": "code",
   "execution_count": 95,
   "id": "2376b9ee",
   "metadata": {},
   "outputs": [],
   "source": [
    "import random\n",
    "random.seed(123)"
   ]
  },
  {
   "cell_type": "code",
   "execution_count": 96,
   "id": "afd8d6b7",
   "metadata": {},
   "outputs": [],
   "source": [
    "model = RandomForestClassifier(class_weight='balanced',random_state=12)"
   ]
  },
  {
   "cell_type": "code",
   "execution_count": 97,
   "id": "7fc1d20b",
   "metadata": {},
   "outputs": [
    {
     "data": {
      "text/html": [
       "<style>#sk-container-id-5 {color: black;background-color: white;}#sk-container-id-5 pre{padding: 0;}#sk-container-id-5 div.sk-toggleable {background-color: white;}#sk-container-id-5 label.sk-toggleable__label {cursor: pointer;display: block;width: 100%;margin-bottom: 0;padding: 0.3em;box-sizing: border-box;text-align: center;}#sk-container-id-5 label.sk-toggleable__label-arrow:before {content: \"▸\";float: left;margin-right: 0.25em;color: #696969;}#sk-container-id-5 label.sk-toggleable__label-arrow:hover:before {color: black;}#sk-container-id-5 div.sk-estimator:hover label.sk-toggleable__label-arrow:before {color: black;}#sk-container-id-5 div.sk-toggleable__content {max-height: 0;max-width: 0;overflow: hidden;text-align: left;background-color: #f0f8ff;}#sk-container-id-5 div.sk-toggleable__content pre {margin: 0.2em;color: black;border-radius: 0.25em;background-color: #f0f8ff;}#sk-container-id-5 input.sk-toggleable__control:checked~div.sk-toggleable__content {max-height: 200px;max-width: 100%;overflow: auto;}#sk-container-id-5 input.sk-toggleable__control:checked~label.sk-toggleable__label-arrow:before {content: \"▾\";}#sk-container-id-5 div.sk-estimator input.sk-toggleable__control:checked~label.sk-toggleable__label {background-color: #d4ebff;}#sk-container-id-5 div.sk-label input.sk-toggleable__control:checked~label.sk-toggleable__label {background-color: #d4ebff;}#sk-container-id-5 input.sk-hidden--visually {border: 0;clip: rect(1px 1px 1px 1px);clip: rect(1px, 1px, 1px, 1px);height: 1px;margin: -1px;overflow: hidden;padding: 0;position: absolute;width: 1px;}#sk-container-id-5 div.sk-estimator {font-family: monospace;background-color: #f0f8ff;border: 1px dotted black;border-radius: 0.25em;box-sizing: border-box;margin-bottom: 0.5em;}#sk-container-id-5 div.sk-estimator:hover {background-color: #d4ebff;}#sk-container-id-5 div.sk-parallel-item::after {content: \"\";width: 100%;border-bottom: 1px solid gray;flex-grow: 1;}#sk-container-id-5 div.sk-label:hover label.sk-toggleable__label {background-color: #d4ebff;}#sk-container-id-5 div.sk-serial::before {content: \"\";position: absolute;border-left: 1px solid gray;box-sizing: border-box;top: 0;bottom: 0;left: 50%;z-index: 0;}#sk-container-id-5 div.sk-serial {display: flex;flex-direction: column;align-items: center;background-color: white;padding-right: 0.2em;padding-left: 0.2em;position: relative;}#sk-container-id-5 div.sk-item {position: relative;z-index: 1;}#sk-container-id-5 div.sk-parallel {display: flex;align-items: stretch;justify-content: center;background-color: white;position: relative;}#sk-container-id-5 div.sk-item::before, #sk-container-id-5 div.sk-parallel-item::before {content: \"\";position: absolute;border-left: 1px solid gray;box-sizing: border-box;top: 0;bottom: 0;left: 50%;z-index: -1;}#sk-container-id-5 div.sk-parallel-item {display: flex;flex-direction: column;z-index: 1;position: relative;background-color: white;}#sk-container-id-5 div.sk-parallel-item:first-child::after {align-self: flex-end;width: 50%;}#sk-container-id-5 div.sk-parallel-item:last-child::after {align-self: flex-start;width: 50%;}#sk-container-id-5 div.sk-parallel-item:only-child::after {width: 0;}#sk-container-id-5 div.sk-dashed-wrapped {border: 1px dashed gray;margin: 0 0.4em 0.5em 0.4em;box-sizing: border-box;padding-bottom: 0.4em;background-color: white;}#sk-container-id-5 div.sk-label label {font-family: monospace;font-weight: bold;display: inline-block;line-height: 1.2em;}#sk-container-id-5 div.sk-label-container {text-align: center;}#sk-container-id-5 div.sk-container {/* jupyter's `normalize.less` sets `[hidden] { display: none; }` but bootstrap.min.css set `[hidden] { display: none !important; }` so we also need the `!important` here to be able to override the default hidden behavior on the sphinx rendered scikit-learn.org. See: https://github.com/scikit-learn/scikit-learn/issues/21755 */display: inline-block !important;position: relative;}#sk-container-id-5 div.sk-text-repr-fallback {display: none;}</style><div id=\"sk-container-id-5\" class=\"sk-top-container\"><div class=\"sk-text-repr-fallback\"><pre>RandomForestClassifier(class_weight=&#x27;balanced&#x27;, random_state=12)</pre><b>In a Jupyter environment, please rerun this cell to show the HTML representation or trust the notebook. <br />On GitHub, the HTML representation is unable to render, please try loading this page with nbviewer.org.</b></div><div class=\"sk-container\" hidden><div class=\"sk-item\"><div class=\"sk-estimator sk-toggleable\"><input class=\"sk-toggleable__control sk-hidden--visually\" id=\"sk-estimator-id-5\" type=\"checkbox\" checked><label for=\"sk-estimator-id-5\" class=\"sk-toggleable__label sk-toggleable__label-arrow\">RandomForestClassifier</label><div class=\"sk-toggleable__content\"><pre>RandomForestClassifier(class_weight=&#x27;balanced&#x27;, random_state=12)</pre></div></div></div></div></div>"
      ],
      "text/plain": [
       "RandomForestClassifier(class_weight='balanced', random_state=12)"
      ]
     },
     "execution_count": 97,
     "metadata": {},
     "output_type": "execute_result"
    }
   ],
   "source": [
    "model.fit(X_train, y_train)"
   ]
  },
  {
   "cell_type": "code",
   "execution_count": 98,
   "id": "e0d2f66e",
   "metadata": {},
   "outputs": [
    {
     "data": {
      "text/plain": [
       "array([1.72216277e-01, 1.18873068e-01, 6.81022416e-02, 1.05605436e-01,\n",
       "       2.02499216e-02, 2.41148027e-02, 2.91390882e-02, 8.97435897e-03,\n",
       "       9.34314574e-03, 1.00000000e-02, 5.67641499e-02, 8.70543332e-02,\n",
       "       2.35076837e-03, 1.84537070e-17, 3.07738375e-02, 3.35832740e-03,\n",
       "       4.80903484e-02, 2.04096107e-02, 8.15461099e-02, 2.00000000e-02,\n",
       "       9.61038961e-03, 3.26068520e-03, 2.96555219e-02, 2.98157022e-02,\n",
       "       1.06918754e-02])"
      ]
     },
     "execution_count": 98,
     "metadata": {},
     "output_type": "execute_result"
    }
   ],
   "source": [
    "model.feature_importances_"
   ]
  },
  {
   "cell_type": "code",
   "execution_count": 99,
   "id": "de25b020",
   "metadata": {},
   "outputs": [],
   "source": [
    "#feature_scores = pd.Series(model.feature_importances_, index=X_train.columns).sort_values(ascending=True)"
   ]
  },
  {
   "cell_type": "code",
   "execution_count": 100,
   "id": "34c4c977",
   "metadata": {},
   "outputs": [],
   "source": [
    "#feature_scores"
   ]
  },
  {
   "cell_type": "code",
   "execution_count": 101,
   "id": "de49396c",
   "metadata": {},
   "outputs": [
    {
     "data": {
      "text/plain": [
       "Text(0.5, 1.0, 'focal_adhesion gene feature importance ranking')"
      ]
     },
     "execution_count": 101,
     "metadata": {},
     "output_type": "execute_result"
    },
    {
     "data": {
      "image/png": "[encoded data removed]",
      "text/plain": [
       "<Figure size 432x288 with 1 Axes>"
      ]
     },
     "metadata": {
      "needs_background": "light"
     },
     "output_type": "display_data"
    }
   ],
   "source": [
    "plt.barh(feature_names, model.feature_importances_)\n",
    "plt.xlabel(\"Feature importance score\")\n",
    "plt.title(\"focal_adhesion gene feature importance ranking\")"
   ]
  },
  {
   "cell_type": "code",
   "execution_count": 102,
   "id": "2a805545",
   "metadata": {},
   "outputs": [
    {
     "data": {
      "text/plain": [
       "ZYX        1.722163e-01\n",
       "CRK        1.188731e-01\n",
       "ITGA3      1.056054e-01\n",
       "TLN1       8.705433e-02\n",
       "ITGA5      8.154611e-02\n",
       "COL4A2     6.810224e-02\n",
       "ACTN4      5.676415e-02\n",
       "VAV2       4.809035e-02\n",
       "ILK        3.077384e-02\n",
       "PIK3R1     2.981570e-02\n",
       "CCND1      2.965552e-02\n",
       "PDGFRB     2.913909e-02\n",
       "VEGFC      2.411480e-02\n",
       "RAPGEF1    2.040961e-02\n",
       "COL4A1     2.024992e-02\n",
       "PDGFA      2.000000e-02\n",
       "BIRC2      1.069188e-02\n",
       "PIP5K1C    1.000000e-02\n",
       "PDGFB      9.610390e-03\n",
       "FLT4       9.343146e-03\n",
       "FLT1       8.974359e-03\n",
       "PIK3R3     3.358327e-03\n",
       "GRB2       3.260685e-03\n",
       "FLNA       2.350768e-03\n",
       "PXN        1.845371e-17\n",
       "dtype: float64"
      ]
     },
     "execution_count": 102,
     "metadata": {},
     "output_type": "execute_result"
    }
   ],
   "source": [
    "\n",
    "feature_scores = pd.Series(model.feature_importances_, index=X_train.columns).sort_values(ascending=False)\n",
    "\n",
    "feature_scores"
   ]
  },
  {
   "cell_type": "code",
   "execution_count": 103,
   "id": "5b0454e6",
   "metadata": {},
   "outputs": [
    {
     "data": {
      "text/plain": [
       "Text(0.5, 0, 'Feature importance score')"
      ]
     },
     "execution_count": 103,
     "metadata": {},
     "output_type": "execute_result"
    },
    {
     "data": {
      "image/png": "[encoded data removed]",
      "text/plain": [
       "<Figure size 432x288 with 1 Axes>"
      ]
     },
     "metadata": {
      "needs_background": "light"
     },
     "output_type": "display_data"
    }
   ],
   "source": [
    "sns.barplot(x=feature_scores, y=feature_scores.index)\n",
    "plt.xlabel(\"Feature importance score\")"
   ]
  },
  {
   "cell_type": "code",
   "execution_count": 104,
   "id": "d63d678a",
   "metadata": {},
   "outputs": [],
   "source": [
    "import matplotlib.pyplot as plt\n",
    "from sklearn import metrics\n",
    "from sklearn.preprocessing import StandardScaler\n",
    "from sklearn.model_selection import GridSearchCV\n",
    "from sklearn.model_selection import RandomizedSearchCV\n",
    "from sklearn.metrics import RocCurveDisplay\n",
    "from sklearn.metrics import accuracy_score, confusion_matrix, roc_curve, roc_auc_score\n",
    "import matplotlib.pyplot as plt"
   ]
  },
  {
   "cell_type": "code",
   "execution_count": 105,
   "id": "e424bf8a",
   "metadata": {},
   "outputs": [],
   "source": [
    "# class balanced random forest for imbalanced classification\n",
    "from numpy import mean\n",
    "from sklearn.datasets import make_classification\n",
    "from sklearn.model_selection import cross_val_score\n",
    "from sklearn.model_selection import RepeatedStratifiedKFold"
   ]
  },
  {
   "cell_type": "code",
   "execution_count": 106,
   "id": "f56bacd5",
   "metadata": {},
   "outputs": [],
   "source": [
    "y_pred = model.predict(X_test)"
   ]
  },
  {
   "cell_type": "code",
   "execution_count": 107,
   "id": "82f4cae4",
   "metadata": {},
   "outputs": [
    {
     "name": "stdout",
     "output_type": "stream",
     "text": [
      "Confusion matrix\n",
      "\n",
      " [[27]]\n"
     ]
    }
   ],
   "source": [
    "from sklearn.metrics import confusion_matrix\n",
    "\n",
    "cm = confusion_matrix(y_test, y_pred)\n",
    "\n",
    "print('Confusion matrix\\n\\n', cm)"
   ]
  },
  {
   "cell_type": "code",
   "execution_count": 108,
   "id": "6eef2a66",
   "metadata": {},
   "outputs": [],
   "source": [
    "from sklearn.metrics import plot_confusion_matrix"
   ]
  },
  {
   "cell_type": "code",
   "execution_count": 109,
   "id": "5e62e217",
   "metadata": {},
   "outputs": [
    {
     "name": "stderr",
     "output_type": "stream",
     "text": [
      "C:\\Users\\liden\\anaconda3\\envs\\UNCG\\lib\\site-packages\\sklearn\\utils\\deprecation.py:87: FutureWarning:\n",
      "\n",
      "Function plot_confusion_matrix is deprecated; Function `plot_confusion_matrix` is deprecated in 1.0 and will be removed in 1.2. Use one of the class methods: ConfusionMatrixDisplay.from_predictions or ConfusionMatrixDisplay.from_estimator.\n",
      "\n"
     ]
    },
    {
     "data": {
      "image/png": "[encoded data removed]",
      "text/plain": [
       "<Figure size 432x288 with 2 Axes>"
      ]
     },
     "metadata": {
      "needs_background": "light"
     },
     "output_type": "display_data"
    }
   ],
   "source": [
    "plot_confusion_matrix(model, X_test, y_test)  \n",
    "plt.show()"
   ]
  },
  {
   "cell_type": "code",
   "execution_count": null,
   "id": "2d2e9835",
   "metadata": {},
   "outputs": [],
   "source": []
  },
  {
   "cell_type": "code",
   "execution_count": 110,
   "id": "53adf968",
   "metadata": {},
   "outputs": [
    {
     "name": "stdout",
     "output_type": "stream",
     "text": [
      "              precision    recall  f1-score   support\n",
      "\n",
      "           1       1.00      1.00      1.00        27\n",
      "\n",
      "    accuracy                           1.00        27\n",
      "   macro avg       1.00      1.00      1.00        27\n",
      "weighted avg       1.00      1.00      1.00        27\n",
      "\n"
     ]
    }
   ],
   "source": [
    "from sklearn.metrics import classification_report\n",
    "\n",
    "print(classification_report(y_test, y_pred))"
   ]
  },
  {
   "cell_type": "code",
   "execution_count": null,
   "id": "6add53a4",
   "metadata": {},
   "outputs": [],
   "source": []
  },
  {
   "cell_type": "code",
   "execution_count": 111,
   "id": "3edae970",
   "metadata": {},
   "outputs": [
    {
     "name": "stdout",
     "output_type": "stream",
     "text": [
      "Random undersampling Counter({1: 30, 0: 6})\n"
     ]
    }
   ],
   "source": [
    "from imblearn.datasets import make_imbalance\n",
    "X_rs, y_rs = make_imbalance(X_train, y_train, sampling_strategy={1: 30, 0: 6},\n",
    "                      random_state=0)\n",
    "print('Random undersampling {}'.format(Counter(y_rs)))\n"
   ]
  },
  {
   "cell_type": "code",
   "execution_count": 112,
   "id": "a2d9a4ed",
   "metadata": {},
   "outputs": [],
   "source": [
    "\n",
    "model1 = RandomForestClassifier(random_state=12)"
   ]
  },
  {
   "cell_type": "code",
   "execution_count": 113,
   "id": "7d419f28",
   "metadata": {},
   "outputs": [
    {
     "data": {
      "text/html": [
       "<style>#sk-container-id-6 {color: black;background-color: white;}#sk-container-id-6 pre{padding: 0;}#sk-container-id-6 div.sk-toggleable {background-color: white;}#sk-container-id-6 label.sk-toggleable__label {cursor: pointer;display: block;width: 100%;margin-bottom: 0;padding: 0.3em;box-sizing: border-box;text-align: center;}#sk-container-id-6 label.sk-toggleable__label-arrow:before {content: \"▸\";float: left;margin-right: 0.25em;color: #696969;}#sk-container-id-6 label.sk-toggleable__label-arrow:hover:before {color: black;}#sk-container-id-6 div.sk-estimator:hover label.sk-toggleable__label-arrow:before {color: black;}#sk-container-id-6 div.sk-toggleable__content {max-height: 0;max-width: 0;overflow: hidden;text-align: left;background-color: #f0f8ff;}#sk-container-id-6 div.sk-toggleable__content pre {margin: 0.2em;color: black;border-radius: 0.25em;background-color: #f0f8ff;}#sk-container-id-6 input.sk-toggleable__control:checked~div.sk-toggleable__content {max-height: 200px;max-width: 100%;overflow: auto;}#sk-container-id-6 input.sk-toggleable__control:checked~label.sk-toggleable__label-arrow:before {content: \"▾\";}#sk-container-id-6 div.sk-estimator input.sk-toggleable__control:checked~label.sk-toggleable__label {background-color: #d4ebff;}#sk-container-id-6 div.sk-label input.sk-toggleable__control:checked~label.sk-toggleable__label {background-color: #d4ebff;}#sk-container-id-6 input.sk-hidden--visually {border: 0;clip: rect(1px 1px 1px 1px);clip: rect(1px, 1px, 1px, 1px);height: 1px;margin: -1px;overflow: hidden;padding: 0;position: absolute;width: 1px;}#sk-container-id-6 div.sk-estimator {font-family: monospace;background-color: #f0f8ff;border: 1px dotted black;border-radius: 0.25em;box-sizing: border-box;margin-bottom: 0.5em;}#sk-container-id-6 div.sk-estimator:hover {background-color: #d4ebff;}#sk-container-id-6 div.sk-parallel-item::after {content: \"\";width: 100%;border-bottom: 1px solid gray;flex-grow: 1;}#sk-container-id-6 div.sk-label:hover label.sk-toggleable__label {background-color: #d4ebff;}#sk-container-id-6 div.sk-serial::before {content: \"\";position: absolute;border-left: 1px solid gray;box-sizing: border-box;top: 0;bottom: 0;left: 50%;z-index: 0;}#sk-container-id-6 div.sk-serial {display: flex;flex-direction: column;align-items: center;background-color: white;padding-right: 0.2em;padding-left: 0.2em;position: relative;}#sk-container-id-6 div.sk-item {position: relative;z-index: 1;}#sk-container-id-6 div.sk-parallel {display: flex;align-items: stretch;justify-content: center;background-color: white;position: relative;}#sk-container-id-6 div.sk-item::before, #sk-container-id-6 div.sk-parallel-item::before {content: \"\";position: absolute;border-left: 1px solid gray;box-sizing: border-box;top: 0;bottom: 0;left: 50%;z-index: -1;}#sk-container-id-6 div.sk-parallel-item {display: flex;flex-direction: column;z-index: 1;position: relative;background-color: white;}#sk-container-id-6 div.sk-parallel-item:first-child::after {align-self: flex-end;width: 50%;}#sk-container-id-6 div.sk-parallel-item:last-child::after {align-self: flex-start;width: 50%;}#sk-container-id-6 div.sk-parallel-item:only-child::after {width: 0;}#sk-container-id-6 div.sk-dashed-wrapped {border: 1px dashed gray;margin: 0 0.4em 0.5em 0.4em;box-sizing: border-box;padding-bottom: 0.4em;background-color: white;}#sk-container-id-6 div.sk-label label {font-family: monospace;font-weight: bold;display: inline-block;line-height: 1.2em;}#sk-container-id-6 div.sk-label-container {text-align: center;}#sk-container-id-6 div.sk-container {/* jupyter's `normalize.less` sets `[hidden] { display: none; }` but bootstrap.min.css set `[hidden] { display: none !important; }` so we also need the `!important` here to be able to override the default hidden behavior on the sphinx rendered scikit-learn.org. See: https://github.com/scikit-learn/scikit-learn/issues/21755 */display: inline-block !important;position: relative;}#sk-container-id-6 div.sk-text-repr-fallback {display: none;}</style><div id=\"sk-container-id-6\" class=\"sk-top-container\"><div class=\"sk-text-repr-fallback\"><pre>RandomForestClassifier(random_state=12)</pre><b>In a Jupyter environment, please rerun this cell to show the HTML representation or trust the notebook. <br />On GitHub, the HTML representation is unable to render, please try loading this page with nbviewer.org.</b></div><div class=\"sk-container\" hidden><div class=\"sk-item\"><div class=\"sk-estimator sk-toggleable\"><input class=\"sk-toggleable__control sk-hidden--visually\" id=\"sk-estimator-id-6\" type=\"checkbox\" checked><label for=\"sk-estimator-id-6\" class=\"sk-toggleable__label sk-toggleable__label-arrow\">RandomForestClassifier</label><div class=\"sk-toggleable__content\"><pre>RandomForestClassifier(random_state=12)</pre></div></div></div></div></div>"
      ],
      "text/plain": [
       "RandomForestClassifier(random_state=12)"
      ]
     },
     "execution_count": 113,
     "metadata": {},
     "output_type": "execute_result"
    }
   ],
   "source": [
    "model1.fit(X_rs, y_rs)"
   ]
  },
  {
   "cell_type": "code",
   "execution_count": 114,
   "id": "a30396e6",
   "metadata": {},
   "outputs": [
    {
     "data": {
      "text/plain": [
       "array([0.15528916, 0.05899232, 0.04681841, 0.02853976, 0.05237048,\n",
       "       0.03140093, 0.01559437, 0.01847042, 0.04000831, 0.05524657,\n",
       "       0.03585859, 0.03800692, 0.01275963, 0.002886  , 0.02020202,\n",
       "       0.01154401, 0.0702001 , 0.04036797, 0.05785124, 0.04877763,\n",
       "       0.003299  , 0.00275482, 0.09239503, 0.01010101, 0.05026531])"
      ]
     },
     "execution_count": 114,
     "metadata": {},
     "output_type": "execute_result"
    }
   ],
   "source": [
    "model1.feature_importances_"
   ]
  },
  {
   "cell_type": "code",
   "execution_count": 115,
   "id": "de70e5a9",
   "metadata": {},
   "outputs": [
    {
     "data": {
      "text/plain": [
       "ZYX        0.155289\n",
       "CCND1      0.092395\n",
       "VAV2       0.070200\n",
       "CRK        0.058992\n",
       "ITGA5      0.057851\n",
       "PIP5K1C    0.055247\n",
       "COL4A1     0.052370\n",
       "BIRC2      0.050265\n",
       "PDGFA      0.048778\n",
       "COL4A2     0.046818\n",
       "RAPGEF1    0.040368\n",
       "FLT4       0.040008\n",
       "TLN1       0.038007\n",
       "ACTN4      0.035859\n",
       "VEGFC      0.031401\n",
       "ITGA3      0.028540\n",
       "ILK        0.020202\n",
       "FLT1       0.018470\n",
       "PDGFRB     0.015594\n",
       "FLNA       0.012760\n",
       "PIK3R3     0.011544\n",
       "PIK3R1     0.010101\n",
       "PDGFB      0.003299\n",
       "PXN        0.002886\n",
       "GRB2       0.002755\n",
       "dtype: float64"
      ]
     },
     "execution_count": 115,
     "metadata": {},
     "output_type": "execute_result"
    }
   ],
   "source": [
    "feature_scores = pd.Series(model1.feature_importances_, index=X_train.columns).sort_values(ascending=False)\n",
    "\n",
    "feature_scores"
   ]
  },
  {
   "cell_type": "code",
   "execution_count": 116,
   "id": "4a9760d5",
   "metadata": {},
   "outputs": [
    {
     "data": {
      "text/plain": [
       "Text(0.5, 0, 'Feature importance score')"
      ]
     },
     "execution_count": 116,
     "metadata": {},
     "output_type": "execute_result"
    },
    {
     "data": {
      "image/png": "[encoded data removed]",
      "text/plain": [
       "<Figure size 432x288 with 1 Axes>"
      ]
     },
     "metadata": {
      "needs_background": "light"
     },
     "output_type": "display_data"
    }
   ],
   "source": [
    "sns.barplot(x=feature_scores, y=feature_scores.index)\n",
    "plt.xlabel(\"Feature importance score\")"
   ]
  },
  {
   "cell_type": "code",
   "execution_count": 117,
   "id": "3e1f1c72",
   "metadata": {},
   "outputs": [],
   "source": [
    "from imblearn.over_sampling import (RandomOverSampler, \n",
    "                                    SMOTE, \n",
    "                                    ADASYN)\n",
    "from collections import Counter"
   ]
  },
  {
   "cell_type": "code",
   "execution_count": 118,
   "id": "e6a3d279",
   "metadata": {},
   "outputs": [
    {
     "name": "stdout",
     "output_type": "stream",
     "text": [
      "Random undersampling Counter({1: 80, 0: 40})\n"
     ]
    },
    {
     "name": "stderr",
     "output_type": "stream",
     "text": [
      "C:\\Users\\liden\\anaconda3\\envs\\UNCG\\lib\\site-packages\\imblearn\\utils\\_validation.py:299: UserWarning:\n",
      "\n",
      "After over-sampling, the number of samples (80) in class 1 will be larger than the number of samples in the majority class (class #1 -> 74)\n",
      "\n"
     ]
    }
   ],
   "source": [
    "sampler = RandomOverSampler(sampling_strategy={1: 80, 0: 40})\n",
    "X_rs, y_rs = sampler.fit_resample(X_train, y_train)\n",
    "print('Random undersampling {}'.format(Counter(y_rs)))\n"
   ]
  },
  {
   "cell_type": "code",
   "execution_count": 119,
   "id": "9aa33f08",
   "metadata": {},
   "outputs": [],
   "source": [
    "model2 = RandomForestClassifier(random_state=12)"
   ]
  },
  {
   "cell_type": "code",
   "execution_count": 120,
   "id": "af7f5556",
   "metadata": {},
   "outputs": [
    {
     "data": {
      "text/html": [
       "<style>#sk-container-id-7 {color: black;background-color: white;}#sk-container-id-7 pre{padding: 0;}#sk-container-id-7 div.sk-toggleable {background-color: white;}#sk-container-id-7 label.sk-toggleable__label {cursor: pointer;display: block;width: 100%;margin-bottom: 0;padding: 0.3em;box-sizing: border-box;text-align: center;}#sk-container-id-7 label.sk-toggleable__label-arrow:before {content: \"▸\";float: left;margin-right: 0.25em;color: #696969;}#sk-container-id-7 label.sk-toggleable__label-arrow:hover:before {color: black;}#sk-container-id-7 div.sk-estimator:hover label.sk-toggleable__label-arrow:before {color: black;}#sk-container-id-7 div.sk-toggleable__content {max-height: 0;max-width: 0;overflow: hidden;text-align: left;background-color: #f0f8ff;}#sk-container-id-7 div.sk-toggleable__content pre {margin: 0.2em;color: black;border-radius: 0.25em;background-color: #f0f8ff;}#sk-container-id-7 input.sk-toggleable__control:checked~div.sk-toggleable__content {max-height: 200px;max-width: 100%;overflow: auto;}#sk-container-id-7 input.sk-toggleable__control:checked~label.sk-toggleable__label-arrow:before {content: \"▾\";}#sk-container-id-7 div.sk-estimator input.sk-toggleable__control:checked~label.sk-toggleable__label {background-color: #d4ebff;}#sk-container-id-7 div.sk-label input.sk-toggleable__control:checked~label.sk-toggleable__label {background-color: #d4ebff;}#sk-container-id-7 input.sk-hidden--visually {border: 0;clip: rect(1px 1px 1px 1px);clip: rect(1px, 1px, 1px, 1px);height: 1px;margin: -1px;overflow: hidden;padding: 0;position: absolute;width: 1px;}#sk-container-id-7 div.sk-estimator {font-family: monospace;background-color: #f0f8ff;border: 1px dotted black;border-radius: 0.25em;box-sizing: border-box;margin-bottom: 0.5em;}#sk-container-id-7 div.sk-estimator:hover {background-color: #d4ebff;}#sk-container-id-7 div.sk-parallel-item::after {content: \"\";width: 100%;border-bottom: 1px solid gray;flex-grow: 1;}#sk-container-id-7 div.sk-label:hover label.sk-toggleable__label {background-color: #d4ebff;}#sk-container-id-7 div.sk-serial::before {content: \"\";position: absolute;border-left: 1px solid gray;box-sizing: border-box;top: 0;bottom: 0;left: 50%;z-index: 0;}#sk-container-id-7 div.sk-serial {display: flex;flex-direction: column;align-items: center;background-color: white;padding-right: 0.2em;padding-left: 0.2em;position: relative;}#sk-container-id-7 div.sk-item {position: relative;z-index: 1;}#sk-container-id-7 div.sk-parallel {display: flex;align-items: stretch;justify-content: center;background-color: white;position: relative;}#sk-container-id-7 div.sk-item::before, #sk-container-id-7 div.sk-parallel-item::before {content: \"\";position: absolute;border-left: 1px solid gray;box-sizing: border-box;top: 0;bottom: 0;left: 50%;z-index: -1;}#sk-container-id-7 div.sk-parallel-item {display: flex;flex-direction: column;z-index: 1;position: relative;background-color: white;}#sk-container-id-7 div.sk-parallel-item:first-child::after {align-self: flex-end;width: 50%;}#sk-container-id-7 div.sk-parallel-item:last-child::after {align-self: flex-start;width: 50%;}#sk-container-id-7 div.sk-parallel-item:only-child::after {width: 0;}#sk-container-id-7 div.sk-dashed-wrapped {border: 1px dashed gray;margin: 0 0.4em 0.5em 0.4em;box-sizing: border-box;padding-bottom: 0.4em;background-color: white;}#sk-container-id-7 div.sk-label label {font-family: monospace;font-weight: bold;display: inline-block;line-height: 1.2em;}#sk-container-id-7 div.sk-label-container {text-align: center;}#sk-container-id-7 div.sk-container {/* jupyter's `normalize.less` sets `[hidden] { display: none; }` but bootstrap.min.css set `[hidden] { display: none !important; }` so we also need the `!important` here to be able to override the default hidden behavior on the sphinx rendered scikit-learn.org. See: https://github.com/scikit-learn/scikit-learn/issues/21755 */display: inline-block !important;position: relative;}#sk-container-id-7 div.sk-text-repr-fallback {display: none;}</style><div id=\"sk-container-id-7\" class=\"sk-top-container\"><div class=\"sk-text-repr-fallback\"><pre>RandomForestClassifier(random_state=12)</pre><b>In a Jupyter environment, please rerun this cell to show the HTML representation or trust the notebook. <br />On GitHub, the HTML representation is unable to render, please try loading this page with nbviewer.org.</b></div><div class=\"sk-container\" hidden><div class=\"sk-item\"><div class=\"sk-estimator sk-toggleable\"><input class=\"sk-toggleable__control sk-hidden--visually\" id=\"sk-estimator-id-7\" type=\"checkbox\" checked><label for=\"sk-estimator-id-7\" class=\"sk-toggleable__label sk-toggleable__label-arrow\">RandomForestClassifier</label><div class=\"sk-toggleable__content\"><pre>RandomForestClassifier(random_state=12)</pre></div></div></div></div></div>"
      ],
      "text/plain": [
       "RandomForestClassifier(random_state=12)"
      ]
     },
     "execution_count": 120,
     "metadata": {},
     "output_type": "execute_result"
    }
   ],
   "source": [
    "model2.fit(X_rs, y_rs)"
   ]
  },
  {
   "cell_type": "code",
   "execution_count": 121,
   "id": "9ddca481",
   "metadata": {},
   "outputs": [
    {
     "data": {
      "text/plain": [
       "array([2.08677445e-01, 1.29616692e-01, 1.14621850e-01, 1.03861036e-01,\n",
       "       1.48040474e-03, 8.64478257e-03, 3.62181128e-02, 6.94677871e-05,\n",
       "       5.43986618e-02, 1.11765760e-02, 4.53295165e-02, 4.71893644e-02,\n",
       "       2.42183742e-03, 1.09462297e-03, 1.02281521e-03, 1.06696810e-03,\n",
       "       5.44249268e-02, 3.89625744e-02, 7.88712555e-02, 0.00000000e+00,\n",
       "       0.00000000e+00, 7.00323126e-03, 3.87430294e-02, 4.62475432e-03,\n",
       "       1.04800739e-02])"
      ]
     },
     "execution_count": 121,
     "metadata": {},
     "output_type": "execute_result"
    }
   ],
   "source": [
    "model2.feature_importances_"
   ]
  },
  {
   "cell_type": "code",
   "execution_count": 122,
   "id": "3a6252f0",
   "metadata": {},
   "outputs": [
    {
     "data": {
      "text/plain": [
       "ZYX        0.208677\n",
       "CRK        0.129617\n",
       "COL4A2     0.114622\n",
       "ITGA3      0.103861\n",
       "ITGA5      0.078871\n",
       "VAV2       0.054425\n",
       "FLT4       0.054399\n",
       "TLN1       0.047189\n",
       "ACTN4      0.045330\n",
       "RAPGEF1    0.038963\n",
       "CCND1      0.038743\n",
       "PDGFRB     0.036218\n",
       "PIP5K1C    0.011177\n",
       "BIRC2      0.010480\n",
       "VEGFC      0.008645\n",
       "GRB2       0.007003\n",
       "PIK3R1     0.004625\n",
       "FLNA       0.002422\n",
       "COL4A1     0.001480\n",
       "PXN        0.001095\n",
       "PIK3R3     0.001067\n",
       "ILK        0.001023\n",
       "FLT1       0.000069\n",
       "PDGFA      0.000000\n",
       "PDGFB      0.000000\n",
       "dtype: float64"
      ]
     },
     "execution_count": 122,
     "metadata": {},
     "output_type": "execute_result"
    }
   ],
   "source": [
    "feature_scores = pd.Series(model2.feature_importances_, index=X_train.columns).sort_values(ascending=False)\n",
    "\n",
    "feature_scores"
   ]
  },
  {
   "cell_type": "code",
   "execution_count": null,
   "id": "a86e36af",
   "metadata": {},
   "outputs": [],
   "source": []
  }
 ],
 "metadata": {
  "kernelspec": {
   "display_name": "Python 3 (ipykernel)",
   "language": "python",
   "name": "python3"
  },
  "language_info": {
   "codemirror_mode": {
    "name": "ipython",
    "version": 3
   },
   "file_extension": ".py",
   "mimetype": "text/x-python",
   "name": "python",
   "nbconvert_exporter": "python",
   "pygments_lexer": "ipython3",
   "version": "3.8.12"
  }
 },
 "nbformat": 4,
 "nbformat_minor": 5
}
